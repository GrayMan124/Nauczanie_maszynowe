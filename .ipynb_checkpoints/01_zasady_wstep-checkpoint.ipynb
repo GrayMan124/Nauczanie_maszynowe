{
 "cells": [
  {
   "cell_type": "markdown",
   "metadata": {},
   "source": [
    "# Zasady zaliczenia ćwiczeń\n",
    "\n",
    "## Obecność\n",
    "\n",
    "Obecność na ćwiczeniach **jest** obowiązkowa.\n",
    "* można mieć co najwyżej dwie nieobecności na ćwiczeniach\n",
    "* nieobecność nie zwalnia z obowiązku oddawania zadań\n",
    "\n",
    "W przypadku zajęć zdalnych: obecność na ćwiczeniach nie jest obowiązkowa\n",
    "* ze względu na formę ćwiczeń (zdalną) frekwencja na zajęciach nie jest sprawdzana\n",
    "* nie zwalnia to oczywiście z obowiązku oddawania prac domowych\n",
    "\n",
    "## Ocena z ćwiczeń\n",
    "\n",
    "Ocena z ćwiczeń będzie opierać się na cotygodniowych zadaniach domowych oraz dużym projekcie semestralnym.\n",
    "\n",
    "### Prace domowe\n",
    "W trakcie każdych zajęć studenci otrzymają do wypełnienia notebooka z ćwiczeniami. **Na początku semestru należy założyć prywatne repozytorium na GitHubie przeznaczone na rozwiązane notebooki oraz dać dostęp do repozytorium prowadzącemu ćwiczenia.** Każdy notebook będzie podlegał ocenie.\n",
    "\n",
    "Każdy notebook należy rozwiązać i wysłać prowadzącemu w przeciągu tygodnia, do godziny 23:59 w dniu poprzedzającym kolejne zajęcia, tzn:\n",
    "- Grupy czwartkowe: do środy 23:59\n",
    "- Grupy piątkowe: do czwartku 23:59\n",
    "- Każdy notebook będzie oceniany w przedziale 0-7 punktów. Prac domowych w formie notebooków będzie co najmniej 10, a suma punktów ze wszystkich zostanie przeskalowana do 50.\n",
    "- Rozwiązania zadań muszą spełniać następujące kryteria:\n",
    "  - kod musi być czytelny i zwięzły (w razie wątpliwości proszę stosować się do standardu PEP 8),\n",
    "  - kod musi być przetestowany i poprawnie działać,\n",
    "  - jeśli do zadania dodane są asserty/testy, kod musi je przechodzić,\n",
    "  - rozwiązanie musi zostać wysłane w terminie,\n",
    "  - na następnych zajęciach student może być poproszony o przedstawienie fragmentu lub całości rozwiązania i wytłumaczenie działania kodu.\n",
    "\n",
    "Osoby dołączające do zajęć w późniejszym terminie muszą liczyć się z faktem, iż nie mogą otrzymać punktów za zaległe zadania.\n",
    "\n",
    "Rozwiązania notebooków do wglądu dodawane będą do repozytorium po upływie terminów oddania wszystkich grup. \n",
    "\n",
    "### Projekt semestralny\n",
    "Do końca października należy wybrać temat projektu semestralnego. W najbliższym czasie zostanie udostępniona lista proponowanych tematów ale zdecydowanie zachęcamy do proponowania własnego tematu. Dodatkowo zachęcamy również wykorzystać ten projekt jako pretekst do wspołpracy naukowej z członkami grupy GMUM. W szczególności projekt może być wykonywany w ramach przedmiotu Projekt Indywidualny obowiązkowego dla studentów 1. roku drugiego stopnia kierunku Informatyka.\n",
    "\n",
    "- Za projekt można otrzymać 50 punktów. Projekt będzie oceniany pod względem zgodności z tematem, pomysłowości oraz włożonej pracy.\n",
    "- Szczegóły dotyczące termin oddawania projektów zostaną podane razem z proponowanymi tematami projektów.\n",
    "- Do projektu należy dołączyć raport w formacie PDF, długości maksymalnie 2 stron, opisujący działanie projektu oraz sposób jego przetestowania.\n",
    "- Projekt należy obronić - zostaną na to przeznaczone jedne zajęcia, a także będzie można to zrobić w trakcie konsultacji.\n",
    "- Istnieje możliwość wykonywania projektu semestralnego w grupach dwuosobowych. Należy pamiętać, że wtedy wkład każdej osoby będzie oceniany osobno.\n",
    "\n",
    "\n",
    "Z całego przedmiotu można otrzymać maksymalnie 100 punktów.\n",
    "Skala ocen z ćwiczeń\n",
    "* 0-49 pkt: 2\n",
    "* 50-59 pkt: 3\n",
    "* 60-69 pkt: 3,5\n",
    "* 70-79 pkt: 4\n",
    "* 80-89 pkt: 4,5\n",
    "* 90-100 pkt: 5\n",
    "\n",
    "#### Zwolnienie z egzaminu\n",
    "W każdej grupie spośród studentów wybrane zostaną maksymalnie cztery osoby, które wykonały najlepsze projekty semestralne i obroniły je w formie prezentacji dla całej grupy najpóźniej na ostatnich ćwiczeniach. Osoby te będą zwolnione z egzaminu i automatycznie otrzymają ocenę 5.0 z całego przedmiotu."
   ]
  },
  {
   "cell_type": "markdown",
   "metadata": {},
   "source": [
    "# Środowisko pracy\n",
    "\n",
    "Na zajęciach będziemy korzystać z języka Python w wersji 3.7 oraz zestawu konkretnych pakietów. Na własną odpowiedzialność można korzystać z innych wersji Pythona. Poprzednie wersje Pythona (w szczególności 2.x) są niezalecane!\n",
    "\n",
    "## Lokalnie\n",
    "\n",
    "1. Ściągnąć repozytorium przedmiotu: `git clone https://github.com/gmum/ml2020-21`  \n",
    "(Można również ściągnąć zipa repozytorium \"ręcznie\")\n",
    "\n",
    "\n",
    "2. Sciągnąć miniconde: https://conda.io/en/latest/miniconda.html (Niewymagane jeśli zainstalowana jest `Anaconda`)  \n",
    "Na windowsie: uruchomić `Anaconda Prompt`\n",
    "\n",
    "\n",
    "3. Stworzyć środowisko razem z wymaganymi paczkami:  \n",
    "```\n",
    "conda create --name ml python=3.7 numpy=1.19.1 scipy=1.5.2 matplotlib=3.1.1 scikit-learn=0.23.2 jupyter notebook\n",
    "```\n",
    "\n",
    "\n",
    "4. Aktywować środowisko:  \n",
    "Unix/MacOS: `conda activate ml`  \n",
    "Windows: w `Anaconda Prompt`: `activate ml`\n",
    "\n",
    "\n",
    "5. OPCJONALNIE: Doinstalować PyTorcha: https://pytorch.org/  \n",
    " * GPU: `conda install pytorch torchvision cudatoolkit=10.2 -c pytorch`\n",
    " * CPU only: `conda install pytorch torchvision cpuonly  -c pytorch`\n",
    "\n",
    "\n",
    "6. W folderze repo odpalić serwer jupytera: `jupyter notebook`\n",
    "\n",
    "\n",
    "7. Sprawdzić w przeglądarce czy wszystko działa\n",
    "\n",
    "### Test środowiska"
   ]
  },
  {
   "cell_type": "code",
   "execution_count": 2,
   "metadata": {},
   "outputs": [],
   "source": [
    "import matplotlib\n",
    "import numpy as np\n",
    "import scipy\n",
    "import sklearn\n",
    "import torch  # uncomment if necessary"
   ]
  },
  {
   "cell_type": "markdown",
   "metadata": {},
   "source": [
    "## Colaboratory (opcjonalnie)\n",
    "W przyszłości do notebooków mogą być potrzebne większe zasoby obliczeniowe. W tym celu będziemy korzystać z narzędzia Google Colaboratory, które udostępnia za darmo dostęp do GPU. Opcjonalnie można teraz przetestować jego działanie:\n",
    "\n",
    "1. Wrzucić folder z repo na swojego Google Drive.\n",
    "\n",
    "2. Otworzyć ten plik i z dostępnych aplikacji wybrać `Colaboratory`\n",
    "\n",
    "3. Sprawdzić powyższą komórką czy wszystko działa."
   ]
  },
  {
   "cell_type": "markdown",
   "metadata": {},
   "source": [
    "# Wstęp do pakietów naukowych: NumPy\n",
    "\n",
    "Na początek polecam zaznajomić się z podstawami NumPy, polecany tutorial na kompletny wstęp: https://numpy.org/devdocs/user/absolute_beginners.html\n",
    "Dodatkowo z kolejnej części https://numpy.org/devdocs/user/basics.html warto zaznajomić się z: Data types, Array creation, Indexing, Broadcasting.\n",
    "\n",
    "Rada ogólna: nie bać się googlania i czytania dokumentacji.\n",
    "\n",
    "**Kolejne zajęcia będą zakładać znajomość podstaw korzystania z numpy. Dla osób, które nie potrafią samodzielnie wykonać poniższych ćwiczeń, przetworzenie materiału z powyższych poradników jest obowiązkowe.**"
   ]
  },
  {
   "cell_type": "markdown",
   "metadata": {},
   "source": [
    "### Zadanie 1.\n",
    "Używając funkcji [`np.random.normal`](https://docs.scipy.org/doc/numpy-1.15.0/reference/generated/numpy.random.normal.html) wylosować dwie macierze **różnych** rozmiarów, i następnie przenożyć je przez siebie macierzowo tak aby otrzymać macierz rozmiaru `9x6`."
   ]
  },
  {
   "cell_type": "code",
   "execution_count": 3,
   "metadata": {},
   "outputs": [],
   "source": [
    "A = np.random.normal(size=(9,3))\n",
    "B = np.random.normal(size=(3,6))\n",
    "\n",
    "C = np.matmul(A,B)\n",
    "\n",
    "assert A.shape != B.shape\n",
    "assert C.shape == (9,6)"
   ]
  },
  {
   "cell_type": "markdown",
   "metadata": {},
   "source": [
    "### Zadanie 2.\n",
    "\n",
    "Zaimplementować funkcje $\\sigma$, która przyjmuje macierz numpy $X$ (**uwaga**: nie mylić z `np.matrix`!) i zwraca macierz tego samego rozmiaru z wartościami fukncji:\n",
    "$$\\sigma(x) = \\frac{1}{1 + e^{-x}}$$\n",
    "odpowiednio dla każdego $x$.\n",
    "\n",
    "Hint: [`np.e`](https://docs.scipy.org/doc/numpy/reference/constants.html#numpy.e)"
   ]
  },
  {
   "cell_type": "code",
   "execution_count": 4,
   "metadata": {},
   "outputs": [],
   "source": [
    "def sigmoid(x: np.ndarray) -> np.ndarray:\n",
    "    X=1/(1+np.exp(-x))\n",
    "    return X\n",
    "    \n",
    "    \n",
    "X = np.random.uniform(low=-10, high=10, size=(1000, 2000))\n",
    "\n",
    "assert sigmoid(X).max() <= 1.\n",
    "assert sigmoid(X).min() >= 0."
   ]
  },
  {
   "cell_type": "code",
   "execution_count": 5,
   "metadata": {},
   "outputs": [
    {
     "name": "stdout",
     "output_type": "stream",
     "text": [
      "32.5 ms ± 687 µs per loop (mean ± std. dev. of 7 runs, 10 loops each)\n"
     ]
    }
   ],
   "source": [
    "%%timeit n=10\n",
    "sigmoid(X)"
   ]
  },
  {
   "cell_type": "markdown",
   "metadata": {},
   "source": [
    "### Zadanie 3.\n",
    "Unstandaryzować wartości w macierzy $X$ per kolumna, tzn. dla każdej wartości $x$ w kolumnie wykonać:\n",
    "\n",
    "$$ f(x_{ij}) = \\frac{x_{ij} - \\mu_j}{\\sigma_j} $$\n",
    "\n",
    "gdzie $\\mu_j$ to średnia wartość kolumny $j$, a $\\sigma_j$ to odchylenie standardowe kolumny $j$."
   ]
  },
  {
   "cell_type": "code",
   "execution_count": 10,
   "metadata": {},
   "outputs": [],
   "source": [
    "X = np.random.uniform(low=-10, high=10, size=(100, 10))\n",
    "\n",
    "X_hat = (X - np.mean(X,axis=0))/np.std(X,axis=0)\n",
    "\n",
    "\n",
    "assert np.allclose(X_hat.mean(0), 0.)\n",
    "assert np.allclose(X_hat.std(0), 1.)"
   ]
  },
  {
   "cell_type": "code",
   "execution_count": null,
   "metadata": {},
   "outputs": [],
   "source": []
  }
 ],
 "metadata": {
  "kernelspec": {
   "display_name": "Python 3",
   "language": "python",
   "name": "python3"
  },
  "language_info": {
   "codemirror_mode": {
    "name": "ipython",
    "version": 3
   },
   "file_extension": ".py",
   "mimetype": "text/x-python",
   "name": "python",
   "nbconvert_exporter": "python",
   "pygments_lexer": "ipython3",
   "version": "3.9.0"
  }
 },
 "nbformat": 4,
 "nbformat_minor": 4
}
