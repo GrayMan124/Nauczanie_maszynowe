{
 "cells": [
  {
   "cell_type": "code",
   "execution_count": 1,
   "id": "71bce2b9-f5c3-4421-b2c0-d774fcc0466e",
   "metadata": {},
   "outputs": [],
   "source": [
    "import torch\n",
    "import pandas as pd\n",
    "import matplotlib.pyplot as plt\n",
    "from torchvision.transforms import Normalize\n",
    "# from collections import namedtuple\n",
    "\n",
    "#importing Technical Analysis tools\n",
    "from ta import trend\n",
    "from ta import volatility\n",
    "from ta import momentum\n",
    "\n",
    "from utils import return_fun"
   ]
  },
  {
   "cell_type": "code",
   "execution_count": 2,
   "id": "6eec1110-19be-4915-b713-7232ebf93a46",
   "metadata": {},
   "outputs": [
    {
     "data": {
      "text/plain": [
       "True"
      ]
     },
     "execution_count": 2,
     "metadata": {},
     "output_type": "execute_result"
    }
   ],
   "source": [
    "torch.cuda.is_available()"
   ]
  },
  {
   "cell_type": "code",
   "execution_count": 3,
   "id": "e210bf6c-8305-4ddd-9a7f-bed33ca216f0",
   "metadata": {},
   "outputs": [],
   "source": [
    "sx5e_data=pd.read_csv(\"data\\SX5E.csv\")"
   ]
  },
  {
   "cell_type": "code",
   "execution_count": 4,
   "id": "8758be68-ee9c-41b5-bf05-8b84e707efff",
   "metadata": {},
   "outputs": [
    {
     "data": {
      "text/html": [
       "<div>\n",
       "<style scoped>\n",
       "    .dataframe tbody tr th:only-of-type {\n",
       "        vertical-align: middle;\n",
       "    }\n",
       "\n",
       "    .dataframe tbody tr th {\n",
       "        vertical-align: top;\n",
       "    }\n",
       "\n",
       "    .dataframe thead th {\n",
       "        text-align: right;\n",
       "    }\n",
       "</style>\n",
       "<table border=\"1\" class=\"dataframe\">\n",
       "  <thead>\n",
       "    <tr style=\"text-align: right;\">\n",
       "      <th></th>\n",
       "      <th>Date</th>\n",
       "      <th>Open</th>\n",
       "      <th>High</th>\n",
       "      <th>Low</th>\n",
       "      <th>Close</th>\n",
       "    </tr>\n",
       "  </thead>\n",
       "  <tbody>\n",
       "    <tr>\n",
       "      <th>0</th>\n",
       "      <td>12/10/21</td>\n",
       "      <td>4198.18</td>\n",
       "      <td>4221.57</td>\n",
       "      <td>4178.66</td>\n",
       "      <td>4199.16</td>\n",
       "    </tr>\n",
       "    <tr>\n",
       "      <th>1</th>\n",
       "      <td>12/09/21</td>\n",
       "      <td>4242.66</td>\n",
       "      <td>4246.52</td>\n",
       "      <td>4201.85</td>\n",
       "      <td>4208.30</td>\n",
       "    </tr>\n",
       "    <tr>\n",
       "      <th>2</th>\n",
       "      <td>12/08/21</td>\n",
       "      <td>4273.32</td>\n",
       "      <td>4288.20</td>\n",
       "      <td>4233.09</td>\n",
       "      <td>4233.09</td>\n",
       "    </tr>\n",
       "    <tr>\n",
       "      <th>3</th>\n",
       "      <td>12/07/21</td>\n",
       "      <td>4157.72</td>\n",
       "      <td>4277.03</td>\n",
       "      <td>4157.72</td>\n",
       "      <td>4276.20</td>\n",
       "    </tr>\n",
       "    <tr>\n",
       "      <th>4</th>\n",
       "      <td>12/06/21</td>\n",
       "      <td>4095.39</td>\n",
       "      <td>4146.16</td>\n",
       "      <td>4078.64</td>\n",
       "      <td>4137.11</td>\n",
       "    </tr>\n",
       "  </tbody>\n",
       "</table>\n",
       "</div>"
      ],
      "text/plain": [
       "       Date     Open     High      Low    Close\n",
       "0  12/10/21  4198.18  4221.57  4178.66  4199.16\n",
       "1  12/09/21  4242.66  4246.52  4201.85  4208.30\n",
       "2  12/08/21  4273.32  4288.20  4233.09  4233.09\n",
       "3  12/07/21  4157.72  4277.03  4157.72  4276.20\n",
       "4  12/06/21  4095.39  4146.16  4078.64  4137.11"
      ]
     },
     "execution_count": 4,
     "metadata": {},
     "output_type": "execute_result"
    }
   ],
   "source": [
    "sx5e_data.head()"
   ]
  },
  {
   "cell_type": "code",
   "execution_count": 5,
   "id": "0478fac2-175f-49c8-9ecb-a86b1c93e1e6",
   "metadata": {},
   "outputs": [
    {
     "name": "stderr",
     "output_type": "stream",
     "text": [
      "C:\\Users\\aczer\\AppData\\Local\\Programs\\Python\\Python39\\lib\\site-packages\\ta\\trend.py:780: RuntimeWarning: invalid value encountered in scalar divide\n",
      "  dip[idx] = 100 * (self._dip[idx] / value)\n",
      "C:\\Users\\aczer\\AppData\\Local\\Programs\\Python\\Python39\\lib\\site-packages\\ta\\trend.py:785: RuntimeWarning: invalid value encountered in scalar divide\n",
      "  din[idx] = 100 * (self._din[idx] / value)\n"
     ]
    }
   ],
   "source": [
    "sx5e_data = sx5e_data.sort_index(axis=0 ,ascending=False)\n",
    "sx5e_data.reset_index(drop=True,inplace=True)\n",
    "sx5e_data.drop(columns=['Date'],inplace=True)\n",
    "\n",
    "# sx5e_data['Return']=ret_fun\n",
    "sx5e_data.dropna(inplace=True)\n",
    "\n",
    "\n",
    "adi=trend.ADXIndicator(close=sx5e_data[' Close'],high=sx5e_data[' High'],low=sx5e_data[' Low'])\n",
    "m_acd=trend.MACD(close=sx5e_data[' Close'])\n",
    "\n",
    "r_si=momentum.RSIIndicator(close=sx5e_data[' Close'])\n",
    "stochastic_oscilator=momentum.StochasticOscillator(close=sx5e_data[' Close'],high=sx5e_data[' High'],low=sx5e_data[' Low'])\n",
    "williamsr=momentum.WilliamsRIndicator(high=sx5e_data[' High'],low=sx5e_data[' Low'],close=sx5e_data[' Close'])\n",
    "\n",
    "bollinger=volatility.BollingerBands(close=sx5e_data[' Close'])\n",
    "atr=volatility.AverageTrueRange(high=sx5e_data[' High'],low=sx5e_data[' Low'],close=sx5e_data[' Close'])\n",
    "\n",
    "exponential_moving_avarge9=trend.EMAIndicator(close=sx5e_data[' Close'],window=9)\n",
    "exponential_moving_avarge18=trend.EMAIndicator(close=sx5e_data[' Close'],window=18)\n",
    "exponential_moving_avarge30=trend.EMAIndicator(close=sx5e_data[' Close'],window=30)\n",
    "\n",
    "sx5e_data['ADX']=adi.adx()\n",
    "sx5e_data['MACD']=m_acd.macd()\n",
    "sx5e_data['RSI']=r_si.rsi()\n",
    "sx5e_data['Stoch Osc']=stochastic_oscilator.stoch()\n",
    "sx5e_data['Williams R']=williamsr.williams_r()\n",
    "sx5e_data['Bollinger High band']=bollinger.bollinger_hband()\n",
    "sx5e_data['Bolinger Low Band']=bollinger.bollinger_lband()\n",
    "sx5e_data['ATR']=atr.average_true_range()\n",
    "sx5e_data['EMA9']=exponential_moving_avarge9.ema_indicator()\n",
    "sx5e_data['EMA18']=exponential_moving_avarge18.ema_indicator()\n",
    "sx5e_data['EMA30']=exponential_moving_avarge30.ema_indicator()\n",
    "sx5e_data.dropna(inplace=True)\n",
    "ret_fun=return_fun(sx5e_data,1,3)"
   ]
  },
  {
   "cell_type": "code",
   "execution_count": 6,
   "id": "2a8c5f6d-7f73-4414-9e09-0c547cf629ac",
   "metadata": {},
   "outputs": [
    {
     "name": "stdout",
     "output_type": "stream",
     "text": [
      "3077\n",
      "3076\n",
      "tensor([-0.2160,  0.3504,  1.3764,  ..., -1.0081, -0.5856, -0.2172])\n"
     ]
    }
   ],
   "source": [
    "type(ret_fun[1])\n",
    "# tensor_return=torch.Tensor(ret_fun)\n",
    "print(len(ret_fun))\n",
    "ret_fun.remove(None)\n",
    "print(len(ret_fun))\n",
    "tensor_ret=torch.tensor(ret_fun,dtype=torch.float32)\n",
    "print(tensor_ret)"
   ]
  },
  {
   "cell_type": "code",
   "execution_count": 7,
   "id": "6a8a11e0-7758-4614-8b3b-08d08a1191f1",
   "metadata": {},
   "outputs": [
    {
     "data": {
      "image/png": "[encoded data removed]",
      "text/plain": [
       "<Figure size 640x480 with 1 Axes>"
      ]
     },
     "metadata": {},
     "output_type": "display_data"
    }
   ],
   "source": [
    "x=ret_fun\n",
    "plt.hist(x, bins=400)\n",
    "plt.ylim(0,70)\n",
    "plt.xlim(-5,5)\n",
    "plt.show()"
   ]
  },
  {
   "cell_type": "code",
   "execution_count": 8,
   "id": "044086d8-45dd-4f60-bf07-127327b6920d",
   "metadata": {},
   "outputs": [],
   "source": [
    "sx5e_data.drop(sx5e_data.tail(1).index,inplace=True)\n",
    "sx5e_tensor=torch.tensor(sx5e_data.values)"
   ]
  },
  {
   "cell_type": "code",
   "execution_count": 9,
   "id": "689b5d44-997d-4133-8fd7-c35a4f3640f4",
   "metadata": {},
   "outputs": [],
   "source": [
    "sx5e_data=torch.tensor(sx5e_data.values,dtype=torch.float32)"
   ]
  },
  {
   "cell_type": "code",
   "execution_count": 10,
   "id": "ca165190-7462-4409-89f0-ea0a3e7945f5",
   "metadata": {},
   "outputs": [],
   "source": [
    "mean=torch.mean(sx5e_tensor,dim=0)\n",
    "std=torch.std(sx5e_tensor,dim=0)\n",
    "sx5e_norm=(sx5e_tensor-mean)/std\n",
    "# print(sx5e_norm)"
   ]
  },
  {
   "cell_type": "code",
   "execution_count": 14,
   "id": "b7fdddf3-4324-4cc3-a18e-45a1a892c818",
   "metadata": {},
   "outputs": [
    {
     "name": "stdout",
     "output_type": "stream",
     "text": [
      "torch.Size([2078, 15])\n",
      "torch.Size([499, 15])\n",
      "torch.Size([499, 15])\n"
     ]
    }
   ],
   "source": [
    "train=sx5e_norm[998:]\n",
    "\n",
    "val=sx5e_norm[499:998]\n",
    "test=sx5e_norm[:499]\n",
    "print(train.shape)\n",
    "print(val.shape)\n",
    "print(test.shape)\n",
    "\n",
    "# print(train[2077])\n",
    "# print(val[498])\n",
    "# print(test[0])"
   ]
  },
  {
   "cell_type": "code",
   "execution_count": 18,
   "id": "cb3e6233-ac28-4cbb-86ed-a6b0428e2e60",
   "metadata": {},
   "outputs": [
    {
     "name": "stdout",
     "output_type": "stream",
     "text": [
      "tensor([-0.1859,  0.2549,  1.0534,  ..., -0.8024, -0.4736, -0.1868])\n"
     ]
    }
   ],
   "source": [
    "mean_ret=torch.mean(tensor_ret)\n",
    "std_ret=torch.std(tensor_ret)\n",
    "ret_norm=(tensor_ret-mean_ret)/std_ret\n",
    "print(ret_norm)"
   ]
  },
  {
   "cell_type": "code",
   "execution_count": 19,
   "id": "201d568f-15c3-4edd-b90e-8d952da29711",
   "metadata": {},
   "outputs": [
    {
     "name": "stdout",
     "output_type": "stream",
     "text": [
      "<built-in method type of Tensor object at 0x00000257935ACD60>\n",
      "torch.Size([499])\n",
      "torch.Size([499])\n"
     ]
    }
   ],
   "source": [
    "train_target=ret_norm[998:]\n",
    "val_target=ret_norm[499:998]\n",
    "test_target=ret_norm[:499]\n",
    "\n",
    "print(train_target.type)\n",
    "print(val_target.shape)\n",
    "print(test_target.shape)"
   ]
  },
  {
   "cell_type": "code",
   "execution_count": 15,
   "id": "598f2f10-7305-4c22-8d2e-53327ff5c48b",
   "metadata": {},
   "outputs": [],
   "source": [
    "data=namedtuple('Data',['x','target'])\n",
    "prediction_days=5\n",
    "days_to_predict=1\n",
    "dataset=[]\n",
    "for i in range(len(sx5e_norm)-2):\n",
    "    end = i + prediction_days\n",
    "    out_end = end + days_to_predict\n",
    "\n",
    "    if(out_end>len(sx5e_norm)):\n",
    "        break\n",
    "    \n",
    "    \n",
    "    X=(sx5e_norm[i:end])\n",
    "    y=(tensor_ret[end])\n",
    "    d=data(X,y)\n",
    "    dataset.append(d)\n",
    "    "
   ]
  },
  {
   "cell_type": "code",
   "execution_count": 16,
   "id": "df8b7cbf-ae1d-4e1a-b646-d677c4930fff",
   "metadata": {},
   "outputs": [
    {
     "name": "stdout",
     "output_type": "stream",
     "text": [
      "2073\n",
      "499\n",
      "499\n"
     ]
    }
   ],
   "source": [
    "# print(len(dataset))\n",
    "\n",
    "train_set=dataset[998:]\n",
    "val_set=dataset[499:998]\n",
    "test_set=dataset[:499]\n",
    "\n",
    "print(len(train_set))\n",
    "print(len(val_set))\n",
    "print(len(test_set))"
   ]
  },
  {
   "cell_type": "code",
   "execution_count": 27,
   "id": "e9c4247a-8a9d-41f9-8f7c-5141451f3a1b",
   "metadata": {},
   "outputs": [],
   "source": [
    "train_loader=torch.utils.data.DataLoader(train_set, batch_size=128)\n",
    "val_loader=torch.utils.data.DataLoader(val_set, batch_size=64)\n",
    "test_loader=torch.utils.data.DataLoader(test_set, batch_size=64)"
   ]
  },
  {
   "cell_type": "code",
   "execution_count": 23,
   "id": "df4159fd-c12f-4511-a801-8065a69093d1",
   "metadata": {},
   "outputs": [],
   "source": [
    "from utils import correct"
   ]
  },
  {
   "cell_type": "code",
   "execution_count": 19,
   "id": "a260336f-da88-4f40-8f88-75b7b02b958c",
   "metadata": {},
   "outputs": [],
   "source": [
    "from utils import LSTMNumeric"
   ]
  },
  {
   "cell_type": "code",
   "execution_count": 30,
   "id": "029fdf0e-b675-429c-8320-8091c8cb0201",
   "metadata": {
    "scrolled": true
   },
   "outputs": [
    {
     "name": "stdout",
     "output_type": "stream",
     "text": [
      "\n",
      "Epoch:  1  Train Loss:  2.879 Train Acc: 0.48963\n",
      "Val loss: 1.357 Val Acc 0.47295\n",
      "\n",
      "\n",
      "Epoch:  2  Train Loss:  1.785 Train Acc: 0.49686\n",
      "Val loss: 1.509 Val Acc 0.52705\n",
      "\n",
      "\n",
      "Epoch:  3  Train Loss:  1.582 Train Acc: 0.51712\n",
      "Val loss: 1.327 Val Acc 0.52705\n",
      "\n",
      "\n",
      "Epoch:  4  Train Loss:  1.512 Train Acc: 0.52822\n",
      "Val loss: 1.327 Val Acc 0.52705\n",
      "\n",
      "\n",
      "Epoch:  5  Train Loss:  1.508 Train Acc: 0.51230\n",
      "Val loss: 1.341 Val Acc 0.52705\n",
      "\n",
      "\n",
      "Epoch:  6  Train Loss:  1.515 Train Acc: 0.50989\n",
      "Val loss: 1.354 Val Acc 0.52705\n",
      "\n",
      "\n",
      "Epoch:  7  Train Loss:  1.523 Train Acc: 0.50796\n",
      "Val loss: 1.349 Val Acc 0.52705\n",
      "\n",
      "\n",
      "Epoch:  8  Train Loss:  1.524 Train Acc: 0.50844\n",
      "Val loss: 1.337 Val Acc 0.52705\n",
      "\n",
      "\n",
      "Epoch:  9  Train Loss:  1.522 Train Acc: 0.50796\n",
      "Val loss: 1.331 Val Acc 0.52705\n",
      "\n",
      "\n",
      "Epoch:  10  Train Loss:  1.520 Train Acc: 0.50844\n",
      "Val loss: 1.331 Val Acc 0.52705\n",
      "\n",
      "\n",
      "Epoch:  11  Train Loss:  1.518 Train Acc: 0.51037\n",
      "Val loss: 1.330 Val Acc 0.52705\n",
      "\n",
      "\n",
      "Epoch:  12  Train Loss:  1.516 Train Acc: 0.50796\n",
      "Val loss: 1.331 Val Acc 0.52705\n",
      "\n",
      "\n",
      "Epoch:  13  Train Loss:  1.517 Train Acc: 0.50651\n",
      "Val loss: 1.330 Val Acc 0.52705\n",
      "\n",
      "\n",
      "Epoch:  14  Train Loss:  1.515 Train Acc: 0.50603\n",
      "Val loss: 1.330 Val Acc 0.52705\n",
      "\n",
      "\n",
      "Epoch:  15  Train Loss:  1.516 Train Acc: 0.51230\n",
      "Val loss: 1.330 Val Acc 0.52705\n",
      "\n",
      "\n",
      "Epoch:  16  Train Loss:  1.514 Train Acc: 0.51037\n",
      "Val loss: 1.331 Val Acc 0.52705\n",
      "\n",
      "\n",
      "Epoch:  17  Train Loss:  1.513 Train Acc: 0.50748\n",
      "Val loss: 1.333 Val Acc 0.52705\n",
      "\n",
      "\n",
      "Epoch:  18  Train Loss:  1.515 Train Acc: 0.50169\n",
      "Val loss: 1.335 Val Acc 0.52705\n",
      "\n",
      "\n",
      "Epoch:  19  Train Loss:  1.516 Train Acc: 0.50651\n",
      "Val loss: 1.334 Val Acc 0.52705\n",
      "\n",
      "\n",
      "Epoch:  20  Train Loss:  1.518 Train Acc: 0.50555\n",
      "Val loss: 1.335 Val Acc 0.52705\n",
      "\n",
      "\n",
      "Epoch:  21  Train Loss:  1.518 Train Acc: 0.50796\n",
      "Val loss: 1.339 Val Acc 0.52705\n",
      "\n",
      "\n",
      "Epoch:  22  Train Loss:  1.521 Train Acc: 0.50458\n",
      "Val loss: 1.339 Val Acc 0.52705\n",
      "\n",
      "\n",
      "Epoch:  23  Train Loss:  1.521 Train Acc: 0.50748\n",
      "Val loss: 1.336 Val Acc 0.52705\n",
      "\n",
      "\n",
      "Epoch:  24  Train Loss:  1.519 Train Acc: 0.50603\n",
      "Val loss: 1.343 Val Acc 0.52705\n",
      "\n",
      "\n",
      "Epoch:  25  Train Loss:  1.521 Train Acc: 0.51423\n",
      "Val loss: 1.352 Val Acc 0.52705\n",
      "\n",
      "\n",
      "Epoch:  26  Train Loss:  1.524 Train Acc: 0.50217\n",
      "Val loss: 1.357 Val Acc 0.52705\n",
      "\n",
      "\n",
      "Epoch:  27  Train Loss:  1.524 Train Acc: 0.50844\n",
      "Val loss: 1.357 Val Acc 0.52705\n",
      "\n",
      "\n",
      "Epoch:  28  Train Loss:  1.523 Train Acc: 0.50699\n",
      "Val loss: 1.360 Val Acc 0.52705\n",
      "\n",
      "\n",
      "Epoch:  29  Train Loss:  1.522 Train Acc: 0.50844\n",
      "Val loss: 1.365 Val Acc 0.52705\n",
      "\n",
      "\n",
      "Epoch:  30  Train Loss:  1.521 Train Acc: 0.52195\n",
      "Val loss: 1.355 Val Acc 0.52705\n",
      "\n",
      "\n",
      "Epoch:  31  Train Loss:  1.518 Train Acc: 0.51809\n",
      "Val loss: 1.347 Val Acc 0.52705\n",
      "\n",
      "\n",
      "Epoch:  32  Train Loss:  1.513 Train Acc: 0.52436\n",
      "Val loss: 1.344 Val Acc 0.52705\n",
      "\n",
      "\n",
      "Epoch:  33  Train Loss:  1.512 Train Acc: 0.52050\n",
      "Val loss: 1.338 Val Acc 0.52705\n",
      "\n",
      "\n",
      "Epoch:  34  Train Loss:  1.508 Train Acc: 0.52243\n",
      "Val loss: 1.335 Val Acc 0.52705\n",
      "\n",
      "\n",
      "Epoch:  35  Train Loss:  1.507 Train Acc: 0.52822\n",
      "Val loss: 1.333 Val Acc 0.52705\n",
      "\n",
      "\n",
      "Epoch:  36  Train Loss:  1.506 Train Acc: 0.51520\n",
      "Val loss: 1.332 Val Acc 0.52705\n",
      "\n",
      "\n",
      "Epoch:  37  Train Loss:  1.505 Train Acc: 0.52967\n",
      "Val loss: 1.332 Val Acc 0.52705\n",
      "\n",
      "\n",
      "Epoch:  38  Train Loss:  1.505 Train Acc: 0.53256\n",
      "Val loss: 1.330 Val Acc 0.52705\n",
      "\n",
      "\n",
      "Epoch:  39  Train Loss:  1.504 Train Acc: 0.52388\n",
      "Val loss: 1.328 Val Acc 0.52705\n",
      "\n",
      "\n",
      "Epoch:  40  Train Loss:  1.502 Train Acc: 0.53063\n",
      "Val loss: 1.330 Val Acc 0.52705\n",
      "\n",
      "\n",
      "Epoch:  41  Train Loss:  1.502 Train Acc: 0.52967\n",
      "Val loss: 1.327 Val Acc 0.52705\n",
      "\n",
      "\n",
      "Epoch:  42  Train Loss:  1.501 Train Acc: 0.52243\n",
      "Val loss: 1.328 Val Acc 0.52705\n",
      "\n",
      "\n",
      "Epoch:  43  Train Loss:  1.501 Train Acc: 0.52147\n",
      "Val loss: 1.328 Val Acc 0.52705\n",
      "\n",
      "\n",
      "Epoch:  44  Train Loss:  1.501 Train Acc: 0.52822\n",
      "Val loss: 1.327 Val Acc 0.52705\n",
      "\n",
      "\n",
      "Epoch:  45  Train Loss:  1.500 Train Acc: 0.52774\n",
      "Val loss: 1.328 Val Acc 0.52705\n",
      "\n",
      "\n",
      "Epoch:  46  Train Loss:  1.500 Train Acc: 0.53015\n",
      "Val loss: 1.327 Val Acc 0.52705\n",
      "\n",
      "\n",
      "Epoch:  47  Train Loss:  1.499 Train Acc: 0.52726\n",
      "Val loss: 1.327 Val Acc 0.52705\n",
      "\n",
      "\n",
      "Epoch:  48  Train Loss:  1.499 Train Acc: 0.53690\n",
      "Val loss: 1.327 Val Acc 0.52705\n",
      "\n",
      "\n",
      "Epoch:  49  Train Loss:  1.499 Train Acc: 0.53256\n",
      "Val loss: 1.327 Val Acc 0.52705\n",
      "\n",
      "\n",
      "Epoch:  50  Train Loss:  1.498 Train Acc: 0.52677\n",
      "Val loss: 1.327 Val Acc 0.52705\n",
      "\n",
      "\n",
      "Epoch:  51  Train Loss:  1.498 Train Acc: 0.53449\n",
      "Val loss: 1.327 Val Acc 0.52705\n",
      "\n",
      "\n",
      "Epoch:  52  Train Loss:  1.498 Train Acc: 0.53449\n",
      "Val loss: 1.327 Val Acc 0.52705\n",
      "\n",
      "\n",
      "Epoch:  53  Train Loss:  1.498 Train Acc: 0.52918\n",
      "Val loss: 1.327 Val Acc 0.52705\n",
      "\n",
      "\n",
      "Epoch:  54  Train Loss:  1.498 Train Acc: 0.53739\n",
      "Val loss: 1.327 Val Acc 0.52705\n",
      "\n",
      "\n",
      "Epoch:  55  Train Loss:  1.497 Train Acc: 0.52677\n",
      "Val loss: 1.327 Val Acc 0.52705\n",
      "\n",
      "\n",
      "Epoch:  56  Train Loss:  1.497 Train Acc: 0.52918\n",
      "Val loss: 1.327 Val Acc 0.52705\n",
      "\n",
      "\n",
      "Epoch:  57  Train Loss:  1.497 Train Acc: 0.52774\n",
      "Val loss: 1.327 Val Acc 0.52705\n",
      "\n",
      "\n",
      "Epoch:  58  Train Loss:  1.497 Train Acc: 0.53401\n",
      "Val loss: 1.327 Val Acc 0.52705\n",
      "\n",
      "\n",
      "Epoch:  59  Train Loss:  1.497 Train Acc: 0.52098\n",
      "Val loss: 1.327 Val Acc 0.52705\n",
      "\n",
      "\n",
      "Epoch:  60  Train Loss:  1.497 Train Acc: 0.54028\n",
      "Val loss: 1.327 Val Acc 0.52705\n",
      "\n",
      "\n",
      "Epoch:  61  Train Loss:  1.497 Train Acc: 0.52629\n",
      "Val loss: 1.327 Val Acc 0.52705\n",
      "\n",
      "\n",
      "Epoch:  62  Train Loss:  1.497 Train Acc: 0.53401\n",
      "Val loss: 1.327 Val Acc 0.52705\n",
      "\n",
      "\n",
      "Epoch:  63  Train Loss:  1.496 Train Acc: 0.53208\n",
      "Val loss: 1.326 Val Acc 0.52705\n",
      "\n",
      "\n",
      "Epoch:  64  Train Loss:  1.496 Train Acc: 0.53401\n",
      "Val loss: 1.327 Val Acc 0.52705\n",
      "\n",
      "\n",
      "Epoch:  65  Train Loss:  1.496 Train Acc: 0.53208\n",
      "Val loss: 1.327 Val Acc 0.52705\n",
      "\n",
      "\n",
      "Epoch:  66  Train Loss:  1.496 Train Acc: 0.54124\n",
      "Val loss: 1.327 Val Acc 0.52705\n",
      "\n",
      "\n",
      "Epoch:  67  Train Loss:  1.496 Train Acc: 0.54173\n",
      "Val loss: 1.327 Val Acc 0.52705\n",
      "\n",
      "\n",
      "Epoch:  68  Train Loss:  1.496 Train Acc: 0.53787\n",
      "Val loss: 1.327 Val Acc 0.52705\n",
      "\n",
      "\n",
      "Epoch:  69  Train Loss:  1.496 Train Acc: 0.53932\n",
      "Val loss: 1.327 Val Acc 0.52705\n",
      "\n",
      "\n",
      "Epoch:  70  Train Loss:  1.496 Train Acc: 0.53497\n",
      "Val loss: 1.327 Val Acc 0.52705\n",
      "\n",
      "\n",
      "Epoch:  71  Train Loss:  1.496 Train Acc: 0.53883\n",
      "Val loss: 1.327 Val Acc 0.52705\n",
      "\n",
      "\n",
      "Epoch:  72  Train Loss:  1.496 Train Acc: 0.53690\n",
      "Val loss: 1.327 Val Acc 0.52705\n",
      "\n",
      "\n",
      "Epoch:  73  Train Loss:  1.496 Train Acc: 0.54269\n",
      "Val loss: 1.327 Val Acc 0.52705\n",
      "\n",
      "\n",
      "Epoch:  74  Train Loss:  1.496 Train Acc: 0.54028\n",
      "Val loss: 1.327 Val Acc 0.52705\n",
      "\n",
      "\n",
      "Epoch:  75  Train Loss:  1.496 Train Acc: 0.53787\n",
      "Val loss: 1.327 Val Acc 0.52705\n",
      "\n"
     ]
    }
   ],
   "source": [
    "\n",
    "lstm_numeric=LSTMNumeric(15,30).cuda()\n",
    "params = lstm_numeric.parameters()\n",
    "# for name, param in lstm_numeric.named_parameters():\n",
    "#     if param.requires_grad:\n",
    "#         print(param.data) \n",
    "        \n",
    "loss_fn=torch.nn.MSELoss()\n",
    "optimizer = torch.optim.Adam(params, lr=0.06) \n",
    "scheduler = torch.optim.lr_scheduler.ExponentialLR(optimizer, gamma=0.97)\n",
    "# we will train for only a single epoch \n",
    "epoch = 75\n",
    "\n",
    "\n",
    "history_train_loss=[]\n",
    "history_val_loss=[]\n",
    "history_train_acc=[]\n",
    "\n",
    "# main loop\n",
    "for e in range(1,epoch+1):\n",
    "    \n",
    "    train_losses=[]\n",
    "    train_acc=[]\n",
    "    loss_buffer=[]\n",
    "    running_loss=0\n",
    "    corr=0\n",
    "    size=0\n",
    "    \n",
    "    lstm_numeric.train()\n",
    "    \n",
    "    for i, (x, y) in enumerate(train_loader):\n",
    "        size+=len(y)\n",
    "        x=x.float()\n",
    "        y=y.float()\n",
    "        x = x.cuda()\n",
    "        y = y.cuda()\n",
    "        optimizer.zero_grad()\n",
    "        \n",
    "        output = lstm_numeric(x)\n",
    "\n",
    "        loss = loss_fn(output, y)\n",
    "        corr+=correct(output,y,std_ret,mean_ret)\n",
    "        loss_buffer.append(loss.item())\n",
    "        loss.backward()\n",
    "        optimizer.step() \n",
    "        \n",
    "    \n",
    "    scheduler.step()\n",
    "    \n",
    "    train_loss=torch.mean(torch.tensor(loss_buffer))\n",
    "    history_train_loss.append(train_loss)\n",
    "    train_acc=corr/size\n",
    "    print()\n",
    "    print(f\"Epoch:  {e}  Train Loss:  {train_loss:.3f} Train Acc: {train_acc:.5f}\")\n",
    "    \n",
    "    lstm_numeric.eval()\n",
    "\n",
    "    with torch.no_grad():\n",
    "        val_loss_buffer=[]\n",
    "        val_ac=0\n",
    "        size=0\n",
    "        cor=0\n",
    "        for i, (x,y) in enumerate(val_loader):\n",
    "            x=x.float()\n",
    "            y=y.float()\n",
    "            \n",
    "            x=x.cuda()\n",
    "            y=y.cuda()\n",
    "            \n",
    "            output=lstm_numeric(x)\n",
    "            val_loss_buffer.append(loss_fn(output,y).item())\n",
    "            cor+=correct(output,y,std_ret,mean_ret)\n",
    "            size+=len(y)\n",
    "        val_acc=cor/size\n",
    "        val_loss=torch.mean(torch.tensor(val_loss_buffer))\n",
    "        print(f\"Val loss: {val_loss:.3f} Val Acc {val_acc:.5f}\")\n",
    "        print()\n",
    "        \n",
    "        history_val_loss.append(val_loss)"
   ]
  },
  {
   "cell_type": "code",
   "execution_count": 31,
   "id": "6b62863b-8f56-468e-b860-65428528ee20",
   "metadata": {},
   "outputs": [],
   "source": [
    "torch.save(lstm_numeric,'models/lstm_numeric')"
   ]
  },
  {
   "cell_type": "code",
   "execution_count": 11,
   "id": "fcb196bc-3a7f-49fa-b4bd-c0b42f623c78",
   "metadata": {},
   "outputs": [],
   "source": [
    "from utils import TimeSeriesTransformer"
   ]
  },
  {
   "cell_type": "code",
   "execution_count": 12,
   "id": "33ef73ff-905f-4acb-a65c-f619e44a0734",
   "metadata": {},
   "outputs": [],
   "source": [
    "## Model parameters\n",
    "dim_val = 512 # This can be any value divisible by n_heads. 512 is used in the original transformer paper.\n",
    "n_heads = 8 # The number of attention heads (aka parallel attention layers). dim_val must be divisible by this number\n",
    "n_decoder_layers = 4 # Number of times the decoder layer is stacked in the decoder\n",
    "n_encoder_layers = 4 # Number of times the encoder layer is stacked in the encoder\n",
    "input_size = 15 # The number of input variables. 1 if univariate forecasting.\n",
    "dec_seq_len = 14 # length of input given to decoder. Can have any integer value.\n",
    "enc_seq_len = 10 # length of input given to encoder. Can have any integer value.\n",
    "output_sequence_length = 10 # Length of the target sequence, i.e. how many time steps should your forecast cover\n",
    "max_seq_len = enc_seq_len # What's the longest sequence the model will encounter? Used to make the positional encoder\n",
    "\n",
    "model = TimeSeriesTransformer(\n",
    "    dim_val=dim_val,\n",
    "    input_size=input_size, \n",
    "    dec_seq_len=dec_seq_len,\n",
    "    batch_first = True,\n",
    "    # max_seq_len=max_seq_len,\n",
    "    out_seq_len=output_sequence_length, \n",
    "    n_decoder_layers=n_decoder_layers, \n",
    "    n_encoder_layers=n_encoder_layers,\n",
    "    n_heads=n_heads)"
   ]
  },
  {
   "cell_type": "code",
   "execution_count": 13,
   "id": "2e3b0299-ae5d-4e4b-95f7-a8d6ce1a2e6b",
   "metadata": {},
   "outputs": [
    {
     "data": {
      "text/plain": [
       "torch.Size([3076, 15])"
      ]
     },
     "execution_count": 13,
     "metadata": {},
     "output_type": "execute_result"
    }
   ],
   "source": [
    "sx5e_norm.shape"
   ]
  },
  {
   "cell_type": "code",
   "execution_count": 14,
   "id": "e23cff60-d10e-406e-8e0e-a7bab2eea4f0",
   "metadata": {},
   "outputs": [],
   "source": [
    "test=sx5e_norm[0:24]"
   ]
  },
  {
   "cell_type": "code",
   "execution_count": 15,
   "id": "17cf7bef-925c-4405-a328-5666438c3c09",
   "metadata": {},
   "outputs": [
    {
     "data": {
      "text/plain": [
       "torch.Size([24, 15])"
      ]
     },
     "execution_count": 15,
     "metadata": {},
     "output_type": "execute_result"
    }
   ],
   "source": [
    "test.shape"
   ]
  },
  {
   "cell_type": "code",
   "execution_count": 16,
   "id": "0e6b5e2f-95e1-40ce-8aa9-22148813e24c",
   "metadata": {},
   "outputs": [
    {
     "data": {
      "text/plain": [
       "torch.Size([1, 24, 15])"
      ]
     },
     "execution_count": 16,
     "metadata": {},
     "output_type": "execute_result"
    }
   ],
   "source": [
    "test.unsqueeze(0).shape"
   ]
  },
  {
   "cell_type": "code",
   "execution_count": 17,
   "id": "d2c85953-fef1-41df-85a2-e21ae082fbc6",
   "metadata": {},
   "outputs": [],
   "source": [
    "src, trg, trg_y = model.get_src_trg(test,14,10)"
   ]
  },
  {
   "cell_type": "code",
   "execution_count": 18,
   "id": "cbfcd16d-326c-48f4-a3d6-c2309bbe6551",
   "metadata": {},
   "outputs": [
    {
     "data": {
      "text/plain": [
       "tensor([-0.7650, -0.7331, -0.6851, -0.5532, -0.5626, -0.5715, -0.5332, -0.5259,\n",
       "        -0.5366, -0.5574], dtype=torch.float64)"
      ]
     },
     "execution_count": 18,
     "metadata": {},
     "output_type": "execute_result"
    }
   ],
   "source": [
    "trg_y"
   ]
  },
  {
   "cell_type": "code",
   "execution_count": 19,
   "id": "c8d3b8bd-4669-480c-8dcd-cc6b456b42fd",
   "metadata": {},
   "outputs": [
    {
     "name": "stdout",
     "output_type": "stream",
     "text": [
      "From model.forward(): Size of src as given to forward(): torch.Size([1, 14, 15])\n",
      "From model.forward(): tgt size = torch.Size([1, 10, 1])\n",
      "From model.forward(): Size of src after input layer: torch.Size([1, 14, 512])\n",
      "From model.forward(): Size of src after pos_enc layer: torch.Size([1, 14, 512])\n",
      "From model.forward(): Size of src after encoder: torch.Size([1, 14, 512])\n",
      "From model.forward(): Size of decoder_output after linear decoder layer: torch.Size([1, 10, 512])\n",
      "From model.forward(): decoder_output shape after decoder: torch.Size([1, 10, 512])\n",
      "From model.forward(): decoder_output size after linear_mapping = torch.Size([1, 10, 1])\n"
     ]
    }
   ],
   "source": [
    "output = model(src.unsqueeze(0),trg.unsqueeze(0))"
   ]
  },
  {
   "cell_type": "code",
   "execution_count": 20,
   "id": "09025ce5-890f-4dd7-bf6a-d43b85921c2c",
   "metadata": {},
   "outputs": [
    {
     "data": {
      "text/plain": [
       "torch.Size([1, 10, 1])"
      ]
     },
     "execution_count": 20,
     "metadata": {},
     "output_type": "execute_result"
    }
   ],
   "source": [
    "output.shape"
   ]
  },
  {
   "cell_type": "code",
   "execution_count": null,
   "id": "7ba4b9e1-5b95-4ba8-a1f9-1cd9e75f6284",
   "metadata": {},
   "outputs": [],
   "source": []
  },
  {
   "cell_type": "code",
   "execution_count": null,
   "id": "632cfe3b-c155-4476-9b62-9e85be0e8fb3",
   "metadata": {},
   "outputs": [],
   "source": []
  }
 ],
 "metadata": {
  "kernelspec": {
   "display_name": "Python 3 (ipykernel)",
   "language": "python",
   "name": "python3"
  },
  "language_info": {
   "codemirror_mode": {
    "name": "ipython",
    "version": 3
   },
   "file_extension": ".py",
   "mimetype": "text/x-python",
   "name": "python",
   "nbconvert_exporter": "python",
   "pygments_lexer": "ipython3",
   "version": "3.9.13"
  }
 },
 "nbformat": 4,
 "nbformat_minor": 5
}
