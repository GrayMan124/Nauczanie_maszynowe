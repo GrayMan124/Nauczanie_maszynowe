{
 "cells": [
  {
   "cell_type": "code",
   "execution_count": 10,
   "id": "71bce2b9-f5c3-4421-b2c0-d774fcc0466e",
   "metadata": {},
   "outputs": [],
   "source": [
    "import torch\n",
    "import pandas as pd\n",
    "\n",
    "\n",
    "#importing Technical Analysis tools\n",
    "from ta import trend\n",
    "from ta import volatility\n",
    "from ta import momentum"
   ]
  },
  {
   "cell_type": "code",
   "execution_count": 95,
   "id": "e210bf6c-8305-4ddd-9a7f-bed33ca216f0",
   "metadata": {},
   "outputs": [],
   "source": [
    "sx5e_data=pd.read_csv(\"data\\SX5E.csv\")"
   ]
  },
  {
   "cell_type": "code",
   "execution_count": 96,
   "id": "5df44691-112b-4219-acf3-dcdf3d5457f1",
   "metadata": {},
   "outputs": [
    {
     "data": {
      "text/html": [
       "<div>\n",
       "<style scoped>\n",
       "    .dataframe tbody tr th:only-of-type {\n",
       "        vertical-align: middle;\n",
       "    }\n",
       "\n",
       "    .dataframe tbody tr th {\n",
       "        vertical-align: top;\n",
       "    }\n",
       "\n",
       "    .dataframe thead th {\n",
       "        text-align: right;\n",
       "    }\n",
       "</style>\n",
       "<table border=\"1\" class=\"dataframe\">\n",
       "  <thead>\n",
       "    <tr style=\"text-align: right;\">\n",
       "      <th></th>\n",
       "      <th>Date</th>\n",
       "      <th>Open</th>\n",
       "      <th>High</th>\n",
       "      <th>Low</th>\n",
       "      <th>Close</th>\n",
       "    </tr>\n",
       "  </thead>\n",
       "  <tbody>\n",
       "    <tr>\n",
       "      <th>3101</th>\n",
       "      <td>01/07/10</td>\n",
       "      <td>2997.37</td>\n",
       "      <td>3013.90</td>\n",
       "      <td>2979.80</td>\n",
       "      <td>3007.34</td>\n",
       "    </tr>\n",
       "    <tr>\n",
       "      <th>3102</th>\n",
       "      <td>01/06/10</td>\n",
       "      <td>3013.06</td>\n",
       "      <td>3016.83</td>\n",
       "      <td>2997.05</td>\n",
       "      <td>3009.66</td>\n",
       "    </tr>\n",
       "    <tr>\n",
       "      <th>3103</th>\n",
       "      <td>01/05/10</td>\n",
       "      <td>3014.56</td>\n",
       "      <td>3025.60</td>\n",
       "      <td>3006.47</td>\n",
       "      <td>3012.36</td>\n",
       "    </tr>\n",
       "    <tr>\n",
       "      <th>3104</th>\n",
       "      <td>01/04/10</td>\n",
       "      <td>2976.09</td>\n",
       "      <td>3017.80</td>\n",
       "      <td>2974.86</td>\n",
       "      <td>3017.80</td>\n",
       "    </tr>\n",
       "    <tr>\n",
       "      <th>3105</th>\n",
       "      <td>01/01/10</td>\n",
       "      <td>2964.96</td>\n",
       "      <td>2964.96</td>\n",
       "      <td>2964.96</td>\n",
       "      <td>2964.96</td>\n",
       "    </tr>\n",
       "  </tbody>\n",
       "</table>\n",
       "</div>"
      ],
      "text/plain": [
       "          Date     Open     High      Low    Close\n",
       "3101  01/07/10  2997.37  3013.90  2979.80  3007.34\n",
       "3102  01/06/10  3013.06  3016.83  2997.05  3009.66\n",
       "3103  01/05/10  3014.56  3025.60  3006.47  3012.36\n",
       "3104  01/04/10  2976.09  3017.80  2974.86  3017.80\n",
       "3105  01/01/10  2964.96  2964.96  2964.96  2964.96"
      ]
     },
     "execution_count": 96,
     "metadata": {},
     "output_type": "execute_result"
    }
   ],
   "source": [
    "sx5e_data.tail()"
   ]
  },
  {
   "cell_type": "code",
   "execution_count": 97,
   "id": "3155cd97-8dca-4918-8030-8bfb3eaf614e",
   "metadata": {},
   "outputs": [],
   "source": [
    "def return_fun(data,delta_t):\n",
    "    data=data.to_numpy()\n",
    "    for i in range(len(data)-delta_t):\n",
    "        data[i,4]=100*(data[i+delta_t,3]-data[i,3])/data[i,3]\n",
    "    data=pd.DataFrame(data,columns=['Open','High','Low','Close','return_fun'])\n",
    "    return data"
   ]
  },
  {
   "cell_type": "code",
   "execution_count": 98,
   "id": "0478fac2-175f-49c8-9ecb-a86b1c93e1e6",
   "metadata": {},
   "outputs": [
    {
     "name": "stderr",
     "output_type": "stream",
     "text": [
      "c:\\users\\48694\\appdata\\local\\programs\\python\\python39\\lib\\site-packages\\numpy\\core\\fromnumeric.py:87: RuntimeWarning: invalid value encountered in reduce\n",
      "  return ufunc.reduce(obj, axis, dtype, out, **passkwargs)\n",
      "c:\\users\\48694\\appdata\\local\\programs\\python\\python39\\lib\\site-packages\\ta\\trend.py:768: RuntimeWarning: invalid value encountered in double_scalars\n",
      "  dip[i] = 100 * (self._dip[i] / self._trs[i])\n",
      "c:\\users\\48694\\appdata\\local\\programs\\python\\python39\\lib\\site-packages\\ta\\trend.py:772: RuntimeWarning: invalid value encountered in double_scalars\n",
      "  din[i] = 100 * (self._din[i] / self._trs[i])\n"
     ]
    }
   ],
   "source": [
    "sx5e_data.set_index('Date',inplace=True)\n",
    "sx5e_data['return_fun']=None\n",
    "sx5e_data=return_fun(sx5e_data,1)\n",
    "sx5e_data.dropna(inplace=True)\n",
    "\n",
    "\n",
    "adi=trend.ADXIndicator(close=sx5e_data['Close'],high=sx5e_data['High'],low=sx5e_data['Low'])\n",
    "m_acd=trend.MACD(close=sx5e_data['Close'])\n",
    "\n",
    "r_si=momentum.RSIIndicator(close=sx5e_data['Close'])\n",
    "stochastic_oscilator=momentum.StochasticOscillator(close=sx5e_data['Close'],high=sx5e_data['High'],low=sx5e_data['Low'])\n",
    "williamsr=momentum.WilliamsRIndicator(high=sx5e_data['High'],low=sx5e_data['Low'],close=sx5e_data['Close'])\n",
    "\n",
    "bollinger=volatility.BollingerBands(close=sx5e_data['Close'])\n",
    "atr=volatility.AverageTrueRange(high=sx5e_data['High'],low=sx5e_data['Low'],close=sx5e_data['Close'])\n",
    "\n",
    "exponential_moving_avarge9=trend.EMAIndicator(close=sx5e_data['Close'],window=9)\n",
    "exponential_moving_avarge18=trend.EMAIndicator(close=sx5e_data['Close'],window=18)\n",
    "exponential_moving_avarge30=trend.EMAIndicator(close=sx5e_data['Close'],window=30)\n",
    "\n",
    "sx5e_data['ADX']=adi.adx()\n",
    "sx5e_data['MACD']=m_acd.macd()\n",
    "sx5e_data['RSI']=r_si.rsi()\n",
    "sx5e_data['Stoch Osc']=stochastic_oscilator.stoch()\n",
    "sx5e_data['Williams R']=williamsr.williams_r()\n",
    "sx5e_data['Bollinger High band']=bollinger.bollinger_hband()\n",
    "sx5e_data['Bolinger Low Band']=bollinger.bollinger_lband()\n",
    "sx5e_data['ATR']=atr.average_true_range()\n",
    "sx5e_data['EMA9']=exponential_moving_avarge9.ema_indicator()\n",
    "sx5e_data['EMA18']=exponential_moving_avarge18.ema_indicator()\n",
    "sx5e_data['EMA30']=exponential_moving_avarge30.ema_indicator()"
   ]
  },
  {
   "cell_type": "code",
   "execution_count": 99,
   "id": "a2dcd8a4-29d9-4f5e-893d-fc6111ae67e5",
   "metadata": {},
   "outputs": [
    {
     "name": "stdout",
     "output_type": "stream",
     "text": [
      "         Open     High      Low    Close return_fun        ADX       MACD  \\\n",
      "29    4256.93  4291.81  4256.93  4280.47  -0.698755  12.196726  23.625314   \n",
      "30    4228.73  4250.68  4187.81  4250.56  -0.392654  13.672384  16.216130   \n",
      "31    4220.74   4236.2  4213.17  4233.87  -0.306811  15.042638   8.895018   \n",
      "32    4220.74  4226.99  4205.42  4220.88   0.073207  16.423121   2.021498   \n",
      "33    4187.55  4230.88  4187.55  4223.97  -0.844229  17.953485  -3.140281   \n",
      "...       ...      ...      ...      ...        ...        ...        ...   \n",
      "3100  3016.38  3024.58  2993.73  3017.85  -0.348261  33.834204  61.708818   \n",
      "3101  2997.37   3013.9   2979.8  3007.34   0.077145  34.325894  62.324347   \n",
      "3102  3013.06  3016.83  2997.05  3009.66   0.089711  34.824279  62.281420   \n",
      "3103  3014.56   3025.6  3006.47  3012.36   0.180589  35.416409  61.753414   \n",
      "3104  2976.09   3017.8  2974.86   3017.8  -1.750944  34.873033  61.069951   \n",
      "\n",
      "            RSI  Stoch Osc Williams R  Bollinger High band  Bolinger Low Band  \\\n",
      "29    47.375956  14.870499 -85.129501          4462.273630        4194.449370   \n",
      "30    43.044139  28.338527 -71.661473          4422.901000        4249.920000   \n",
      "31    40.802217   21.06563  -78.93437          4429.230992        4237.653008   \n",
      "32    39.095465  16.670027 -83.329973          4435.672207        4225.674793   \n",
      "33    39.741181  19.425036 -80.574964          4440.937282        4214.424718   \n",
      "...         ...        ...        ...                  ...                ...   \n",
      "3100  68.153690  90.348994  -9.651006          3068.965147        2685.299853   \n",
      "3101  66.341494  86.167352 -13.832648          3075.246613        2709.007387   \n",
      "3102  66.552913  85.410449 -14.589551          3087.698937        2717.060063   \n",
      "3103  66.814167  86.542504 -13.457496          3099.599238        2723.394762   \n",
      "3104  67.367234  85.330168 -14.669832          3108.043548        2737.401452   \n",
      "\n",
      "            ATR         EMA9        EMA18        EMA30  \n",
      "29    59.215946  4320.951862  4313.073448  4290.882925  \n",
      "30    61.604807  4306.873490  4306.493085  4288.281446  \n",
      "31    59.875178  4292.272792  4298.848550  4284.771031  \n",
      "32    57.630522  4277.994233  4290.641334  4280.649029  \n",
      "33    56.609056  4267.189387  4283.623299  4276.992317  \n",
      "...         ...          ...          ...          ...  \n",
      "3100  64.002761  2963.396048  2908.502146  2871.754185  \n",
      "3101  62.148993  2972.184838  2918.906131  2880.501657  \n",
      "3102  59.122636  2979.679871  2928.459169  2888.834454  \n",
      "3103  56.266019  2986.215896  2937.290836  2896.803844  \n",
      "3104  55.314161  2992.532717  2945.765485  2904.610047  \n",
      "\n",
      "[3076 rows x 16 columns]\n"
     ]
    }
   ],
   "source": [
    "sx5e_data.dropna(inplace=True)\n",
    "print(sx5e_data)"
   ]
  },
  {
   "cell_type": "code",
   "execution_count": null,
   "id": "6a8a11e0-7758-4614-8b3b-08d08a1191f1",
   "metadata": {},
   "outputs": [],
   "source": []
  }
 ],
 "metadata": {
  "kernelspec": {
   "display_name": "Python 3",
   "language": "python",
   "name": "python3"
  },
  "language_info": {
   "codemirror_mode": {
    "name": "ipython",
    "version": 3
   },
   "file_extension": ".py",
   "mimetype": "text/x-python",
   "name": "python",
   "nbconvert_exporter": "python",
   "pygments_lexer": "ipython3",
   "version": "3.9.2"
  }
 },
 "nbformat": 4,
 "nbformat_minor": 5
}
