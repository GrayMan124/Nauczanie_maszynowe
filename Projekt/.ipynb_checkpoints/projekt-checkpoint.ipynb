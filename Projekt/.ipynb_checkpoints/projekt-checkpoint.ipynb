{
 "cells": [
  {
   "cell_type": "code",
   "execution_count": 3,
   "id": "71bce2b9-f5c3-4421-b2c0-d774fcc0466e",
   "metadata": {},
   "outputs": [],
   "source": [
    "import torch\n",
    "import pandas as pd\n",
    "import matplotlib.pyplot as plt\n",
    "from torchvision.transforms import Normalize\n",
    "from collections import namedtuple\n",
    "\n",
    "#importing Technical Analysis tools\n",
    "from ta import trend\n",
    "from ta import volatility\n",
    "from ta import momentum"
   ]
  },
  {
   "cell_type": "code",
   "execution_count": 4,
   "id": "6eec1110-19be-4915-b713-7232ebf93a46",
   "metadata": {},
   "outputs": [
    {
     "data": {
      "text/plain": [
       "True"
      ]
     },
     "execution_count": 4,
     "metadata": {},
     "output_type": "execute_result"
    }
   ],
   "source": [
    "torch.cuda.is_available()"
   ]
  },
  {
   "cell_type": "code",
   "execution_count": 5,
   "id": "e210bf6c-8305-4ddd-9a7f-bed33ca216f0",
   "metadata": {},
   "outputs": [],
   "source": [
    "sx5e_data=pd.read_csv(\"data\\SX5E.csv\")"
   ]
  },
  {
   "cell_type": "code",
   "execution_count": 7,
   "id": "0478fac2-175f-49c8-9ecb-a86b1c93e1e6",
   "metadata": {},
   "outputs": [
    {
     "name": "stderr",
     "output_type": "stream",
     "text": [
      "c:\\users\\48694\\appdata\\local\\programs\\python\\python39\\lib\\site-packages\\ta\\trend.py:768: RuntimeWarning: invalid value encountered in double_scalars\n",
      "  dip[i] = 100 * (self._dip[i] / self._trs[i])\n",
      "c:\\users\\48694\\appdata\\local\\programs\\python\\python39\\lib\\site-packages\\ta\\trend.py:772: RuntimeWarning: invalid value encountered in double_scalars\n",
      "  din[i] = 100 * (self._din[i] / self._trs[i])\n"
     ]
    }
   ],
   "source": [
    "sx5e_data = sx5e_data.sort_index(axis=0 ,ascending=False)\n",
    "sx5e_data.reset_index(drop=True,inplace=True)\n",
    "sx5e_data.drop(columns=['Date'],inplace=True)\n",
    "\n",
    "# sx5e_data['Return']=ret_fun\n",
    "sx5e_data.dropna(inplace=True)\n",
    "\n",
    "\n",
    "adi=trend.ADXIndicator(close=sx5e_data[' Close'],high=sx5e_data[' High'],low=sx5e_data[' Low'])\n",
    "m_acd=trend.MACD(close=sx5e_data[' Close'])\n",
    "\n",
    "r_si=momentum.RSIIndicator(close=sx5e_data[' Close'])\n",
    "stochastic_oscilator=momentum.StochasticOscillator(close=sx5e_data[' Close'],high=sx5e_data[' High'],low=sx5e_data[' Low'])\n",
    "williamsr=momentum.WilliamsRIndicator(high=sx5e_data[' High'],low=sx5e_data[' Low'],close=sx5e_data[' Close'])\n",
    "\n",
    "bollinger=volatility.BollingerBands(close=sx5e_data[' Close'])\n",
    "atr=volatility.AverageTrueRange(high=sx5e_data[' High'],low=sx5e_data[' Low'],close=sx5e_data[' Close'])\n",
    "\n",
    "exponential_moving_avarge9=trend.EMAIndicator(close=sx5e_data[' Close'],window=9)\n",
    "exponential_moving_avarge18=trend.EMAIndicator(close=sx5e_data[' Close'],window=18)\n",
    "exponential_moving_avarge30=trend.EMAIndicator(close=sx5e_data[' Close'],window=30)\n",
    "\n",
    "sx5e_data['ADX']=adi.adx()\n",
    "sx5e_data['MACD']=m_acd.macd()\n",
    "sx5e_data['RSI']=r_si.rsi()\n",
    "sx5e_data['Stoch Osc']=stochastic_oscilator.stoch()\n",
    "sx5e_data['Williams R']=williamsr.williams_r()\n",
    "sx5e_data['Bollinger High band']=bollinger.bollinger_hband()\n",
    "sx5e_data['Bolinger Low Band']=bollinger.bollinger_lband()\n",
    "sx5e_data['ATR']=atr.average_true_range()\n",
    "sx5e_data['EMA9']=exponential_moving_avarge9.ema_indicator()\n",
    "sx5e_data['EMA18']=exponential_moving_avarge18.ema_indicator()\n",
    "sx5e_data['EMA30']=exponential_moving_avarge30.ema_indicator()\n",
    "sx5e_data.dropna(inplace=True)\n",
    "ret_fun=return_fun(sx5e_data,1)"
   ]
  },
  {
   "cell_type": "code",
   "execution_count": 9,
   "id": "2a8c5f6d-7f73-4414-9e09-0c547cf629ac",
   "metadata": {},
   "outputs": [
    {
     "name": "stdout",
     "output_type": "stream",
     "text": [
      "3077\n",
      "3076\n",
      "tensor([-0.2160,  0.3504,  1.3764,  ..., -1.0081, -0.5856, -0.2172])\n"
     ]
    }
   ],
   "source": [
    "type(ret_fun[1])\n",
    "# tensor_return=torch.Tensor(ret_fun)\n",
    "print(len(ret_fun))\n",
    "ret_fun.remove(None)\n",
    "print(len(ret_fun))\n",
    "tensor_ret=torch.tensor(ret_fun,dtype=torch.float32)\n",
    "print(tensor_ret)"
   ]
  },
  {
   "cell_type": "code",
   "execution_count": 28,
   "id": "6a8a11e0-7758-4614-8b3b-08d08a1191f1",
   "metadata": {},
   "outputs": [
    {
     "data": {
      "image/png": "[encoded data removed]",
      "text/plain": [
       "<Figure size 432x288 with 1 Axes>"
      ]
     },
     "metadata": {
      "needs_background": "light"
     },
     "output_type": "display_data"
    }
   ],
   "source": [
    "x=ret_fun\n",
    "plt.hist(x, bins=400)\n",
    "plt.ylim(0,70)\n",
    "plt.xlim(-5,5)\n",
    "plt.show()"
   ]
  },
  {
   "cell_type": "code",
   "execution_count": 10,
   "id": "044086d8-45dd-4f60-bf07-127327b6920d",
   "metadata": {},
   "outputs": [],
   "source": [
    "sx5e_data.drop(sx5e_data.tail(1).index,inplace=True)\n",
    "sx5e_tensor=torch.tensor(sx5e_data.values)"
   ]
  },
  {
   "cell_type": "code",
   "execution_count": 82,
   "id": "689b5d44-997d-4133-8fd7-c35a4f3640f4",
   "metadata": {},
   "outputs": [],
   "source": [
    "sx5e_data=torch.tensor(sx5e_data.values,dtype=torch.float32)"
   ]
  },
  {
   "cell_type": "code",
   "execution_count": 83,
   "id": "ca165190-7462-4409-89f0-ea0a3e7945f5",
   "metadata": {},
   "outputs": [
    {
     "name": "stdout",
     "output_type": "stream",
     "text": [
      "tensor([[-0.9221, -0.9442, -1.0001,  ..., -0.9280, -0.8126, -0.7074],\n",
      "        [-0.9531, -0.9766, -0.9926,  ..., -0.9452, -0.8345, -0.7281],\n",
      "        [-0.9801, -0.9924, -0.9511,  ..., -0.9550, -0.8519, -0.7462],\n",
      "        ...,\n",
      "        [ 2.1637,  2.3829,  2.2003,  ...,  2.2373,  2.3354,  2.4011],\n",
      "        [ 2.4110,  2.4069,  2.3607,  ...,  2.2597,  2.3400,  2.4022],\n",
      "        [ 2.3454,  2.3174,  2.2942,  ...,  2.2670,  2.3384,  2.3997]],\n",
      "       dtype=torch.float64)\n"
     ]
    }
   ],
   "source": [
    "mean=torch.mean(sx5e_tensor,dim=0)\n",
    "std=torch.std(sx5e_tensor,dim=0)\n",
    "sx5e_norm=(sx5e_tensor-mean)/std\n",
    "print(sx5e_norm)"
   ]
  },
  {
   "cell_type": "code",
   "execution_count": 84,
   "id": "b7fdddf3-4324-4cc3-a18e-45a1a892c818",
   "metadata": {},
   "outputs": [
    {
     "name": "stdout",
     "output_type": "stream",
     "text": [
      "torch.Size([2078, 15])\n",
      "torch.Size([499, 15])\n",
      "torch.Size([499, 15])\n",
      "tensor([ 2.3454,  2.3174,  2.2942,  2.2692,  0.7009, -0.6385, -0.3357, -0.1934,\n",
      "        -0.1934,  2.6695,  2.0910,  1.1603,  2.2670,  2.3384,  2.3997],\n",
      "       dtype=torch.float64)\n",
      "tensor([-0.3403, -0.3736, -0.3198, -0.3370,  0.4589, -0.2757, -0.9129, -0.9038,\n",
      "        -0.9038, -0.2972, -0.1332, -0.8135, -0.2844, -0.2490, -0.2514],\n",
      "       dtype=torch.float64)\n",
      "tensor([-0.9221, -0.9442, -1.0001, -0.9960,  1.5074, -1.8764, -1.6671, -0.9934,\n",
      "        -0.9934, -0.5649, -0.9163,  0.5134, -0.9280, -0.8126, -0.7074],\n",
      "       dtype=torch.float64)\n"
     ]
    }
   ],
   "source": [
    "train=sx5e_norm[998:]\n",
    "\n",
    "val=sx5e_norm[499:998]\n",
    "test=sx5e_norm[:499]\n",
    "print(train.shape)\n",
    "print(val.shape)\n",
    "print(test.shape)\n",
    "\n",
    "print(train[2077])\n",
    "print(val[498])\n",
    "print(test[0])"
   ]
  },
  {
   "cell_type": "code",
   "execution_count": 101,
   "id": "cb3e6233-ac28-4cbb-86ed-a6b0428e2e60",
   "metadata": {},
   "outputs": [
    {
     "name": "stdout",
     "output_type": "stream",
     "text": [
      "tensor([-0.1859,  0.2549,  1.0534,  ..., -0.8024, -0.4736, -0.1868])\n"
     ]
    }
   ],
   "source": [
    "mean_ret=torch.mean(tensor_ret)\n",
    "std_ret=torch.std(tensor_ret)\n",
    "ret_norm=(tensor_ret-mean_ret)/std_ret\n",
    "print(ret_norm)"
   ]
  },
  {
   "cell_type": "code",
   "execution_count": 96,
   "id": "201d568f-15c3-4edd-b90e-8d952da29711",
   "metadata": {},
   "outputs": [
    {
     "name": "stdout",
     "output_type": "stream",
     "text": [
      "tensor([-0.3740, -0.5245, -0.1826,  ..., -0.8024, -0.4736, -0.1868])\n",
      "torch.Size([499])\n",
      "torch.Size([499])\n"
     ]
    }
   ],
   "source": [
    "train_target=ret_norm[998:]\n",
    "val_target=ret_norm[499:998]\n",
    "test_target=ret_norm[:499]\n",
    "\n",
    "print(train_target.type)\n",
    "print(val_target.shape)\n",
    "print(test_target.shape)"
   ]
  },
  {
   "cell_type": "code",
   "execution_count": 88,
   "id": "598f2f10-7305-4c22-8d2e-53327ff5c48b",
   "metadata": {},
   "outputs": [],
   "source": [
    "X=[]\n",
    "y=[]\n",
    "data=namedtuple('Data',['x','target'])\n",
    "prediction_days=5\n",
    "days_to_predict=1\n",
    "dataset=[]\n",
    "for i in range(len(sx5e_norm)-2):\n",
    "    end = i + prediction_days\n",
    "    out_end = end + days_to_predict\n",
    "\n",
    "    if(out_end>len(sx5e_norm)):\n",
    "        break\n",
    "    \n",
    "    \n",
    "    X=(sx5e_norm[i:end])\n",
    "    y=(tensor_ret[end])\n",
    "    d=data(X,y)\n",
    "    dataset.append(d)\n",
    "    "
   ]
  },
  {
   "cell_type": "code",
   "execution_count": 89,
   "id": "df8b7cbf-ae1d-4e1a-b646-d677c4930fff",
   "metadata": {},
   "outputs": [
    {
     "name": "stdout",
     "output_type": "stream",
     "text": [
      "2073\n",
      "499\n",
      "499\n"
     ]
    }
   ],
   "source": [
    "# print(len(dataset))\n",
    "\n",
    "train_set=dataset[998:]\n",
    "val_set=dataset[499:998]\n",
    "test_set=dataset[:499]\n",
    "\n",
    "print(len(train_set))\n",
    "print(len(val_set))\n",
    "print(len(test_set))"
   ]
  },
  {
   "cell_type": "code",
   "execution_count": 146,
   "id": "e9c4247a-8a9d-41f9-8f7c-5141451f3a1b",
   "metadata": {},
   "outputs": [],
   "source": [
    "train_loader=torch.utils.data.DataLoader(train_set, batch_size=64)\n",
    "val_loader=torch.utils.data.DataLoader(val_set, batch_size=64)\n",
    "test_loader=torch.utils.data.DataLoader(test_set, batch_size=64)"
   ]
  },
  {
   "cell_type": "code",
   "execution_count": 194,
   "id": "df4159fd-c12f-4511-a801-8065a69093d1",
   "metadata": {},
   "outputs": [],
   "source": [
    "def correct(output,target):\n",
    "    o=output.flatten()*std_ret +mean_ret\n",
    "    t=target*std_ret + mean_ret\n",
    "    tmp=o*t\n",
    "    correct=0\n",
    "    for i in range(len(tmp)):\n",
    "        if(tmp[i].item() > 0):\n",
    "            correct+=1\n",
    "    return correct"
   ]
  },
  {
   "cell_type": "code",
   "execution_count": null,
   "id": "111ead2b-6760-4628-9854-996732c1d12b",
   "metadata": {},
   "outputs": [],
   "source": []
  },
  {
   "cell_type": "code",
   "execution_count": 1,
   "id": "a260336f-da88-4f40-8f88-75b7b02b958c",
   "metadata": {},
   "outputs": [
    {
     "ename": "NameError",
     "evalue": "name 'torch' is not defined",
     "output_type": "error",
     "traceback": [
      "\u001b[1;31m---------------------------------------------------------------------------\u001b[0m",
      "\u001b[1;31mNameError\u001b[0m                                 Traceback (most recent call last)",
      "\u001b[1;32m<ipython-input-1-f251c21221c3>\u001b[0m in \u001b[0;36m<module>\u001b[1;34m\u001b[0m\n\u001b[1;32m----> 1\u001b[1;33m \u001b[1;32mfrom\u001b[0m \u001b[0mutils\u001b[0m \u001b[1;32mimport\u001b[0m \u001b[0mLSTMNumeric\u001b[0m\u001b[1;33m\u001b[0m\u001b[1;33m\u001b[0m\u001b[0m\n\u001b[0m",
      "\u001b[1;32mG:\\Nauczanie_maszynowe\\Projekt\\utils.py\u001b[0m in \u001b[0;36m<module>\u001b[1;34m\u001b[0m\n\u001b[0;32m     37\u001b[0m     \u001b[1;32mreturn\u001b[0m \u001b[0mtorch\u001b[0m\u001b[1;33m.\u001b[0m\u001b[0mtensor\u001b[0m\u001b[1;33m(\u001b[0m\u001b[0mindexes\u001b[0m\u001b[1;33m,\u001b[0m \u001b[0mdtype\u001b[0m\u001b[1;33m=\u001b[0m\u001b[0mtorch\u001b[0m\u001b[1;33m.\u001b[0m\u001b[0mlong\u001b[0m\u001b[1;33m)\u001b[0m\u001b[1;33m.\u001b[0m\u001b[0mview\u001b[0m\u001b[1;33m(\u001b[0m\u001b[1;33m-\u001b[0m\u001b[1;36m1\u001b[0m\u001b[1;33m)\u001b[0m\u001b[1;33m\u001b[0m\u001b[1;33m\u001b[0m\u001b[0m\n\u001b[0;32m     38\u001b[0m \u001b[1;33m\u001b[0m\u001b[0m\n\u001b[1;32m---> 39\u001b[1;33m \u001b[1;32mclass\u001b[0m \u001b[0mLSTMNumeric\u001b[0m\u001b[1;33m(\u001b[0m\u001b[0mtorch\u001b[0m\u001b[1;33m.\u001b[0m\u001b[0mnn\u001b[0m\u001b[1;33m.\u001b[0m\u001b[0mModule\u001b[0m\u001b[1;33m)\u001b[0m\u001b[1;33m:\u001b[0m\u001b[1;33m\u001b[0m\u001b[1;33m\u001b[0m\u001b[0m\n\u001b[0m\u001b[0;32m     40\u001b[0m     \u001b[1;32mdef\u001b[0m \u001b[0m__init__\u001b[0m\u001b[1;33m(\u001b[0m\u001b[0mself\u001b[0m\u001b[1;33m,\u001b[0m\u001b[0minput_size\u001b[0m\u001b[1;33m,\u001b[0m\u001b[0mhidden_size\u001b[0m\u001b[1;33m)\u001b[0m\u001b[1;33m:\u001b[0m\u001b[1;33m\u001b[0m\u001b[1;33m\u001b[0m\u001b[0m\n\u001b[0;32m     41\u001b[0m         \u001b[0msuper\u001b[0m\u001b[1;33m(\u001b[0m\u001b[1;33m)\u001b[0m\u001b[1;33m.\u001b[0m\u001b[0m__init__\u001b[0m\u001b[1;33m(\u001b[0m\u001b[1;33m)\u001b[0m\u001b[1;33m\u001b[0m\u001b[1;33m\u001b[0m\u001b[0m\n",
      "\u001b[1;31mNameError\u001b[0m: name 'torch' is not defined"
     ]
    }
   ],
   "source": [
    "from utils import LSTMNumeric"
   ]
  },
  {
   "cell_type": "code",
   "execution_count": 211,
   "id": "029fdf0e-b675-429c-8320-8091c8cb0201",
   "metadata": {},
   "outputs": [
    {
     "name": "stdout",
     "output_type": "stream",
     "text": [
      "Epoch: 10 Loss: 1.536468338334199 Accuracy: 0.5180897250361794\n",
      "Val loss: 1.4069875180721283 Val Acc: 0.4729458917835671\n",
      "Epoch: 20 Loss: 1.5339780210545568 Accuracy: 0.517607332368548\n",
      "Val loss: 1.4353311285376549 Val Acc: 0.4729458917835671\n",
      "Epoch: 30 Loss: 1.585226272091721 Accuracy: 0.5021707670043415\n",
      "Val loss: 1.3297793790698051 Val Acc: 0.5270541082164328\n",
      "Epoch: 40 Loss: 1.4986938974170974 Accuracy: 0.5084418716835504\n",
      "Val loss: 1.348144456744194 Val Acc: 0.5270541082164328\n",
      "Epoch: 50 Loss: 1.4885122243202094 Accuracy: 0.5084418716835504\n",
      "Val loss: 1.3284003660082817 Val Acc: 0.5270541082164328\n",
      "Epoch: 60 Loss: 1.4838897784550984 Accuracy: 0.5055475156777617\n",
      "Val loss: 1.3269077315926552 Val Acc: 0.5270541082164328\n",
      "Epoch: 70 Loss: 1.4813342573064747 Accuracy: 0.5108538350217077\n",
      "Val loss: 1.330116145312786 Val Acc: 0.5270541082164328\n",
      "Epoch: 80 Loss: 1.481031961513288 Accuracy: 0.5060299083453932\n",
      "Val loss: 1.3359071016311646 Val Acc: 0.5270541082164328\n",
      "Epoch: 90 Loss: 1.4832860691980883 Accuracy: 0.5161601543656537\n",
      "Val loss: 1.341260887682438 Val Acc: 0.5270541082164328\n",
      "Epoch: 100 Loss: 1.4800328783916705 Accuracy: 0.5306319343945972\n",
      "Val loss: 1.329631894826889 Val Acc: 0.5270541082164328\n",
      "Epoch: 110 Loss: 1.4773792538679007 Accuracy: 0.5465508924264351\n",
      "Val loss: 1.327325515449047 Val Acc: 0.5270541082164328\n",
      "Epoch: 120 Loss: 1.476271166042848 Accuracy: 0.5441389290882779\n",
      "Val loss: 1.326964646577835 Val Acc: 0.5270541082164328\n",
      "Epoch: 130 Loss: 1.4755983172040996 Accuracy: 0.5436565364206464\n",
      "Val loss: 1.3268717750906944 Val Acc: 0.5270541082164328\n",
      "Epoch: 140 Loss: 1.4756499881094152 Accuracy: 0.5359382537385432\n",
      "Val loss: 1.3264958038926125 Val Acc: 0.5270541082164328\n",
      "Epoch: 150 Loss: 1.4752450838233486 Accuracy: 0.5446213217559093\n",
      "Val loss: 1.326644629240036 Val Acc: 0.5270541082164328\n",
      "Epoch: 160 Loss: 1.4748657553484945 Accuracy: 0.5499276410998553\n",
      "Val loss: 1.3270554095506668 Val Acc: 0.5270541082164328\n",
      "Epoch: 170 Loss: 1.4745629574313308 Accuracy: 0.5513748191027497\n",
      "Val loss: 1.3272376358509064 Val Acc: 0.5270541082164328\n",
      "Epoch: 180 Loss: 1.4743269853519672 Accuracy: 0.5499276410998553\n",
      "Val loss: 1.3272612318396568 Val Acc: 0.5270541082164328\n",
      "Epoch: 190 Loss: 1.4741326407952742 Accuracy: 0.5499276410998553\n",
      "Val loss: 1.3272332474589348 Val Acc: 0.5270541082164328\n",
      "Epoch: 200 Loss: 1.4740857888351788 Accuracy: 0.5499276410998553\n",
      "Val loss: 1.327219434082508 Val Acc: 0.5270541082164328\n",
      "Epoch: 210 Loss: 1.4739915864034132 Accuracy: 0.5499276410998553\n",
      "Val loss: 1.3272231593728065 Val Acc: 0.5270541082164328\n",
      "Epoch: 220 Loss: 1.4739003082116444 Accuracy: 0.5499276410998553\n",
      "Val loss: 1.3272241279482841 Val Acc: 0.5270541082164328\n",
      "Epoch: 230 Loss: 1.4738782653302858 Accuracy: 0.5499276410998553\n",
      "Val loss: 1.3271601274609566 Val Acc: 0.5270541082164328\n",
      "Epoch: 240 Loss: 1.4738106447638888 Accuracy: 0.5499276410998553\n",
      "Val loss: 1.3271700665354729 Val Acc: 0.5270541082164328\n",
      "Epoch: 250 Loss: 1.4738246315356456 Accuracy: 0.5499276410998553\n",
      "Val loss: 1.3271815702319145 Val Acc: 0.5270541082164328\n",
      "Epoch: 260 Loss: 1.4737595518430073 Accuracy: 0.5499276410998553\n",
      "Val loss: 1.3271723240613937 Val Acc: 0.5270541082164328\n",
      "Epoch: 270 Loss: 1.4737851267511195 Accuracy: 0.5499276410998553\n",
      "Val loss: 1.3271694779396057 Val Acc: 0.5270541082164328\n",
      "Epoch: 280 Loss: 1.4738040412917282 Accuracy: 0.5499276410998553\n",
      "Val loss: 1.3271679431200027 Val Acc: 0.5270541082164328\n",
      "Epoch: 290 Loss: 1.4737510821132949 Accuracy: 0.5499276410998553\n",
      "Val loss: 1.3271678611636162 Val Acc: 0.5270541082164328\n",
      "Epoch: 300 Loss: 1.473785440127055 Accuracy: 0.5499276410998553\n",
      "Val loss: 1.3271644786000252 Val Acc: 0.5270541082164328\n",
      "Epoch: 310 Loss: 1.473745388966618 Accuracy: 0.5499276410998553\n",
      "Val loss: 1.327162392437458 Val Acc: 0.5270541082164328\n",
      "Epoch: 320 Loss: 1.473751296599706 Accuracy: 0.5499276410998553\n",
      "Val loss: 1.3271624147891998 Val Acc: 0.5270541082164328\n",
      "Epoch: 330 Loss: 1.4737865446191845 Accuracy: 0.5499276410998553\n",
      "Val loss: 1.3271646723151207 Val Acc: 0.5270541082164328\n",
      "Epoch: 340 Loss: 1.4737596972422167 Accuracy: 0.5499276410998553\n",
      "Val loss: 1.3271629437804222 Val Acc: 0.5270541082164328\n",
      "Epoch: 350 Loss: 1.4737572453238748 Accuracy: 0.5499276410998553\n",
      "Val loss: 1.3271641433238983 Val Acc: 0.5270541082164328\n",
      "Epoch: 360 Loss: 1.4737547405741431 Accuracy: 0.5499276410998553\n",
      "Val loss: 1.3271639943122864 Val Acc: 0.5270541082164328\n",
      "Epoch: 370 Loss: 1.4737693739659858 Accuracy: 0.5499276410998553\n",
      "Val loss: 1.3271631449460983 Val Acc: 0.5270541082164328\n",
      "Epoch: 380 Loss: 1.4737531885956272 Accuracy: 0.5499276410998553\n",
      "Val loss: 1.327163204550743 Val Acc: 0.5270541082164328\n",
      "Epoch: 390 Loss: 1.473767426880923 Accuracy: 0.5499276410998553\n",
      "Val loss: 1.3271628841757774 Val Acc: 0.5270541082164328\n",
      "Epoch: 400 Loss: 1.473761697158669 Accuracy: 0.5499276410998553\n",
      "Val loss: 1.3271633684635162 Val Acc: 0.5270541082164328\n",
      "Epoch: 410 Loss: 1.4737443120190592 Accuracy: 0.5499276410998553\n",
      "Val loss: 1.32716353982687 Val Acc: 0.5270541082164328\n",
      "Epoch: 420 Loss: 1.4737337118748464 Accuracy: 0.5499276410998553\n",
      "Val loss: 1.3271633088588715 Val Acc: 0.5270541082164328\n",
      "Epoch: 430 Loss: 1.4737478381756581 Accuracy: 0.5499276410998553\n",
      "Val loss: 1.3271631300449371 Val Acc: 0.5270541082164328\n",
      "Epoch: 440 Loss: 1.47375413730289 Accuracy: 0.5499276410998553\n",
      "Val loss: 1.3271630927920341 Val Acc: 0.5270541082164328\n",
      "Epoch: 450 Loss: 1.473762211022955 Accuracy: 0.5499276410998553\n",
      "Val loss: 1.3271630704402924 Val Acc: 0.5270541082164328\n",
      "Epoch: 460 Loss: 1.473771304343686 Accuracy: 0.5499276410998553\n",
      "Val loss: 1.3271630704402924 Val Acc: 0.5270541082164328\n",
      "Epoch: 470 Loss: 1.4737591391259974 Accuracy: 0.5499276410998553\n",
      "Val loss: 1.3271630927920341 Val Acc: 0.5270541082164328\n",
      "Epoch: 480 Loss: 1.4737442149357363 Accuracy: 0.5499276410998553\n",
      "Val loss: 1.3271631002426147 Val Acc: 0.5270541082164328\n",
      "Epoch: 490 Loss: 1.473765901092327 Accuracy: 0.5499276410998553\n",
      "Val loss: 1.3271631002426147 Val Acc: 0.5270541082164328\n",
      "Epoch: 500 Loss: 1.4737581407481974 Accuracy: 0.5499276410998553\n",
      "Val loss: 1.3271631374955177 Val Acc: 0.5270541082164328\n"
     ]
    }
   ],
   "source": [
    "\n",
    "lstm_numeric=LSTMNumeric(15,30).cuda()\n",
    "params = lstm_numeric.parameters()\n",
    "# for name, param in lstm_numeric.named_parameters():\n",
    "#     if param.requires_grad:\n",
    "#         print(param.data) \n",
    "        \n",
    "loss_fn=torch.nn.MSELoss()\n",
    "optimizer = torch.optim.Adam(params, lr=0.1) \n",
    "scheduler = torch.optim.lr_scheduler.ExponentialLR(optimizer, gamma=0.97)\n",
    "# we will train for only a single epoch \n",
    "epoch = 500\n",
    "\n",
    "\n",
    "history_train_loss=[]\n",
    "history_val_loss=[]\n",
    "history_train_acc=[]\n",
    "\n",
    "# main loop\n",
    "for e in range(1,epoch+1):\n",
    "    \n",
    "    train_losses=[]\n",
    "    train_acc=[]\n",
    "    \n",
    "    running_loss=0\n",
    "    train_correct=0\n",
    "    size=0\n",
    "    \n",
    "    lstm_numeric.train()\n",
    "    \n",
    "    for i, (x, y) in enumerate(train_loader):\n",
    "        size+=len(y)\n",
    "        x=x.float()\n",
    "        y=y.float()\n",
    "        x = x.cuda()\n",
    "        y = y.cuda()\n",
    "        optimizer.zero_grad()\n",
    "        \n",
    "        output = lstm_numeric(x)\n",
    "\n",
    "        loss = loss_fn(output, y)\n",
    "        acc= correct(output,y)\n",
    "        train_correct+=acc\n",
    "        running_loss+=loss.item()\n",
    "        loss.backward()\n",
    "        optimizer.step() \n",
    "        \n",
    "    \n",
    "    scheduler.step()\n",
    "    \n",
    "    train_loss=running_loss/len(train_loader)\n",
    "    history_train_loss.append(train_loss)\n",
    "    train_acc=train_correct/size\n",
    "    if (e % 10 == 0):\n",
    "        print(\"Epoch: \"+str(e)+\" Loss: \"+str(train_loss)+\" Accuracy: \"+str(train_acc))\n",
    "    \n",
    "    lstm_numeric.eval()\n",
    "\n",
    "    with torch.no_grad():\n",
    "        running_val_loss=0\n",
    "        val_ac=0\n",
    "        size=0\n",
    "        cor=0\n",
    "        for i, (x,y) in enumerate(val_loader):\n",
    "            x=x.float()\n",
    "            y=y.float()\n",
    "            \n",
    "            x=x.cuda()\n",
    "            y=y.cuda()\n",
    "            \n",
    "            output=lstm_numeric(x)\n",
    "            running_val_loss+=loss_fn(output,y).item()\n",
    "            cor+=correct(output,y)\n",
    "            size+=len(y)\n",
    "        val_acc=cor/size\n",
    "        val_loss=running_val_loss/len(val_loader)\n",
    "        if (e % 10 == 0):\n",
    "            print(\"Val loss: \"+str(val_loss) +\" Val Acc: \"+str(val_acc))\n",
    "        \n",
    "        history_val_loss.append(val_loss)"
   ]
  },
  {
   "cell_type": "code",
   "execution_count": 207,
   "id": "6b62863b-8f56-468e-b860-65428528ee20",
   "metadata": {},
   "outputs": [
    {
     "data": {
      "image/png": "[encoded data removed]",
      "text/plain": [
       "<Figure size 432x288 with 1 Axes>"
      ]
     },
     "metadata": {
      "needs_background": "light"
     },
     "output_type": "display_data"
    }
   ],
   "source": [
    "plt.plot(history_train_loss)\n",
    "plt.show()"
   ]
  },
  {
   "cell_type": "code",
   "execution_count": null,
   "id": "33ef73ff-905f-4acb-a65c-f619e44a0734",
   "metadata": {},
   "outputs": [],
   "source": []
  }
 ],
 "metadata": {
  "kernelspec": {
   "display_name": "Python 3",
   "language": "python",
   "name": "python3"
  },
  "language_info": {
   "codemirror_mode": {
    "name": "ipython",
    "version": 3
   },
   "file_extension": ".py",
   "mimetype": "text/x-python",
   "name": "python",
   "nbconvert_exporter": "python",
   "pygments_lexer": "ipython3",
   "version": "3.9.2"
  }
 },
 "nbformat": 4,
 "nbformat_minor": 5
}
