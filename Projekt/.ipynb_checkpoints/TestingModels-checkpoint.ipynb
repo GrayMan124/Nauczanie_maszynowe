{
 "cells": [
  {
   "cell_type": "code",
   "execution_count": 1,
   "id": "3517c874-7ea6-42f0-9efb-bb4b6ccbff53",
   "metadata": {},
   "outputs": [],
   "source": [
    "import torch\n",
    "import pandas as pd\n",
    "import matplotlib.pyplot as plt\n",
    "from torchvision.transforms import Normalize\n",
    "from collections import namedtuple\n",
    "import torch.nn as nn\n",
    "\n",
    "#importing Technical Analysis tools\n",
    "from ta import trend\n",
    "from ta import volatility\n",
    "from ta import momentum\n",
    "\n",
    "import utils\n",
    "from utils import return_fun"
   ]
  },
  {
   "cell_type": "code",
   "execution_count": 2,
   "id": "ea7877a2-40c6-4c03-abd4-d3422289cddc",
   "metadata": {},
   "outputs": [],
   "source": [
    "reuters=pd.read_csv(\"data/reut_data.csv\",sep='|')\n",
    "\n",
    "sx5e_data=pd.read_csv(\"data\\SX5E.csv\")"
   ]
  },
  {
   "cell_type": "code",
   "execution_count": 3,
   "id": "3318a554-f663-44f4-9005-1af6c188d5ae",
   "metadata": {},
   "outputs": [
    {
     "name": "stderr",
     "output_type": "stream",
     "text": [
      "c:\\users\\48694\\appdata\\local\\programs\\python\\python39\\lib\\site-packages\\ta\\trend.py:768: RuntimeWarning: invalid value encountered in double_scalars\n",
      "  dip[i] = 100 * (self._dip[i] / self._trs[i])\n",
      "c:\\users\\48694\\appdata\\local\\programs\\python\\python39\\lib\\site-packages\\ta\\trend.py:772: RuntimeWarning: invalid value encountered in double_scalars\n",
      "  din[i] = 100 * (self._din[i] / self._trs[i])\n"
     ]
    }
   ],
   "source": [
    "sx5e_data = sx5e_data.sort_index(axis=0 ,ascending=False)\n",
    "sx5e_data.reset_index(drop=True,inplace=True)\n",
    "sx5e_data['Date']=pd.to_datetime(sx5e_data.Date)\n",
    "\n",
    "sx5e_data.dropna(inplace=True)\n",
    "\n",
    "\n",
    "adi=trend.ADXIndicator(close=sx5e_data[' Close'],high=sx5e_data[' High'],low=sx5e_data[' Low'])\n",
    "m_acd=trend.MACD(close=sx5e_data[' Close'])\n",
    "\n",
    "r_si=momentum.RSIIndicator(close=sx5e_data[' Close'])\n",
    "stochastic_oscilator=momentum.StochasticOscillator(close=sx5e_data[' Close'],high=sx5e_data[' High'],low=sx5e_data[' Low'])\n",
    "williamsr=momentum.WilliamsRIndicator(high=sx5e_data[' High'],low=sx5e_data[' Low'],close=sx5e_data[' Close'])\n",
    "\n",
    "bollinger=volatility.BollingerBands(close=sx5e_data[' Close'])\n",
    "atr=volatility.AverageTrueRange(high=sx5e_data[' High'],low=sx5e_data[' Low'],close=sx5e_data[' Close'])\n",
    "\n",
    "exponential_moving_avarge9=trend.EMAIndicator(close=sx5e_data[' Close'],window=9)\n",
    "exponential_moving_avarge18=trend.EMAIndicator(close=sx5e_data[' Close'],window=18)\n",
    "exponential_moving_avarge30=trend.EMAIndicator(close=sx5e_data[' Close'],window=30)\n",
    "\n",
    "sx5e_data['ADX']=adi.adx()\n",
    "sx5e_data['MACD']=m_acd.macd()\n",
    "sx5e_data['RSI']=r_si.rsi()\n",
    "sx5e_data['Stoch Osc']=stochastic_oscilator.stoch()\n",
    "sx5e_data['Williams R']=williamsr.williams_r()\n",
    "sx5e_data['Bollinger High band']=bollinger.bollinger_hband()\n",
    "sx5e_data['Bolinger Low Band']=bollinger.bollinger_lband()\n",
    "sx5e_data['ATR']=atr.average_true_range()\n",
    "sx5e_data['EMA9']=exponential_moving_avarge9.ema_indicator()\n",
    "sx5e_data['EMA18']=exponential_moving_avarge18.ema_indicator()\n",
    "sx5e_data['EMA30']=exponential_moving_avarge30.ema_indicator()\n",
    "sx5e_data.dropna(inplace=True)\n",
    "ret_fun=return_fun(sx5e_data,1,4)\n",
    "sx_ret=sx5e_data.copy()\n",
    "sx_ret['Ret']=ret_fun\n",
    "sx_ret.drop(columns=['ADX','MACD','RSI','Stoch Osc','Williams R','Bollinger High band','Bolinger Low Band','ATR','EMA9','EMA18','EMA30',' Open',' High',' Low'],inplace=True)"
   ]
  },
  {
   "cell_type": "code",
   "execution_count": 4,
   "id": "03c74b6f-aeb8-4219-81db-0f692fd7d313",
   "metadata": {},
   "outputs": [],
   "source": [
    "reuters.drop(columns='column1',inplace=True)\n",
    "reuters.drop_duplicates(subset =\"Headline\",\n",
    "                     keep = 'first', inplace = True)\n",
    "reuters.dropna(inplace=True)\n",
    "reuters.reset_index(drop=True,inplace=True)\n",
    "\n",
    "for i in range(len(reuters)):\n",
    "    text=reuters['Headline'][i]\n",
    "    text=text.replace(\"REFILE-UPDATE 2-\",\"\")\n",
    "    text=text.replace(\"UPDATE 2-\",\"\")\n",
    "    text=text.replace(\"UPDATE 1-\",\"\")\n",
    "    text=text.replace(\"UPDATE \",\"\")\n",
    "    text=text.replace(\",\",\"\")\n",
    "    text=text.replace(\".\",\"\")\n",
    "    text=text.replace(\";\",\"\")\n",
    "    text=text.replace(\":\",\"\")\n",
    "    text=text.replace(\"-\",\"\")\n",
    "    text=text.replace(\"European\",\"\")\n",
    "    reuters['Headline'][i]=text"
   ]
  },
  {
   "cell_type": "code",
   "execution_count": 5,
   "id": "811d5aa1-e286-4b95-a2d6-3639c7ca644d",
   "metadata": {},
   "outputs": [],
   "source": [
    "reuters['Date']=pd.to_datetime(reuters.Date)"
   ]
  },
  {
   "cell_type": "code",
   "execution_count": 6,
   "id": "57f30a2f-6622-4a1c-a408-b1d5b4f37d1c",
   "metadata": {},
   "outputs": [],
   "source": [
    "\n",
    "lang=utils.Lang('t')\n",
    "\n",
    "for i in range(len(reuters)):\n",
    "    sentence=reuters['Headline'][i]\n",
    "    lang.addSentence(sentence)"
   ]
  },
  {
   "cell_type": "code",
   "execution_count": 7,
   "id": "e5ccd540-1113-48a9-a54e-dd36dc52ca5a",
   "metadata": {},
   "outputs": [],
   "source": [
    "# sx5e_data.drop(columns='Date',inplace=True)\n",
    "sx5e_data.drop(sx5e_data.tail(1).index,inplace=True)\n",
    "# sx5e_tensor=torch.tensor(sx5e_data.values)"
   ]
  },
  {
   "cell_type": "code",
   "execution_count": 8,
   "id": "be9fd91c-5607-4cb8-b94f-d5303897e621",
   "metadata": {},
   "outputs": [],
   "source": [
    "ret_fun.remove(None)\n",
    "tensor_ret=torch.tensor(ret_fun,dtype=torch.float32)\n",
    "mean_ret=torch.mean(tensor_ret)\n",
    "std_ret=torch.std(tensor_ret)"
   ]
  },
  {
   "cell_type": "code",
   "execution_count": 9,
   "id": "22e1e9d4-a0ea-4f9a-b6cd-897de595dc60",
   "metadata": {},
   "outputs": [],
   "source": [
    "sx5e_data.drop(columns='Date',inplace=True)\n",
    "# sx5e_data.drop(sx5e_data.tail(1).index,inplace=True)\n",
    "sx5e_tensor=torch.tensor(sx5e_data.values)"
   ]
  },
  {
   "cell_type": "code",
   "execution_count": 10,
   "id": "7ea35218-f043-49ac-bef6-619e8103eb57",
   "metadata": {},
   "outputs": [
    {
     "name": "stdout",
     "output_type": "stream",
     "text": [
      "tensor([[-0.9221, -0.9442, -1.0001,  ..., -0.9280, -0.8126, -0.7074],\n",
      "        [-0.9531, -0.9766, -0.9926,  ..., -0.9452, -0.8345, -0.7281],\n",
      "        [-0.9801, -0.9924, -0.9511,  ..., -0.9550, -0.8519, -0.7462],\n",
      "        ...,\n",
      "        [ 2.1637,  2.3829,  2.2003,  ...,  2.2373,  2.3354,  2.4011],\n",
      "        [ 2.4110,  2.4069,  2.3607,  ...,  2.2597,  2.3400,  2.4022],\n",
      "        [ 2.3454,  2.3174,  2.2942,  ...,  2.2670,  2.3384,  2.3997]],\n",
      "       dtype=torch.float64)\n"
     ]
    }
   ],
   "source": [
    "mean=torch.mean(sx5e_tensor,dim=0)\n",
    "std=torch.std(sx5e_tensor,dim=0)\n",
    "sx5e_norm=(sx5e_tensor-mean)/std\n",
    "print(sx5e_norm)"
   ]
  },
  {
   "cell_type": "code",
   "execution_count": 11,
   "id": "313b2668-d104-4dd7-970e-040be4d54a50",
   "metadata": {},
   "outputs": [],
   "source": [
    "sx_ret.dropna(inplace=True)"
   ]
  },
  {
   "cell_type": "code",
   "execution_count": 12,
   "id": "55535be2-f70b-4c56-a8a4-9a0363666323",
   "metadata": {},
   "outputs": [
    {
     "data": {
      "text/html": [
       "<div>\n",
       "<style scoped>\n",
       "    .dataframe tbody tr th:only-of-type {\n",
       "        vertical-align: middle;\n",
       "    }\n",
       "\n",
       "    .dataframe tbody tr th {\n",
       "        vertical-align: top;\n",
       "    }\n",
       "\n",
       "    .dataframe thead th {\n",
       "        text-align: right;\n",
       "    }\n",
       "</style>\n",
       "<table border=\"1\" class=\"dataframe\">\n",
       "  <thead>\n",
       "    <tr style=\"text-align: right;\">\n",
       "      <th></th>\n",
       "      <th>Date</th>\n",
       "      <th>Close</th>\n",
       "      <th>Ret</th>\n",
       "    </tr>\n",
       "  </thead>\n",
       "  <tbody>\n",
       "    <tr>\n",
       "      <th>29</th>\n",
       "      <td>2010-02-11</td>\n",
       "      <td>2680.25</td>\n",
       "      <td>-0.216025</td>\n",
       "    </tr>\n",
       "    <tr>\n",
       "      <th>30</th>\n",
       "      <td>2010-02-12</td>\n",
       "      <td>2674.46</td>\n",
       "      <td>0.350351</td>\n",
       "    </tr>\n",
       "    <tr>\n",
       "      <th>31</th>\n",
       "      <td>2010-02-15</td>\n",
       "      <td>2683.83</td>\n",
       "      <td>1.376391</td>\n",
       "    </tr>\n",
       "    <tr>\n",
       "      <th>32</th>\n",
       "      <td>2010-02-16</td>\n",
       "      <td>2720.77</td>\n",
       "      <td>1.524568</td>\n",
       "    </tr>\n",
       "    <tr>\n",
       "      <th>33</th>\n",
       "      <td>2010-02-17</td>\n",
       "      <td>2762.25</td>\n",
       "      <td>0.581048</td>\n",
       "    </tr>\n",
       "  </tbody>\n",
       "</table>\n",
       "</div>"
      ],
      "text/plain": [
       "         Date    Close       Ret\n",
       "29 2010-02-11  2680.25 -0.216025\n",
       "30 2010-02-12  2674.46  0.350351\n",
       "31 2010-02-15  2683.83  1.376391\n",
       "32 2010-02-16  2720.77  1.524568\n",
       "33 2010-02-17  2762.25  0.581048"
      ]
     },
     "execution_count": 12,
     "metadata": {},
     "output_type": "execute_result"
    }
   ],
   "source": [
    "sx_ret.head()"
   ]
  },
  {
   "cell_type": "code",
   "execution_count": 13,
   "id": "cddcfdba-d691-4180-b076-7219258f5af8",
   "metadata": {},
   "outputs": [
    {
     "name": "stdout",
     "output_type": "stream",
     "text": [
      " shares fall again on Omicron worries\n",
      "-0.2171898391274464\n",
      "2021-12-09 00:00:00\n"
     ]
    }
   ],
   "source": [
    "date=sx_ret['Date'][3104]\n",
    "headline=reuters[reuters['Date']==date].iloc[0]\n",
    "print(headline['Headline'])\n",
    "print(sx_ret['Ret'][3104])\n",
    "print(date)"
   ]
  },
  {
   "cell_type": "code",
   "execution_count": 14,
   "id": "5680571e-1777-4fea-a7dc-a61ca9252157",
   "metadata": {},
   "outputs": [],
   "source": [
    "d=namedtuple('d',['headline','numeric'])\n",
    "data=namedtuple('Data',['data','target'])\n",
    "\n",
    "test_set_2019=[]\n",
    "test_set_2020=[]\n",
    "test_set_2021=[]\n",
    "\n",
    "\n",
    "for i in range(2348,2606):\n",
    "    date=sx_ret['Date'][i]\n",
    "    headline=reuters[reuters['Date']==date]\n",
    "    if(headline.empty):\n",
    "        continue\n",
    "    headline=headline.iloc[0]\n",
    "    headline=utils.tensorFromSentence(lang,headline['Headline'])\n",
    "    numeric=sx5e_norm[i-27-5 : i-27]\n",
    "    ret=sx_ret['Ret'][i]\n",
    "    ret=torch.tensor(ret)\n",
    "    r=(ret-mean_ret)/std_ret\n",
    "    d1=d(headline,numeric)\n",
    "    da=data(d1,r)\n",
    "    test_set_2019.append(da)\n",
    "\n",
    "for i in range(2606,2863):\n",
    "    date=sx_ret['Date'][i]\n",
    "    headline=reuters[reuters['Date']==date]\n",
    "    if(headline.empty):\n",
    "        continue\n",
    "    headline=headline.iloc[0]\n",
    "    headline=utils.tensorFromSentence(lang,headline['Headline'])\n",
    "    numeric=sx5e_norm[i-27-5 : i-27]\n",
    "    ret=sx_ret['Ret'][i]\n",
    "    ret=torch.tensor(ret)\n",
    "    r=(ret-mean_ret)/std_ret\n",
    "    d1=d(headline,numeric)\n",
    "    da=data(d1,r)\n",
    "    test_set_2020.append(da)\n",
    "    \n",
    "for i in range(2863,3103):\n",
    "    date=sx_ret['Date'][i]\n",
    "    headline=reuters[reuters['Date']==date]\n",
    "    if(headline.empty):\n",
    "        continue\n",
    "    headline=headline.iloc[0]\n",
    "    headline=utils.tensorFromSentence(lang,headline['Headline'])\n",
    "    numeric=sx5e_norm[i-27-5 : i-27]\n",
    "    ret=sx_ret['Ret'][i]\n",
    "    ret=torch.tensor(ret)\n",
    "    r=(ret-mean_ret)/std_ret\n",
    "    d1=d(headline,numeric)\n",
    "    da=data(d1,r)\n",
    "    test_set_2021.append(da)\n",
    "    "
   ]
  },
  {
   "cell_type": "code",
   "execution_count": 15,
   "id": "2aaf0f91-c0f2-485e-8742-ad41239429f5",
   "metadata": {},
   "outputs": [],
   "source": [
    "test_loader_2019=torch.utils.data.DataLoader(test_set_2019, batch_size=1)\n",
    "test_loader_2020=torch.utils.data.DataLoader(test_set_2020, batch_size=1)\n",
    "test_loader_2021=torch.utils.data.DataLoader(test_set_2021, batch_size=1)\n"
   ]
  },
  {
   "cell_type": "code",
   "execution_count": 16,
   "id": "f8c02e81-681d-4111-847e-de996b8e0e1e",
   "metadata": {},
   "outputs": [],
   "source": [
    "from utils import TextAndNumeric\n",
    "from utils import TextOnlyGRU\n",
    "from utils import LSTMNumeric"
   ]
  },
  {
   "cell_type": "code",
   "execution_count": 17,
   "id": "798befcf-e4a8-46b1-baf8-b4cbc40dee16",
   "metadata": {},
   "outputs": [],
   "source": [
    "from utils import hit_profit\n",
    "from utils import correct"
   ]
  },
  {
   "cell_type": "code",
   "execution_count": 53,
   "id": "fb8c0719-aef3-42d9-b27a-bf29f286bd9c",
   "metadata": {},
   "outputs": [],
   "source": [
    "tan=torch.load('models/text_and_numeric')\n",
    "tog=torch.load('models/text_only_gru')\n",
    "lstmn=torch.load('models/lstm_numeric')"
   ]
  },
  {
   "cell_type": "code",
   "execution_count": 20,
   "id": "e2b38a88-5d28-4718-873a-e880cb78a4b8",
   "metadata": {},
   "outputs": [
    {
     "ename": "NameError",
     "evalue": "name 'model' is not defined",
     "output_type": "error",
     "traceback": [
      "\u001b[1;31m---------------------------------------------------------------------------\u001b[0m",
      "\u001b[1;31mNameError\u001b[0m                                 Traceback (most recent call last)",
      "\u001b[1;32m<ipython-input-20-61b3a8da1f44>\u001b[0m in \u001b[0;36m<module>\u001b[1;34m\u001b[0m\n\u001b[0;32m     14\u001b[0m             \u001b[0my\u001b[0m\u001b[1;33m=\u001b[0m\u001b[0my\u001b[0m\u001b[1;33m.\u001b[0m\u001b[0mcuda\u001b[0m\u001b[1;33m(\u001b[0m\u001b[1;33m)\u001b[0m\u001b[1;33m\u001b[0m\u001b[1;33m\u001b[0m\u001b[0m\n\u001b[0;32m     15\u001b[0m \u001b[1;33m\u001b[0m\u001b[0m\n\u001b[1;32m---> 16\u001b[1;33m             \u001b[0moutput\u001b[0m\u001b[1;33m=\u001b[0m\u001b[0mmodel\u001b[0m\u001b[1;33m(\u001b[0m\u001b[0mheadline\u001b[0m\u001b[1;33m,\u001b[0m\u001b[0mnumeric\u001b[0m\u001b[1;33m)\u001b[0m\u001b[1;33m\u001b[0m\u001b[1;33m\u001b[0m\u001b[0m\n\u001b[0m\u001b[0;32m     17\u001b[0m             \u001b[0moutput\u001b[0m\u001b[1;33m.\u001b[0m\u001b[0mfloat\u001b[0m\u001b[1;33m(\u001b[0m\u001b[1;33m)\u001b[0m\u001b[1;33m\u001b[0m\u001b[1;33m\u001b[0m\u001b[0m\n\u001b[0;32m     18\u001b[0m             \u001b[0my\u001b[0m\u001b[1;33m.\u001b[0m\u001b[0mfloat\u001b[0m\u001b[1;33m(\u001b[0m\u001b[1;33m)\u001b[0m\u001b[1;33m\u001b[0m\u001b[1;33m\u001b[0m\u001b[0m\n",
      "\u001b[1;31mNameError\u001b[0m: name 'model' is not defined"
     ]
    }
   ],
   "source": [
    "loss_fn=torch.nn.MSELoss()\n",
    "\n",
    "tan.eval()\n",
    "with torch.no_grad():\n",
    "        val_loss_buffer=[]\n",
    "        val_ac=0\n",
    "        cor=0\n",
    "        hit_profit=0\n",
    "        for i, (x,y) in enumerate(test_loader_2019):\n",
    "            headline,numeric = x\n",
    "            numeric=numeric.float()\n",
    "            headline=headline.cuda()\n",
    "            numeric=numeric.cuda()\n",
    "            y=y.cuda()\n",
    "            \n",
    "            output=model(headline,numeric)\n",
    "            output.float()\n",
    "            y.float()\n",
    "            val_loss_buffer.append(loss_fn(output,y).item())\n",
    "            if(correct(output, y, std_ret, mean_ret)==1):\n",
    "                hit_profit += correct(output, y, std_ret, mean_ret) * abs(y*std_ret - mean_ret)\n",
    "            else:\n",
    "                hit_profit-= abs(y*std_ret - mean_ret)\n",
    "            \n",
    "            cor+=correct(output,y,std_ret,mean_ret)\n",
    "            \n",
    "        val_acc=cor/len(test_loader_2019)\n",
    "        val_loss=torch.mean(torch.tensor(val_loss_buffer))\n",
    "        print(f\"Test loss: {val_loss:.3f} Test Acc {val_acc:.5f}\")\n",
    "        print(hit_profit)"
   ]
  },
  {
   "cell_type": "code",
   "execution_count": 19,
   "id": "5d8db023-b75b-4b91-bfd0-20fc2e6e9e69",
   "metadata": {},
   "outputs": [],
   "source": [
    "from utils import test_tan,test_text,test_numeric"
   ]
  },
  {
   "cell_type": "code",
   "execution_count": 47,
   "id": "0302e2fd-16e5-4df7-a676-5416977358d3",
   "metadata": {},
   "outputs": [],
   "source": [
    "def test_tan(model,loader):\n",
    "    loss_fn=torch.nn.MSELoss()\n",
    "\n",
    "    tan.eval()\n",
    "    with torch.no_grad():\n",
    "        val_loss_buffer=[]\n",
    "        val_ac=0\n",
    "        cor=0\n",
    "        hit_profit=0\n",
    "        for i, (x,y) in enumerate(loader):\n",
    "            headline,numeric = x\n",
    "            numeric=numeric.float()\n",
    "            headline=headline.cuda()\n",
    "            numeric=numeric.cuda()\n",
    "            y=y.cuda()\n",
    "            \n",
    "            output=model(headline,numeric)\n",
    "            output.float()\n",
    "            y.float()\n",
    "            val_loss_buffer.append(loss_fn(output,y).item())\n",
    "            if(correct(output, y, std_ret, mean_ret)==1):\n",
    "                hit_profit += correct(output, y, std_ret, mean_ret) * abs(y*std_ret - mean_ret)\n",
    "            else:\n",
    "                hit_profit-= abs(y*std_ret - mean_ret)\n",
    "            \n",
    "            cor+=correct(output,y,std_ret,mean_ret)\n",
    "            \n",
    "        val_acc=cor/len(loader)\n",
    "        val_loss=torch.mean(torch.tensor(val_loss_buffer))\n",
    "        print(f\"Test loss: {val_loss:.3f} Test Acc {val_acc:.5f}\")\n",
    "        print(f\"Test Hit Profit: {hit_profit.item():0.3f}\")\n",
    "        \n",
    "        return val_loss,val_acc,hit_profit"
   ]
  },
  {
   "cell_type": "code",
   "execution_count": 48,
   "id": "43f0b9ed-575e-4cb7-bbbc-3426d48428d1",
   "metadata": {},
   "outputs": [],
   "source": [
    "def test_text(model,loader):\n",
    "    loss_fn=torch.nn.MSELoss()\n",
    "\n",
    "    model.eval()\n",
    "    with torch.no_grad():\n",
    "        val_loss_buffer=[]\n",
    "        val_ac=0\n",
    "        cor=0\n",
    "        hit_profit=0\n",
    "        for i, (x,y) in enumerate(loader):\n",
    "            headline,numeric = x\n",
    "            headline=headline.cuda()\n",
    "            y=y.cuda()\n",
    "            \n",
    "            output=model(headline)\n",
    "            output.float()\n",
    "            y.float()\n",
    "            val_loss_buffer.append(loss_fn(output,y).item())\n",
    "            if(correct(output, y, std_ret, mean_ret)==1):\n",
    "                hit_profit += correct(output, y, std_ret, mean_ret) * abs(y*std_ret - mean_ret)\n",
    "            else:\n",
    "                hit_profit-= abs(y*std_ret - mean_ret)\n",
    "            \n",
    "            cor+=correct(output,y,std_ret,mean_ret)\n",
    "            \n",
    "        val_acc=cor/len(loader)\n",
    "        val_loss=torch.mean(torch.tensor(val_loss_buffer))\n",
    "        print(f\"Test loss: {val_loss:.3f} Test Acc {val_acc:.5f}\")\n",
    "        print(f\"Test Hit Profit: {hit_profit.item():0.3f}\")\n",
    "        \n",
    "        return val_loss,val_acc,hit_profit"
   ]
  },
  {
   "cell_type": "code",
   "execution_count": 51,
   "id": "5641d1d2-e803-4cb6-92ef-32f9fc227bdf",
   "metadata": {},
   "outputs": [],
   "source": [
    "def test_numeric(model,loader):\n",
    "    loss_fn=torch.nn.MSELoss()\n",
    "\n",
    "    model.eval()\n",
    "    with torch.no_grad():\n",
    "        val_loss_buffer=[]\n",
    "        val_ac=0\n",
    "        cor=0\n",
    "        hit_profit=0\n",
    "        for i, (x,y) in enumerate(loader):\n",
    "            headline,numeric = x\n",
    "            numeric=numeric.float()\n",
    "            numeric=numeric.cuda()\n",
    "            y=y.cuda()\n",
    "            \n",
    "            output=model(numeric)\n",
    "            output.float()\n",
    "            y.float()\n",
    "            val_loss_buffer.append(loss_fn(output,y).item())\n",
    "            if(correct(output, y, std_ret, mean_ret)==1):\n",
    "                hit_profit += correct(output, y, std_ret, mean_ret) * abs(y*std_ret - mean_ret)\n",
    "            else:\n",
    "                hit_profit-= abs(y*std_ret - mean_ret)\n",
    "            \n",
    "            cor+=correct(output,y,std_ret,mean_ret)\n",
    "            \n",
    "        val_acc=cor/len(loader)\n",
    "        val_loss=torch.mean(torch.tensor(val_loss_buffer))\n",
    "        print(f\"Test loss: {val_loss:.3f} Test Acc {val_acc:.5f}\")\n",
    "        print(f\"Test Hit Profit: {hit_profit.item():0.3f}\")\n",
    "        \n",
    "        return val_loss,val_acc,hit_profit"
   ]
  },
  {
   "cell_type": "code",
   "execution_count": 54,
   "id": "ec04d5c7-ebdc-4c94-95a8-b9c882e4bbdd",
   "metadata": {},
   "outputs": [
    {
     "name": "stdout",
     "output_type": "stream",
     "text": [
      "Test loss: 0.489 Test Acc 0.49372\n",
      "Test Hit Profit: -0.861\n",
      "Test loss: 2.502 Test Acc 0.56031\n",
      "Test Hit Profit: 22.796\n",
      "Test loss: 0.568 Test Acc 0.52500\n",
      "Test Hit Profit: 32.509\n"
     ]
    },
    {
     "data": {
      "text/plain": [
       "(tensor(0.5680),\n",
       " 0.525,\n",
       " tensor([32.5089], device='cuda:0', dtype=torch.float64))"
      ]
     },
     "execution_count": 54,
     "metadata": {},
     "output_type": "execute_result"
    }
   ],
   "source": [
    "test_tan(tan,test_loader_2019)\n",
    "test_tan(tan,test_loader_2020)\n",
    "test_tan(tan,test_loader_2021)"
   ]
  },
  {
   "cell_type": "code",
   "execution_count": 49,
   "id": "1b58dde8-c032-45fc-a4be-edf50195c0d4",
   "metadata": {},
   "outputs": [
    {
     "name": "stdout",
     "output_type": "stream",
     "text": [
      "Test loss: 0.438 Test Acc 0.45607\n",
      "Test Hit Profit: -4.375\n",
      "Test loss: 2.437 Test Acc 0.49416\n",
      "Test Hit Profit: 24.061\n",
      "Test loss: 0.586 Test Acc 0.47917\n",
      "Test Hit Profit: 5.428\n"
     ]
    },
    {
     "data": {
      "text/plain": [
       "(tensor(0.5856),\n",
       " 0.4791666666666667,\n",
       " tensor([5.4277], device='cuda:0', dtype=torch.float64))"
      ]
     },
     "execution_count": 49,
     "metadata": {},
     "output_type": "execute_result"
    }
   ],
   "source": [
    "test_text(tog,test_loader_2019)\n",
    "test_text(tog,test_loader_2020)\n",
    "test_text(tog,test_loader_2021)"
   ]
  },
  {
   "cell_type": "code",
   "execution_count": 52,
   "id": "8ab9c490-a52b-439c-af17-67214ddb63d9",
   "metadata": {},
   "outputs": [
    {
     "name": "stdout",
     "output_type": "stream",
     "text": [
      "Test loss: 0.401 Test Acc 0.56485\n",
      "Test Hit Profit: 5.689\n",
      "Test loss: 2.442 Test Acc 0.52529\n",
      "Test Hit Profit: -12.244\n",
      "Test loss: 0.539 Test Acc 0.57917\n",
      "Test Hit Profit: 7.666\n"
     ]
    },
    {
     "data": {
      "text/plain": [
       "(tensor(0.5387),\n",
       " 0.5791666666666667,\n",
       " tensor([7.6655], device='cuda:0', dtype=torch.float64))"
      ]
     },
     "execution_count": 52,
     "metadata": {},
     "output_type": "execute_result"
    }
   ],
   "source": [
    "test_numeric(lstmn,test_loader_2019)\n",
    "test_numeric(lstmn,test_loader_2020)\n",
    "test_numeric(lstmn,test_loader_2021)"
   ]
  },
  {
   "cell_type": "code",
   "execution_count": null,
   "id": "65094c9c-4e58-4b42-bd19-b9a2f8d07ba9",
   "metadata": {},
   "outputs": [],
   "source": []
  }
 ],
 "metadata": {
  "kernelspec": {
   "display_name": "Python 3",
   "language": "python",
   "name": "python3"
  },
  "language_info": {
   "codemirror_mode": {
    "name": "ipython",
    "version": 3
   },
   "file_extension": ".py",
   "mimetype": "text/x-python",
   "name": "python",
   "nbconvert_exporter": "python",
   "pygments_lexer": "ipython3",
   "version": "3.9.2"
  }
 },
 "nbformat": 4,
 "nbformat_minor": 5
}
