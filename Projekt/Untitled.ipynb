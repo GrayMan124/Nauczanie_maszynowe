{
 "cells": [
  {
   "cell_type": "code",
   "execution_count": 8,
   "id": "192cc0a6-da42-4dc0-8d8d-684720951cd0",
   "metadata": {},
   "outputs": [
    {
     "data": {
      "text/plain": [
       "True"
      ]
     },
     "execution_count": 8,
     "metadata": {},
     "output_type": "execute_result"
    }
   ],
   "source": [
    "import torch\n",
    "import pandas as pd\n",
    "import matplotlib.pyplot as plt\n",
    "from torchvision.transforms import Normalize\n",
    "from collections import namedtuple\n",
    "\n",
    "torch.cuda.is_available()"
   ]
  },
  {
   "cell_type": "code",
   "execution_count": 9,
   "id": "3f16154a-d3ca-4839-8391-4e476780075e",
   "metadata": {},
   "outputs": [],
   "source": [
    "reuters=pd.read_csv(\"data/reut_data.csv\",sep='|')\n",
    "\n",
    "sx5e_data=pd.read_csv(\"data\\SX5E.csv\")"
   ]
  },
  {
   "cell_type": "code",
   "execution_count": 11,
   "id": "c6615779-c0bc-42c2-9473-b5695b3f766e",
   "metadata": {},
   "outputs": [],
   "source": [
    "reuters.drop(columns='column1',inplace=True)"
   ]
  },
  {
   "cell_type": "code",
   "execution_count": 12,
   "id": "41e5c0c4-bfa3-4d42-8565-c36061a9578f",
   "metadata": {},
   "outputs": [
    {
     "name": "stdout",
     "output_type": "stream",
     "text": [
      "         Date                                           Headline\n",
      "0  2021-12-10  REFILE-UPDATE 2-European stocks slip on Omicro...\n",
      "1  2021-12-10  Tech stocks drag European shares ahead of U.S....\n",
      "2  2021-12-09  UPDATE 2-European shares fall again on Omicron...\n",
      "3  2021-12-09  European shares rebound as vaccine reassurance...\n",
      "4  2021-12-08  UPDATE 2-European shares end lower as tech, lu...\n",
      "       Date     Open     High      Low    Close\n",
      "0  12/10/21  4198.18  4221.57  4178.66  4199.16\n",
      "1  12/09/21  4242.66  4246.52  4201.85  4208.30\n",
      "2  12/08/21  4273.32  4288.20  4233.09  4233.09\n",
      "3  12/07/21  4157.72  4277.03  4157.72  4276.20\n",
      "4  12/06/21  4095.39  4146.16  4078.64  4137.11\n"
     ]
    }
   ],
   "source": [
    "print(reuters.head())\n",
    "print(sx5e_data.head())"
   ]
  },
  {
   "cell_type": "code",
   "execution_count": 14,
   "id": "bf2039f4-6b7d-4187-9e38-76ba67d0ade3",
   "metadata": {},
   "outputs": [],
   "source": []
  },
  {
   "cell_type": "code",
   "execution_count": 13,
   "id": "37d00a0c-b43a-40a2-b44c-71f3b513e22a",
   "metadata": {},
   "outputs": [],
   "source": [
    "text=reuters['Headline'][2]"
   ]
  },
  {
   "cell_type": "code",
   "execution_count": 14,
   "id": "55d6a496-1a10-4ee3-9882-43871cb0a60c",
   "metadata": {},
   "outputs": [
    {
     "name": "stdout",
     "output_type": "stream",
     "text": [
      "UPDATE 2-European shares fall again on Omicron worries\n"
     ]
    }
   ],
   "source": [
    "print(text)"
   ]
  },
  {
   "cell_type": "code",
   "execution_count": 15,
   "id": "0664db8b-8bd1-4cf2-8c43-0e715f02cc2b",
   "metadata": {},
   "outputs": [],
   "source": [
    "text=text.replace(\"UPDATE \",\"\")"
   ]
  },
  {
   "cell_type": "code",
   "execution_count": 16,
   "id": "37d02f91-fddf-49ae-9147-6ceb95d049dd",
   "metadata": {},
   "outputs": [
    {
     "name": "stdout",
     "output_type": "stream",
     "text": [
      "2-European shares fall again on Omicron worries\n"
     ]
    }
   ],
   "source": [
    "print(text)"
   ]
  },
  {
   "cell_type": "code",
   "execution_count": null,
   "id": "b966b1e7-7f63-42b8-b325-0a214021f3c2",
   "metadata": {},
   "outputs": [],
   "source": []
  }
 ],
 "metadata": {
  "kernelspec": {
   "display_name": "Python 3",
   "language": "python",
   "name": "python3"
  },
  "language_info": {
   "codemirror_mode": {
    "name": "ipython",
    "version": 3
   },
   "file_extension": ".py",
   "mimetype": "text/x-python",
   "name": "python",
   "nbconvert_exporter": "python",
   "pygments_lexer": "ipython3",
   "version": "3.9.2"
  }
 },
 "nbformat": 4,
 "nbformat_minor": 5
}
