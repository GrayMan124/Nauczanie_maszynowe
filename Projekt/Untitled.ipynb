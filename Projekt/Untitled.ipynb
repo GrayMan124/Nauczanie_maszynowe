{
 "cells": [
  {
   "cell_type": "code",
   "execution_count": 82,
   "id": "192cc0a6-da42-4dc0-8d8d-684720951cd0",
   "metadata": {},
   "outputs": [],
   "source": [
    "import torch\n",
    "import torch.nn as nn\n",
    "import pandas as pd\n",
    "import matplotlib.pyplot as plt\n",
    "from torchvision.transforms import Normalize\n",
    "from collections import namedtuple\n",
    "\n",
    "torch.cuda.is_available()\n",
    "from utils import correct"
   ]
  },
  {
   "cell_type": "code",
   "execution_count": 83,
   "id": "3f16154a-d3ca-4839-8391-4e476780075e",
   "metadata": {},
   "outputs": [],
   "source": [
    "reuters=pd.read_csv(\"data/reut_data.csv\",sep='|')\n",
    "\n",
    "sx5e_data=pd.read_csv(\"data\\SX5E.csv\")"
   ]
  },
  {
   "cell_type": "code",
   "execution_count": 84,
   "id": "c6615779-c0bc-42c2-9473-b5695b3f766e",
   "metadata": {},
   "outputs": [],
   "source": [
    "reuters.drop(columns='column1',inplace=True)"
   ]
  },
  {
   "cell_type": "code",
   "execution_count": 85,
   "id": "fac27d2d-ad4f-4a4f-a812-284a1ab292ba",
   "metadata": {},
   "outputs": [],
   "source": [
    "reuters.drop_duplicates(subset =\"Headline\",\n",
    "                     keep = 'first', inplace = True)\n",
    "reuters.dropna(inplace=True)"
   ]
  },
  {
   "cell_type": "code",
   "execution_count": 86,
   "id": "ec427e34-b95b-4764-8d96-f491abddc20c",
   "metadata": {},
   "outputs": [
    {
     "data": {
      "text/plain": [
       "Index(['Date', ' Open', ' High', ' Low', ' Close'], dtype='object')"
      ]
     },
     "execution_count": 86,
     "metadata": {},
     "output_type": "execute_result"
    }
   ],
   "source": [
    "sx5e_data.columns"
   ]
  },
  {
   "cell_type": "code",
   "execution_count": 87,
   "id": "0085198e-ed03-491b-8a77-2da513083a24",
   "metadata": {},
   "outputs": [],
   "source": [
    "sx5e_data['Date']=pd.to_datetime(sx5e_data.Date)\n",
    "sx5e_data = sx5e_data.sort_index(axis=0 ,ascending=False)\n",
    "sx5e_data.reset_index(drop=True,inplace=True)"
   ]
  },
  {
   "cell_type": "code",
   "execution_count": 88,
   "id": "3df21932-62a4-421d-a8a8-43c89e9fa467",
   "metadata": {},
   "outputs": [
    {
     "data": {
      "text/html": [
       "<div>\n",
       "<style scoped>\n",
       "    .dataframe tbody tr th:only-of-type {\n",
       "        vertical-align: middle;\n",
       "    }\n",
       "\n",
       "    .dataframe tbody tr th {\n",
       "        vertical-align: top;\n",
       "    }\n",
       "\n",
       "    .dataframe thead th {\n",
       "        text-align: right;\n",
       "    }\n",
       "</style>\n",
       "<table border=\"1\" class=\"dataframe\">\n",
       "  <thead>\n",
       "    <tr style=\"text-align: right;\">\n",
       "      <th></th>\n",
       "      <th>Date</th>\n",
       "      <th>Open</th>\n",
       "      <th>High</th>\n",
       "      <th>Low</th>\n",
       "      <th>Close</th>\n",
       "    </tr>\n",
       "  </thead>\n",
       "  <tbody>\n",
       "    <tr>\n",
       "      <th>0</th>\n",
       "      <td>2010-01-01</td>\n",
       "      <td>2964.96</td>\n",
       "      <td>2964.96</td>\n",
       "      <td>2964.96</td>\n",
       "      <td>2964.96</td>\n",
       "    </tr>\n",
       "    <tr>\n",
       "      <th>1</th>\n",
       "      <td>2010-01-04</td>\n",
       "      <td>2976.09</td>\n",
       "      <td>3017.80</td>\n",
       "      <td>2974.86</td>\n",
       "      <td>3017.80</td>\n",
       "    </tr>\n",
       "    <tr>\n",
       "      <th>2</th>\n",
       "      <td>2010-01-05</td>\n",
       "      <td>3014.56</td>\n",
       "      <td>3025.60</td>\n",
       "      <td>3006.47</td>\n",
       "      <td>3012.36</td>\n",
       "    </tr>\n",
       "    <tr>\n",
       "      <th>3</th>\n",
       "      <td>2010-01-06</td>\n",
       "      <td>3013.06</td>\n",
       "      <td>3016.83</td>\n",
       "      <td>2997.05</td>\n",
       "      <td>3009.66</td>\n",
       "    </tr>\n",
       "    <tr>\n",
       "      <th>4</th>\n",
       "      <td>2010-01-07</td>\n",
       "      <td>2997.37</td>\n",
       "      <td>3013.90</td>\n",
       "      <td>2979.80</td>\n",
       "      <td>3007.34</td>\n",
       "    </tr>\n",
       "  </tbody>\n",
       "</table>\n",
       "</div>"
      ],
      "text/plain": [
       "        Date     Open     High      Low    Close\n",
       "0 2010-01-01  2964.96  2964.96  2964.96  2964.96\n",
       "1 2010-01-04  2976.09  3017.80  2974.86  3017.80\n",
       "2 2010-01-05  3014.56  3025.60  3006.47  3012.36\n",
       "3 2010-01-06  3013.06  3016.83  2997.05  3009.66\n",
       "4 2010-01-07  2997.37  3013.90  2979.80  3007.34"
      ]
     },
     "execution_count": 88,
     "metadata": {},
     "output_type": "execute_result"
    }
   ],
   "source": [
    "sx5e_data.head()"
   ]
  },
  {
   "cell_type": "code",
   "execution_count": 89,
   "id": "0cbe3071-cc29-4d19-b5c4-5b8260dc236b",
   "metadata": {},
   "outputs": [
    {
     "data": {
      "text/html": [
       "<div>\n",
       "<style scoped>\n",
       "    .dataframe tbody tr th:only-of-type {\n",
       "        vertical-align: middle;\n",
       "    }\n",
       "\n",
       "    .dataframe tbody tr th {\n",
       "        vertical-align: top;\n",
       "    }\n",
       "\n",
       "    .dataframe thead th {\n",
       "        text-align: right;\n",
       "    }\n",
       "</style>\n",
       "<table border=\"1\" class=\"dataframe\">\n",
       "  <thead>\n",
       "    <tr style=\"text-align: right;\">\n",
       "      <th></th>\n",
       "      <th>Date</th>\n",
       "      <th>Headline</th>\n",
       "    </tr>\n",
       "  </thead>\n",
       "  <tbody>\n",
       "    <tr>\n",
       "      <th>0</th>\n",
       "      <td>2021-12-10</td>\n",
       "      <td>REFILE-UPDATE 2-European stocks slip on Omicro...</td>\n",
       "    </tr>\n",
       "    <tr>\n",
       "      <th>1</th>\n",
       "      <td>2021-12-10</td>\n",
       "      <td>Tech stocks drag European shares ahead of U.S....</td>\n",
       "    </tr>\n",
       "    <tr>\n",
       "      <th>2</th>\n",
       "      <td>2021-12-09</td>\n",
       "      <td>UPDATE 2-European shares fall again on Omicron...</td>\n",
       "    </tr>\n",
       "    <tr>\n",
       "      <th>3</th>\n",
       "      <td>2021-12-09</td>\n",
       "      <td>European shares rebound as vaccine reassurance...</td>\n",
       "    </tr>\n",
       "    <tr>\n",
       "      <th>4</th>\n",
       "      <td>2021-12-08</td>\n",
       "      <td>UPDATE 2-European shares end lower as tech, lu...</td>\n",
       "    </tr>\n",
       "  </tbody>\n",
       "</table>\n",
       "</div>"
      ],
      "text/plain": [
       "         Date                                           Headline\n",
       "0  2021-12-10  REFILE-UPDATE 2-European stocks slip on Omicro...\n",
       "1  2021-12-10  Tech stocks drag European shares ahead of U.S....\n",
       "2  2021-12-09  UPDATE 2-European shares fall again on Omicron...\n",
       "3  2021-12-09  European shares rebound as vaccine reassurance...\n",
       "4  2021-12-08  UPDATE 2-European shares end lower as tech, lu..."
      ]
     },
     "execution_count": 89,
     "metadata": {},
     "output_type": "execute_result"
    }
   ],
   "source": [
    "reuters.head()"
   ]
  },
  {
   "cell_type": "code",
   "execution_count": 90,
   "id": "41e5c0c4-bfa3-4d42-8565-c36061a9578f",
   "metadata": {},
   "outputs": [
    {
     "name": "stdout",
     "output_type": "stream",
     "text": [
      "         Date                                           Headline\n",
      "0  2021-12-10  REFILE-UPDATE 2-European stocks slip on Omicro...\n",
      "1  2021-12-10  Tech stocks drag European shares ahead of U.S....\n",
      "2  2021-12-09  UPDATE 2-European shares fall again on Omicron...\n",
      "3  2021-12-09  European shares rebound as vaccine reassurance...\n",
      "4  2021-12-08  UPDATE 2-European shares end lower as tech, lu...\n",
      "        Date     Open     High      Low    Close\n",
      "0 2010-01-01  2964.96  2964.96  2964.96  2964.96\n",
      "1 2010-01-04  2976.09  3017.80  2974.86  3017.80\n",
      "2 2010-01-05  3014.56  3025.60  3006.47  3012.36\n",
      "3 2010-01-06  3013.06  3016.83  2997.05  3009.66\n",
      "4 2010-01-07  2997.37  3013.90  2979.80  3007.34\n",
      "(3106, 5)\n",
      "12659\n",
      "Tech stocks drag European shares ahead of U.S. inflation data\n"
     ]
    }
   ],
   "source": [
    "print(reuters.head())\n",
    "print(sx5e_data.head())\n",
    "print(sx5e_data.shape)\n",
    "print(len(reuters))\n",
    "print(reuters['Headline'][1])\n",
    "reuters.dropna(inplace=True)\n",
    "reuters.reset_index(drop=False,inplace=True)\n"
   ]
  },
  {
   "cell_type": "code",
   "execution_count": 91,
   "id": "bf2039f4-6b7d-4187-9e38-76ba67d0ade3",
   "metadata": {},
   "outputs": [
    {
     "name": "stderr",
     "output_type": "stream",
     "text": [
      "<ipython-input-91-4fffbfdca2bc>:13: SettingWithCopyWarning: \n",
      "A value is trying to be set on a copy of a slice from a DataFrame\n",
      "\n",
      "See the caveats in the documentation: https://pandas.pydata.org/pandas-docs/stable/user_guide/indexing.html#returning-a-view-versus-a-copy\n",
      "  reuters['Headline'][i]=text\n"
     ]
    }
   ],
   "source": [
    "for i in range(len(reuters)):\n",
    "    text=reuters['Headline'][i]\n",
    "    text=text.replace(\"REFILE-UPDATE 2-\",\"\")\n",
    "    text=text.replace(\"UPDATE 2-\",\"\")\n",
    "    text=text.replace(\"UPDATE 1-\",\"\")\n",
    "    text=text.replace(\"UPDATE \",\"\")\n",
    "    text=text.replace(\",\",\"\")\n",
    "    text=text.replace(\".\",\"\")\n",
    "    text=text.replace(\";\",\"\")\n",
    "    text=text.replace(\":\",\"\")\n",
    "    text=text.replace(\"-\",\"\")\n",
    "    text=text.replace(\"European\",\"\")\n",
    "    reuters['Headline'][i]=text\n",
    "    "
   ]
  },
  {
   "cell_type": "code",
   "execution_count": 92,
   "id": "37d00a0c-b43a-40a2-b44c-71f3b513e22a",
   "metadata": {},
   "outputs": [],
   "source": [
    "text=reuters['Headline'][1464]"
   ]
  },
  {
   "cell_type": "code",
   "execution_count": 93,
   "id": "948e633c-fdb1-46c9-b82d-a3955a411146",
   "metadata": {},
   "outputs": [],
   "source": [
    "sx5e_data.drop(columns=[' Open',' High',' Low'],inplace=True)"
   ]
  },
  {
   "cell_type": "code",
   "execution_count": 94,
   "id": "7efd8afd-474d-447a-a72e-517ba77b39d0",
   "metadata": {},
   "outputs": [
    {
     "data": {
      "text/html": [
       "<div>\n",
       "<style scoped>\n",
       "    .dataframe tbody tr th:only-of-type {\n",
       "        vertical-align: middle;\n",
       "    }\n",
       "\n",
       "    .dataframe tbody tr th {\n",
       "        vertical-align: top;\n",
       "    }\n",
       "\n",
       "    .dataframe thead th {\n",
       "        text-align: right;\n",
       "    }\n",
       "</style>\n",
       "<table border=\"1\" class=\"dataframe\">\n",
       "  <thead>\n",
       "    <tr style=\"text-align: right;\">\n",
       "      <th></th>\n",
       "      <th>Date</th>\n",
       "      <th>Close</th>\n",
       "    </tr>\n",
       "  </thead>\n",
       "  <tbody>\n",
       "    <tr>\n",
       "      <th>0</th>\n",
       "      <td>2010-01-01</td>\n",
       "      <td>2964.96</td>\n",
       "    </tr>\n",
       "    <tr>\n",
       "      <th>1</th>\n",
       "      <td>2010-01-04</td>\n",
       "      <td>3017.80</td>\n",
       "    </tr>\n",
       "    <tr>\n",
       "      <th>2</th>\n",
       "      <td>2010-01-05</td>\n",
       "      <td>3012.36</td>\n",
       "    </tr>\n",
       "    <tr>\n",
       "      <th>3</th>\n",
       "      <td>2010-01-06</td>\n",
       "      <td>3009.66</td>\n",
       "    </tr>\n",
       "    <tr>\n",
       "      <th>4</th>\n",
       "      <td>2010-01-07</td>\n",
       "      <td>3007.34</td>\n",
       "    </tr>\n",
       "  </tbody>\n",
       "</table>\n",
       "</div>"
      ],
      "text/plain": [
       "        Date    Close\n",
       "0 2010-01-01  2964.96\n",
       "1 2010-01-04  3017.80\n",
       "2 2010-01-05  3012.36\n",
       "3 2010-01-06  3009.66\n",
       "4 2010-01-07  3007.34"
      ]
     },
     "execution_count": 94,
     "metadata": {},
     "output_type": "execute_result"
    }
   ],
   "source": [
    "sx5e_data.head()"
   ]
  },
  {
   "cell_type": "code",
   "execution_count": 95,
   "id": "b7af5ac0-e8ae-4c06-b456-6db63c690389",
   "metadata": {},
   "outputs": [],
   "source": [
    "def return_fun(data,delta_t):\n",
    "    data1=data.to_numpy()\n",
    "    ret_fun=[]\n",
    "    for i in range(len(data1)-delta_t):\n",
    "        ret_fun.append(100*(data1[i+delta_t,1]-data1[i,1])/data1[i,1])\n",
    "    for i in range(delta_t):\n",
    "        ret_fun.append(None)\n",
    "    ret_fun=ret_fun\n",
    "    return ret_fun"
   ]
  },
  {
   "cell_type": "code",
   "execution_count": 96,
   "id": "a7c7758a-ffde-4abf-9115-cd14fe9fb9f6",
   "metadata": {},
   "outputs": [
    {
     "name": "stdout",
     "output_type": "stream",
     "text": [
      "-0.08963072142772685\n"
     ]
    }
   ],
   "source": [
    "ret_fun=return_fun(sx5e_data,1)\n",
    "print(ret_fun[2])"
   ]
  },
  {
   "cell_type": "code",
   "execution_count": 97,
   "id": "e87d395c-1667-4a69-bd02-719a1304e825",
   "metadata": {},
   "outputs": [],
   "source": [
    "sx5e_data['Return']=ret_fun"
   ]
  },
  {
   "cell_type": "code",
   "execution_count": 98,
   "id": "a0301f9c-ffcb-4b22-a1d0-483201390bba",
   "metadata": {},
   "outputs": [
    {
     "data": {
      "text/html": [
       "<div>\n",
       "<style scoped>\n",
       "    .dataframe tbody tr th:only-of-type {\n",
       "        vertical-align: middle;\n",
       "    }\n",
       "\n",
       "    .dataframe tbody tr th {\n",
       "        vertical-align: top;\n",
       "    }\n",
       "\n",
       "    .dataframe thead th {\n",
       "        text-align: right;\n",
       "    }\n",
       "</style>\n",
       "<table border=\"1\" class=\"dataframe\">\n",
       "  <thead>\n",
       "    <tr style=\"text-align: right;\">\n",
       "      <th></th>\n",
       "      <th>Date</th>\n",
       "      <th>Close</th>\n",
       "      <th>Return</th>\n",
       "    </tr>\n",
       "  </thead>\n",
       "  <tbody>\n",
       "    <tr>\n",
       "      <th>0</th>\n",
       "      <td>2010-01-01</td>\n",
       "      <td>2964.96</td>\n",
       "      <td>1.782149</td>\n",
       "    </tr>\n",
       "    <tr>\n",
       "      <th>1</th>\n",
       "      <td>2010-01-04</td>\n",
       "      <td>3017.80</td>\n",
       "      <td>-0.180264</td>\n",
       "    </tr>\n",
       "    <tr>\n",
       "      <th>2</th>\n",
       "      <td>2010-01-05</td>\n",
       "      <td>3012.36</td>\n",
       "      <td>-0.089631</td>\n",
       "    </tr>\n",
       "    <tr>\n",
       "      <th>3</th>\n",
       "      <td>2010-01-06</td>\n",
       "      <td>3009.66</td>\n",
       "      <td>-0.077085</td>\n",
       "    </tr>\n",
       "    <tr>\n",
       "      <th>4</th>\n",
       "      <td>2010-01-07</td>\n",
       "      <td>3007.34</td>\n",
       "      <td>0.349478</td>\n",
       "    </tr>\n",
       "  </tbody>\n",
       "</table>\n",
       "</div>"
      ],
      "text/plain": [
       "        Date    Close    Return\n",
       "0 2010-01-01  2964.96  1.782149\n",
       "1 2010-01-04  3017.80 -0.180264\n",
       "2 2010-01-05  3012.36 -0.089631\n",
       "3 2010-01-06  3009.66 -0.077085\n",
       "4 2010-01-07  3007.34  0.349478"
      ]
     },
     "execution_count": 98,
     "metadata": {},
     "output_type": "execute_result"
    }
   ],
   "source": [
    "sx5e_data.dropna(inplace=True)\n",
    "sx5e_data.head()"
   ]
  },
  {
   "cell_type": "code",
   "execution_count": 99,
   "id": "07a27229-a98f-4422-935f-2c8095808194",
   "metadata": {},
   "outputs": [],
   "source": [
    "class Lang:\n",
    "    def __init__(self, name):\n",
    "        self.name = name\n",
    "        self.word2index = {}\n",
    "        self.word2count = {}\n",
    "        self.index2word = {}\n",
    "        self.n_words = 0 \n",
    "\n",
    "    def addSentence(self, sentence):\n",
    "        for word in sentence.split(' '):\n",
    "            self.addWord(word)\n",
    "\n",
    "    def addWord(self, word):\n",
    "        if word not in self.word2index:\n",
    "            self.word2index[word] = self.n_words\n",
    "            self.word2count[word] = 1\n",
    "            self.index2word[self.n_words] = word\n",
    "            self.n_words += 1\n",
    "        else:\n",
    "            self.word2count[word] += 1\n",
    "            \n",
    "def indexesFromSentence(lang, sentence):\n",
    "    return [lang.word2index[word] for word in sentence.split(' ')]\n",
    "\n",
    "def tensorFromSentence(lang, sentence):\n",
    "    indexes = indexesFromSentence(lang, sentence)\n",
    "    return torch.tensor(indexes, dtype=torch.long).view(-1)"
   ]
  },
  {
   "cell_type": "code",
   "execution_count": 101,
   "id": "90482bb6-2844-431a-84ff-67b8f299c1d7",
   "metadata": {},
   "outputs": [],
   "source": [
    "ret_fun.remove(None)\n",
    "tensor_ret=torch.tensor(ret_fun,dtype=torch.float32)\n",
    "mean_ret=torch.mean(tensor_ret)\n",
    "std_ret=torch.std(tensor_ret)\n",
    "ret_norm=(tensor_ret-mean_ret)/std_ret"
   ]
  },
  {
   "cell_type": "code",
   "execution_count": 102,
   "id": "408e0946-62d2-449c-9915-2827795e5c8f",
   "metadata": {},
   "outputs": [],
   "source": [
    "lang=Lang('t')\n",
    "\n",
    "for i in range(len(reuters)):\n",
    "    sentence=reuters['Headline'][i]\n",
    "    lang.addSentence(sentence)"
   ]
  },
  {
   "cell_type": "code",
   "execution_count": 103,
   "id": "2e74fd3c-21bb-419d-9a70-be14ced7cce3",
   "metadata": {},
   "outputs": [],
   "source": [
    "data_set=[]\n",
    "data=namedtuple('Data',['headline','ret'])\n",
    "for i in range(len(reuters)):\n",
    "    headline=tensorFromSentence(lang,reuters['Headline'][i])\n",
    "    row=sx5e_data.loc[sx5e_data['Date']== reuters['Date'][i]]\n",
    "    ret=row['Return']\n",
    "    if(ret.empty):\n",
    "        continue\n",
    "    ret=torch.tensor(ret.values)\n",
    "    r=(ret-mean_ret)/std_ret\n",
    "    d=data(headline,r)\n",
    "    data_set.append(d)\n",
    "    "
   ]
  },
  {
   "cell_type": "code",
   "execution_count": 104,
   "id": "80aec28c-e273-48c6-bb80-c213664c2640",
   "metadata": {},
   "outputs": [
    {
     "data": {
      "text/plain": [
       "12654"
      ]
     },
     "execution_count": 104,
     "metadata": {},
     "output_type": "execute_result"
    }
   ],
   "source": [
    "len(data_set)"
   ]
  },
  {
   "cell_type": "code",
   "execution_count": 105,
   "id": "55f43766-8b92-4265-9e8d-d4db2b41a1ea",
   "metadata": {},
   "outputs": [
    {
     "name": "stdout",
     "output_type": "stream",
     "text": [
      "9422\n",
      "1616\n",
      "1616\n"
     ]
    }
   ],
   "source": [
    "train_data=data_set[3232:]\n",
    "val_data=data_set[1616:3232]\n",
    "test_data=data_set[:1616]\n",
    "print(len(train_data))\n",
    "print(len(val_data))\n",
    "print(len(test_data))"
   ]
  },
  {
   "cell_type": "code",
   "execution_count": 106,
   "id": "45994ea4-8cfa-4d26-908c-82387d28b537",
   "metadata": {},
   "outputs": [],
   "source": [
    "def correct(output,target,std_ret,mean_ret):\n",
    "    o=output.flatten()*std_ret +mean_ret\n",
    "    t=target*std_ret + mean_ret\n",
    "    tmp=o*t\n",
    "    correct=0\n",
    "    for i in range(len(tmp)):\n",
    "        if(tmp[i].item() > 0):\n",
    "            correct+=1\n",
    "    return correct\n"
   ]
  },
  {
   "cell_type": "code",
   "execution_count": 110,
   "id": "f72a9df2-c3a2-4525-9a04-9a52d10afdc9",
   "metadata": {},
   "outputs": [],
   "source": [
    "train_loader=torch.utils.data.DataLoader(train_data, batch_size=1,shuffle=True)\n",
    "val_loader=torch.utils.data.DataLoader(val_data, batch_size=1)\n",
    "test_loader=torch.utils.data.DataLoader(test_data, batch_size=1)"
   ]
  },
  {
   "cell_type": "code",
   "execution_count": 113,
   "id": "3964b336-d167-43c2-b46b-2e7f32bdf90f",
   "metadata": {},
   "outputs": [
    {
     "ename": "ImportError",
     "evalue": "cannot import name 'TextOnlyGRU' from 'utils' (G:\\Nauczanie_maszynowe\\Projekt\\utils.py)",
     "output_type": "error",
     "traceback": [
      "\u001b[1;31m---------------------------------------------------------------------------\u001b[0m",
      "\u001b[1;31mImportError\u001b[0m                               Traceback (most recent call last)",
      "\u001b[1;32m<ipython-input-113-278853973ecc>\u001b[0m in \u001b[0;36m<module>\u001b[1;34m\u001b[0m\n\u001b[1;32m----> 1\u001b[1;33m \u001b[1;32mfrom\u001b[0m \u001b[0mutils\u001b[0m \u001b[1;32mimport\u001b[0m \u001b[0mTextOnlyGRU\u001b[0m\u001b[1;33m\u001b[0m\u001b[1;33m\u001b[0m\u001b[0m\n\u001b[0m",
      "\u001b[1;31mImportError\u001b[0m: cannot import name 'TextOnlyGRU' from 'utils' (G:\\Nauczanie_maszynowe\\Projekt\\utils.py)"
     ]
    }
   ],
   "source": [
    "from utils import TextOnlyGRU"
   ]
  },
  {
   "cell_type": "code",
   "execution_count": 112,
   "id": "d874590f-d9ff-43ac-a29d-94c2df53fa7c",
   "metadata": {},
   "outputs": [
    {
     "name": "stdout",
     "output_type": "stream",
     "text": [
      "Epoch: 1 Progress:  0% Loss: 2.905\n",
      "Epoch: 1 Progress: 11% Loss: 1.578\n"
     ]
    },
    {
     "ename": "KeyboardInterrupt",
     "evalue": "",
     "output_type": "error",
     "traceback": [
      "\u001b[1;31m---------------------------------------------------------------------------\u001b[0m",
      "\u001b[1;31mKeyboardInterrupt\u001b[0m                         Traceback (most recent call last)",
      "\u001b[1;32m<ipython-input-112-e448e20a6ffe>\u001b[0m in \u001b[0;36m<module>\u001b[1;34m\u001b[0m\n\u001b[0;32m     36\u001b[0m         \u001b[0mrunning_loss\u001b[0m\u001b[1;33m+=\u001b[0m\u001b[0mloss\u001b[0m\u001b[1;33m.\u001b[0m\u001b[0mitem\u001b[0m\u001b[1;33m(\u001b[0m\u001b[1;33m)\u001b[0m\u001b[1;33m\u001b[0m\u001b[1;33m\u001b[0m\u001b[0m\n\u001b[0;32m     37\u001b[0m         \u001b[0mloss_buffer\u001b[0m\u001b[1;33m.\u001b[0m\u001b[0mappend\u001b[0m\u001b[1;33m(\u001b[0m\u001b[0mloss\u001b[0m\u001b[1;33m.\u001b[0m\u001b[0mitem\u001b[0m\u001b[1;33m(\u001b[0m\u001b[1;33m)\u001b[0m\u001b[1;33m)\u001b[0m\u001b[1;33m\u001b[0m\u001b[1;33m\u001b[0m\u001b[0m\n\u001b[1;32m---> 38\u001b[1;33m         \u001b[0mloss\u001b[0m\u001b[1;33m.\u001b[0m\u001b[0mbackward\u001b[0m\u001b[1;33m(\u001b[0m\u001b[1;33m)\u001b[0m\u001b[1;33m\u001b[0m\u001b[1;33m\u001b[0m\u001b[0m\n\u001b[0m\u001b[0;32m     39\u001b[0m         \u001b[0moptimizer\u001b[0m\u001b[1;33m.\u001b[0m\u001b[0mstep\u001b[0m\u001b[1;33m(\u001b[0m\u001b[1;33m)\u001b[0m\u001b[1;33m\u001b[0m\u001b[1;33m\u001b[0m\u001b[0m\n\u001b[0;32m     40\u001b[0m \u001b[1;33m\u001b[0m\u001b[0m\n",
      "\u001b[1;32mc:\\users\\48694\\appdata\\local\\programs\\python\\python39\\lib\\site-packages\\torch\\_tensor.py\u001b[0m in \u001b[0;36mbackward\u001b[1;34m(self, gradient, retain_graph, create_graph, inputs)\u001b[0m\n\u001b[0;32m    253\u001b[0m                 \u001b[0mcreate_graph\u001b[0m\u001b[1;33m=\u001b[0m\u001b[0mcreate_graph\u001b[0m\u001b[1;33m,\u001b[0m\u001b[1;33m\u001b[0m\u001b[1;33m\u001b[0m\u001b[0m\n\u001b[0;32m    254\u001b[0m                 inputs=inputs)\n\u001b[1;32m--> 255\u001b[1;33m         \u001b[0mtorch\u001b[0m\u001b[1;33m.\u001b[0m\u001b[0mautograd\u001b[0m\u001b[1;33m.\u001b[0m\u001b[0mbackward\u001b[0m\u001b[1;33m(\u001b[0m\u001b[0mself\u001b[0m\u001b[1;33m,\u001b[0m \u001b[0mgradient\u001b[0m\u001b[1;33m,\u001b[0m \u001b[0mretain_graph\u001b[0m\u001b[1;33m,\u001b[0m \u001b[0mcreate_graph\u001b[0m\u001b[1;33m,\u001b[0m \u001b[0minputs\u001b[0m\u001b[1;33m=\u001b[0m\u001b[0minputs\u001b[0m\u001b[1;33m)\u001b[0m\u001b[1;33m\u001b[0m\u001b[1;33m\u001b[0m\u001b[0m\n\u001b[0m\u001b[0;32m    256\u001b[0m \u001b[1;33m\u001b[0m\u001b[0m\n\u001b[0;32m    257\u001b[0m     \u001b[1;32mdef\u001b[0m \u001b[0mregister_hook\u001b[0m\u001b[1;33m(\u001b[0m\u001b[0mself\u001b[0m\u001b[1;33m,\u001b[0m \u001b[0mhook\u001b[0m\u001b[1;33m)\u001b[0m\u001b[1;33m:\u001b[0m\u001b[1;33m\u001b[0m\u001b[1;33m\u001b[0m\u001b[0m\n",
      "\u001b[1;32mc:\\users\\48694\\appdata\\local\\programs\\python\\python39\\lib\\site-packages\\torch\\autograd\\__init__.py\u001b[0m in \u001b[0;36mbackward\u001b[1;34m(tensors, grad_tensors, retain_graph, create_graph, grad_variables, inputs)\u001b[0m\n\u001b[0;32m    145\u001b[0m         \u001b[0mretain_graph\u001b[0m \u001b[1;33m=\u001b[0m \u001b[0mcreate_graph\u001b[0m\u001b[1;33m\u001b[0m\u001b[1;33m\u001b[0m\u001b[0m\n\u001b[0;32m    146\u001b[0m \u001b[1;33m\u001b[0m\u001b[0m\n\u001b[1;32m--> 147\u001b[1;33m     Variable._execution_engine.run_backward(\n\u001b[0m\u001b[0;32m    148\u001b[0m         \u001b[0mtensors\u001b[0m\u001b[1;33m,\u001b[0m \u001b[0mgrad_tensors_\u001b[0m\u001b[1;33m,\u001b[0m \u001b[0mretain_graph\u001b[0m\u001b[1;33m,\u001b[0m \u001b[0mcreate_graph\u001b[0m\u001b[1;33m,\u001b[0m \u001b[0minputs\u001b[0m\u001b[1;33m,\u001b[0m\u001b[1;33m\u001b[0m\u001b[1;33m\u001b[0m\u001b[0m\n\u001b[0;32m    149\u001b[0m         allow_unreachable=True, accumulate_grad=True)  # allow_unreachable flag\n",
      "\u001b[1;31mKeyboardInterrupt\u001b[0m: "
     ]
    }
   ],
   "source": [
    "text_only_gru=TextOnlyGRU(lang.n_words,256,128,1).cuda()\n",
    "params = text_only_gru.parameters()\n",
    "\n",
    "loss_fn=torch.nn.MSELoss()\n",
    "optimizer = torch.optim.Adam(params, lr=0.02) \n",
    "scheduler = torch.optim.lr_scheduler.ExponentialLR(optimizer, gamma=0.9)\n",
    "\n",
    "\n",
    "epoch = 30\n",
    "\n",
    "\n",
    "history_train_loss=[]\n",
    "history_val_loss=[]\n",
    "\n",
    "history_train_acc=[]\n",
    "history_val_acc=[]\n",
    "\n",
    "\n",
    "for e in range(1,epoch+1):    \n",
    "   \n",
    "    corr=0\n",
    "    \n",
    "    text_only_gru.train()\n",
    "    loss_buffer=[]\n",
    "    for i, (x, y) in enumerate(train_loader):\n",
    "        size+=len(y)\n",
    "        x = x.cuda()\n",
    "        y = y.cuda()\n",
    "        optimizer.zero_grad()\n",
    "        \n",
    "        output = text_only_gru(x)\n",
    "        output= output.float()\n",
    "        y=y.float()\n",
    "        loss = loss_fn(output, y)\n",
    "        corr+=correct(output,y,std_ret,mean_ret)\n",
    "        running_loss+=loss.item()\n",
    "        loss_buffer.append(loss.item())\n",
    "        loss.backward()\n",
    "        optimizer.step() \n",
    "        \n",
    "        if(i%1000==1):\n",
    "            print(f\"Epoch: {e} Progress: {100 * i/len(train_loader):2.0f}% Loss: {torch.mean(torch.tensor(loss_buffer)):.3f}\")\n",
    "    \n",
    "    scheduler.step()\n",
    "    \n",
    "    train_loss=torch.mean(torch.tensor(loss_buffer))\n",
    "    history_train_loss.append(train_loss)\n",
    "    train_acc=corr/len(train_loader)\n",
    "    history_train_acc.append(train_acc)\n",
    "    \n",
    "    print()\n",
    "    print(f\"Epoch:  {e}  Train Loss:  {train_loss:.3f} Train Acc: {train_acc:.5f}\")\n",
    "    \n",
    "    \n",
    "    text_only_gru.eval()\n",
    "    with torch.no_grad():\n",
    "        val_loss_buffer=[]\n",
    "        val_ac=0\n",
    "        cor=0\n",
    "        for i, (x,y) in enumerate(val_loader):\n",
    "            x=x.cuda()\n",
    "            y=y.cuda()\n",
    "            \n",
    "            output=text_only_gru(x)\n",
    "            output.float()\n",
    "            y.float()\n",
    "            val_loss_buffer.append(loss_fn(output,y).item())\n",
    "            \n",
    "            \n",
    "            cor+=correct(output,y,std_ret,mean_ret)\n",
    "            \n",
    "        val_acc=cor/len(val_loader)\n",
    "        val_loss=torch.mean(torch.tensor(val_loss_buffer))\n",
    "        print(f\"Val loss: {val_loss:.3f} Val Acc {val_acc:.5f}\")\n",
    "        print()\n",
    "        \n",
    "        history_val_loss.append(val_loss)\n",
    "        history_val_acc.append(val_acc)"
   ]
  },
  {
   "cell_type": "code",
   "execution_count": null,
   "id": "53ef81b6-d39a-47b7-bc2c-2a008d434b8b",
   "metadata": {},
   "outputs": [],
   "source": []
  }
 ],
 "metadata": {
  "kernelspec": {
   "display_name": "Python 3",
   "language": "python",
   "name": "python3"
  },
  "language_info": {
   "codemirror_mode": {
    "name": "ipython",
    "version": 3
   },
   "file_extension": ".py",
   "mimetype": "text/x-python",
   "name": "python",
   "nbconvert_exporter": "python",
   "pygments_lexer": "ipython3",
   "version": "3.9.2"
  }
 },
 "nbformat": 4,
 "nbformat_minor": 5
}
