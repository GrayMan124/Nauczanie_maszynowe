{
 "cells": [
  {
   "cell_type": "code",
   "execution_count": 193,
   "id": "192cc0a6-da42-4dc0-8d8d-684720951cd0",
   "metadata": {},
   "outputs": [],
   "source": [
    "import torch\n",
    "import torch.nn as nn\n",
    "import pandas as pd\n",
    "import matplotlib.pyplot as plt\n",
    "from torchvision.transforms import Normalize\n",
    "from collections import namedtuple\n",
    "\n",
    "torch.cuda.is_available()\n",
    "\n",
    "from gensim.test.utils import common_texts\n",
    "from gensim.models import Word2Vec"
   ]
  },
  {
   "cell_type": "code",
   "execution_count": 119,
   "id": "3f16154a-d3ca-4839-8391-4e476780075e",
   "metadata": {},
   "outputs": [],
   "source": [
    "reuters=pd.read_csv(\"data/reut_data.csv\",sep='|')\n",
    "\n",
    "sx5e_data=pd.read_csv(\"data\\SX5E.csv\")"
   ]
  },
  {
   "cell_type": "code",
   "execution_count": 120,
   "id": "c6615779-c0bc-42c2-9473-b5695b3f766e",
   "metadata": {},
   "outputs": [],
   "source": [
    "reuters.drop(columns='column1',inplace=True)"
   ]
  },
  {
   "cell_type": "code",
   "execution_count": 121,
   "id": "fac27d2d-ad4f-4a4f-a812-284a1ab292ba",
   "metadata": {},
   "outputs": [],
   "source": [
    "reuters.drop_duplicates(subset =\"Headline\",\n",
    "                     keep = 'first', inplace = True)\n",
    "reuters.dropna(inplace=True)"
   ]
  },
  {
   "cell_type": "code",
   "execution_count": 124,
   "id": "41e5c0c4-bfa3-4d42-8565-c36061a9578f",
   "metadata": {},
   "outputs": [
    {
     "name": "stdout",
     "output_type": "stream",
     "text": [
      "   index        Date                                           Headline\n",
      "0      0  2021-12-10  European stocks slip on Omicron worries but po...\n",
      "1      1  2021-12-10  Tech stocks drag European shares ahead of US i...\n",
      "2      2  2021-12-09      European shares fall again on Omicron worries\n",
      "3      3  2021-12-09  European shares rebound as vaccine reassurance...\n",
      "4      4  2021-12-08  European shares end lower as tech luxury stock...\n",
      "       Date     Open     High      Low    Close\n",
      "0  12/10/21  4198.18  4221.57  4178.66  4199.16\n",
      "1  12/09/21  4242.66  4246.52  4201.85  4208.30\n",
      "2  12/08/21  4273.32  4288.20  4233.09  4233.09\n",
      "3  12/07/21  4157.72  4277.03  4157.72  4276.20\n",
      "4  12/06/21  4095.39  4146.16  4078.64  4137.11\n",
      "(3106, 5)\n",
      "12659\n",
      "Tech stocks drag European shares ahead of US inflation data\n"
     ]
    }
   ],
   "source": [
    "print(reuters.head())\n",
    "print(sx5e_data.head())\n",
    "print(sx5e_data.shape)\n",
    "print(len(reuters))\n",
    "print(reuters['Headline'][1])\n",
    "reuters.dropna(inplace=True)\n",
    "reuters.reset_index(drop=False,inplace=True)\n"
   ]
  },
  {
   "cell_type": "code",
   "execution_count": 134,
   "id": "bf2039f4-6b7d-4187-9e38-76ba67d0ade3",
   "metadata": {},
   "outputs": [
    {
     "name": "stderr",
     "output_type": "stream",
     "text": [
      "<ipython-input-134-4fffbfdca2bc>:13: SettingWithCopyWarning: \n",
      "A value is trying to be set on a copy of a slice from a DataFrame\n",
      "\n",
      "See the caveats in the documentation: https://pandas.pydata.org/pandas-docs/stable/user_guide/indexing.html#returning-a-view-versus-a-copy\n",
      "  reuters['Headline'][i]=text\n"
     ]
    }
   ],
   "source": [
    "for i in range(len(reuters)):\n",
    "    text=reuters['Headline'][i]\n",
    "    text=text.replace(\"REFILE-UPDATE 2-\",\"\")\n",
    "    text=text.replace(\"UPDATE 2-\",\"\")\n",
    "    text=text.replace(\"UPDATE 1-\",\"\")\n",
    "    text=text.replace(\"UPDATE \",\"\")\n",
    "    text=text.replace(\",\",\"\")\n",
    "    text=text.replace(\".\",\"\")\n",
    "    text=text.replace(\";\",\"\")\n",
    "    text=text.replace(\":\",\"\")\n",
    "    text=text.replace(\"-\",\"\")\n",
    "    text=text.replace(\"European\",\"\")\n",
    "    reuters['Headline'][i]=text\n",
    "    "
   ]
  },
  {
   "cell_type": "code",
   "execution_count": 128,
   "id": "37d00a0c-b43a-40a2-b44c-71f3b513e22a",
   "metadata": {},
   "outputs": [],
   "source": [
    "text=reuters['Headline'][1464]"
   ]
  },
  {
   "cell_type": "code",
   "execution_count": null,
   "id": "e34ab51d-ab7e-4305-ad0f-df684bf8a6bb",
   "metadata": {},
   "outputs": [],
   "source": [
    "j=0\n",
    "for i in range(len(reuters)):\n",
    "    text1=reuters['Headline']"
   ]
  },
  {
   "cell_type": "code",
   "execution_count": 169,
   "id": "55d6a496-1a10-4ee3-9882-43871cb0a60c",
   "metadata": {},
   "outputs": [
    {
     "name": "stdout",
     "output_type": "stream",
     "text": [
      "FACTBOXEurope's STOXX 50 winners losers in 2009\n"
     ]
    }
   ],
   "source": [
    "print(text)"
   ]
  },
  {
   "cell_type": "code",
   "execution_count": 132,
   "id": "0664db8b-8bd1-4cf2-8c43-0e715f02cc2b",
   "metadata": {},
   "outputs": [],
   "source": [
    "x=text.split()"
   ]
  },
  {
   "cell_type": "code",
   "execution_count": 170,
   "id": "37d02f91-fddf-49ae-9147-6ceb95d049dd",
   "metadata": {},
   "outputs": [
    {
     "name": "stdout",
     "output_type": "stream",
     "text": [
      "['shares', 'fall', 'as', 'trade', 'optimism', 'cools', 'FTSE', 'lags', 'on', 'strong', 'pound']\n"
     ]
    }
   ],
   "source": [
    "print(x)"
   ]
  },
  {
   "cell_type": "code",
   "execution_count": 171,
   "id": "b966b1e7-7f63-42b8-b325-0a214021f3c2",
   "metadata": {},
   "outputs": [],
   "source": [
    "sentences=[]\n",
    "for i in range(len(reuters)):\n",
    "    text=reuters['Headline'][i]\n",
    "    sentences.append(text.split())"
   ]
  },
  {
   "cell_type": "code",
   "execution_count": 172,
   "id": "6ce66d32-76b6-412d-b0f1-07622cbd8fa3",
   "metadata": {},
   "outputs": [
    {
     "name": "stdout",
     "output_type": "stream",
     "text": [
      "[['Tech', 'stocks', 'drag', 'shares', 'ahead', 'of', 'US', 'inflation', 'data'], ['shares', 'fall', 'again', 'on', 'Omicron', 'worries'], ['shares', 'rebound', 'as', 'vaccine', 'reassurances', 'lift', 'sentiment'], ['shares', 'end', 'lower', 'as', 'tech', 'luxury', 'stocks', 'lose', 'ground'], ['Defensive', 'sectors', 'lift', 'shares', 'after', 'twoday', 'rally'], ['Tech', 'auto', 'help', 'shares', 'to', 'best', 'gains', 'in', 'over', 'a', 'year'], ['shares', 'hit', 'over', '1week', 'highs', 'as', 'Omicron', 'worries', 'fade'], ['shares', 'bounce', 'on', 'hopes', 'Omicron', 'may', 'be', 'mild'], ['shares', 'bounce', 'after', 'volatile', 'week']]\n"
     ]
    }
   ],
   "source": [
    "print(sentences[1:10])"
   ]
  },
  {
   "cell_type": "code",
   "execution_count": 168,
   "id": "07a27229-a98f-4422-935f-2c8095808194",
   "metadata": {},
   "outputs": [],
   "source": [
    "class Lang:\n",
    "    def __init__(self, name):\n",
    "        self.name = name\n",
    "        self.word2index = {}\n",
    "        self.word2count = {}\n",
    "        self.index2word = {}\n",
    "        self.n_words = 0 \n",
    "\n",
    "    def addSentence(self, sentence):\n",
    "        for word in sentence.split(' '):\n",
    "            self.addWord(word)\n",
    "\n",
    "    def addWord(self, word):\n",
    "        if word not in self.word2index:\n",
    "            self.word2index[word] = self.n_words\n",
    "            self.word2count[word] = 1\n",
    "            self.index2word[self.n_words] = word\n",
    "            self.n_words += 1\n",
    "        else:\n",
    "            self.word2count[word] += 1"
   ]
  },
  {
   "cell_type": "code",
   "execution_count": 175,
   "id": "408e0946-62d2-449c-9915-2827795e5c8f",
   "metadata": {},
   "outputs": [],
   "source": [
    "lang=Lang('t')\n",
    "\n",
    "for i in range(len(reuters)):\n",
    "    sentence=reuters['Headline'][i]\n",
    "    lang.addSentence(sentence)"
   ]
  },
  {
   "cell_type": "code",
   "execution_count": 184,
   "id": "97ebb44f-a507-4b2c-96c7-f0992053ef83",
   "metadata": {},
   "outputs": [],
   "source": [
    "def indexesFromSentence(lang, sentence):\n",
    "    return [lang.word2index[word] for word in sentence.split(' ')]\n",
    "\n",
    "def tensorFromSentence(lang, sentence):\n",
    "    indexes = indexesFromSentence(lang, sentence)\n",
    "    return torch.tensor(indexes, dtype=torch.long).view(-1)"
   ]
  },
  {
   "cell_type": "code",
   "execution_count": 189,
   "id": "b13aa54e-6822-4046-9cf4-39812a8d0d1b",
   "metadata": {},
   "outputs": [],
   "source": [
    "text=reuters['Headline'][3]"
   ]
  },
  {
   "cell_type": "code",
   "execution_count": 191,
   "id": "d740d7ee-7d96-42a6-b3ff-b481276954ea",
   "metadata": {},
   "outputs": [
    {
     "name": "stdout",
     "output_type": "stream",
     "text": [
      "tensor([ 0, 14, 22, 23, 24, 25, 26, 27])\n"
     ]
    }
   ],
   "source": [
    "t_text=tensorFromSentence(lang,text)\n",
    "print(t_text)"
   ]
  },
  {
   "cell_type": "code",
   "execution_count": 186,
   "id": "55f43766-8b92-4265-9e8d-d4db2b41a1ea",
   "metadata": {},
   "outputs": [
    {
     "name": "stdout",
     "output_type": "stream",
     "text": [
      "4201\n"
     ]
    }
   ],
   "source": [
    "print(lang.n_words)"
   ]
  },
  {
   "cell_type": "code",
   "execution_count": 187,
   "id": "741aef14-c890-4c7e-9e16-e49d95cecfbd",
   "metadata": {},
   "outputs": [],
   "source": [
    "embeding=torch.nn.Embedding(lang.n_words,256)"
   ]
  },
  {
   "cell_type": "code",
   "execution_count": 192,
   "id": "d678664e-6804-45bb-acf2-803325a325da",
   "metadata": {},
   "outputs": [
    {
     "data": {
      "text/plain": [
       "tensor([[-0.8849,  0.1771,  1.1798,  ..., -0.2027, -1.1795, -0.3934],\n",
       "        [-1.6960,  1.3565,  0.9874,  ...,  0.8205, -1.0498,  0.1735],\n",
       "        [ 0.3782,  0.1550,  0.0717,  ..., -0.7536, -2.0078, -0.7713],\n",
       "        ...,\n",
       "        [-0.4667, -1.0276,  0.4369,  ..., -0.1415,  0.0932, -0.3444],\n",
       "        [-0.9479,  1.5641,  0.3475,  ..., -0.6645, -0.1197,  0.0275],\n",
       "        [-1.3206,  1.2115, -0.1380,  ...,  0.3863, -0.6195, -0.3806]],\n",
       "       grad_fn=<EmbeddingBackward>)"
      ]
     },
     "execution_count": 192,
     "metadata": {},
     "output_type": "execute_result"
    }
   ],
   "source": [
    "embeding(t_text)"
   ]
  },
  {
   "cell_type": "code",
   "execution_count": 198,
   "id": "3964b336-d167-43c2-b46b-2e7f32bdf90f",
   "metadata": {},
   "outputs": [],
   "source": [
    "class TextOnly(nn.Module):\n",
    "    def __init__(self,vocab_size,embedding_size,hidden_size,output_size):\n",
    "        super(TextOnly,self).__init__()\n",
    "        \n",
    "        self.embedding=nn.Embedding(vocab_size,embedding_size)\n",
    "        self.bi_gru=nn.GRU(embedding_size, hidden_size,2, batch_first=True, bidirectional=True)\n",
    "        self.linear=nn.Linear(hidden_size,output_size)"
   ]
  },
  {
   "cell_type": "code",
   "execution_count": 197,
   "id": "93ea1135-e248-4be2-a9e8-535197c06d1f",
   "metadata": {},
   "outputs": [],
   "source": []
  },
  {
   "cell_type": "code",
   "execution_count": null,
   "id": "3aac58f8-7864-4230-94cf-b4bb55f20951",
   "metadata": {},
   "outputs": [],
   "source": []
  }
 ],
 "metadata": {
  "kernelspec": {
   "display_name": "Python 3",
   "language": "python",
   "name": "python3"
  },
  "language_info": {
   "codemirror_mode": {
    "name": "ipython",
    "version": 3
   },
   "file_extension": ".py",
   "mimetype": "text/x-python",
   "name": "python",
   "nbconvert_exporter": "python",
   "pygments_lexer": "ipython3",
   "version": "3.9.2"
  }
 },
 "nbformat": 4,
 "nbformat_minor": 5
}
