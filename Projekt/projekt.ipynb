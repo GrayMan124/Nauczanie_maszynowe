{
 "cells": [
  {
   "cell_type": "code",
   "execution_count": 1,
   "id": "71bce2b9-f5c3-4421-b2c0-d774fcc0466e",
   "metadata": {},
   "outputs": [],
   "source": [
    "import torch\n",
    "import pandas as pd\n",
    "import matplotlib.pyplot as plt\n",
    "from torchvision.transforms import Normalize\n",
    "\n",
    "#importing Technical Analysis tools\n",
    "from ta import trend\n",
    "from ta import volatility\n",
    "from ta import momentum"
   ]
  },
  {
   "cell_type": "code",
   "execution_count": 2,
   "id": "6eec1110-19be-4915-b713-7232ebf93a46",
   "metadata": {},
   "outputs": [
    {
     "data": {
      "text/plain": [
       "True"
      ]
     },
     "execution_count": 2,
     "metadata": {},
     "output_type": "execute_result"
    }
   ],
   "source": [
    "torch.cuda.is_available()"
   ]
  },
  {
   "cell_type": "code",
   "execution_count": 30,
   "id": "e210bf6c-8305-4ddd-9a7f-bed33ca216f0",
   "metadata": {},
   "outputs": [],
   "source": [
    "sx5e_data=pd.read_csv(\"data\\SX5E.csv\")"
   ]
  },
  {
   "cell_type": "code",
   "execution_count": 4,
   "id": "5df44691-112b-4219-acf3-dcdf3d5457f1",
   "metadata": {},
   "outputs": [
    {
     "data": {
      "text/html": [
       "<div>\n",
       "<style scoped>\n",
       "    .dataframe tbody tr th:only-of-type {\n",
       "        vertical-align: middle;\n",
       "    }\n",
       "\n",
       "    .dataframe tbody tr th {\n",
       "        vertical-align: top;\n",
       "    }\n",
       "\n",
       "    .dataframe thead th {\n",
       "        text-align: right;\n",
       "    }\n",
       "</style>\n",
       "<table border=\"1\" class=\"dataframe\">\n",
       "  <thead>\n",
       "    <tr style=\"text-align: right;\">\n",
       "      <th></th>\n",
       "      <th>Date</th>\n",
       "      <th>Open</th>\n",
       "      <th>High</th>\n",
       "      <th>Low</th>\n",
       "      <th>Close</th>\n",
       "    </tr>\n",
       "  </thead>\n",
       "  <tbody>\n",
       "    <tr>\n",
       "      <th>3101</th>\n",
       "      <td>01/07/10</td>\n",
       "      <td>2997.37</td>\n",
       "      <td>3013.90</td>\n",
       "      <td>2979.80</td>\n",
       "      <td>3007.34</td>\n",
       "    </tr>\n",
       "    <tr>\n",
       "      <th>3102</th>\n",
       "      <td>01/06/10</td>\n",
       "      <td>3013.06</td>\n",
       "      <td>3016.83</td>\n",
       "      <td>2997.05</td>\n",
       "      <td>3009.66</td>\n",
       "    </tr>\n",
       "    <tr>\n",
       "      <th>3103</th>\n",
       "      <td>01/05/10</td>\n",
       "      <td>3014.56</td>\n",
       "      <td>3025.60</td>\n",
       "      <td>3006.47</td>\n",
       "      <td>3012.36</td>\n",
       "    </tr>\n",
       "    <tr>\n",
       "      <th>3104</th>\n",
       "      <td>01/04/10</td>\n",
       "      <td>2976.09</td>\n",
       "      <td>3017.80</td>\n",
       "      <td>2974.86</td>\n",
       "      <td>3017.80</td>\n",
       "    </tr>\n",
       "    <tr>\n",
       "      <th>3105</th>\n",
       "      <td>01/01/10</td>\n",
       "      <td>2964.96</td>\n",
       "      <td>2964.96</td>\n",
       "      <td>2964.96</td>\n",
       "      <td>2964.96</td>\n",
       "    </tr>\n",
       "  </tbody>\n",
       "</table>\n",
       "</div>"
      ],
      "text/plain": [
       "          Date     Open     High      Low    Close\n",
       "3101  01/07/10  2997.37  3013.90  2979.80  3007.34\n",
       "3102  01/06/10  3013.06  3016.83  2997.05  3009.66\n",
       "3103  01/05/10  3014.56  3025.60  3006.47  3012.36\n",
       "3104  01/04/10  2976.09  3017.80  2974.86  3017.80\n",
       "3105  01/01/10  2964.96  2964.96  2964.96  2964.96"
      ]
     },
     "execution_count": 4,
     "metadata": {},
     "output_type": "execute_result"
    }
   ],
   "source": [
    "sx5e_data.tail()"
   ]
  },
  {
   "cell_type": "code",
   "execution_count": 31,
   "id": "3155cd97-8dca-4918-8030-8bfb3eaf614e",
   "metadata": {},
   "outputs": [],
   "source": [
    "def return_fun(data,delta_t):\n",
    "    data1=data.to_numpy()\n",
    "    ret_fun=[]\n",
    "    for i in range(len(data1)-delta_t):\n",
    "        ret_fun.append(100*(data1[i+delta_t,3]-data1[i,3])/data1[i,3])\n",
    "    for i in range(delta_t):\n",
    "        ret_fun.append(None)\n",
    "    ret_fun=ret_fun\n",
    "    return ret_fun"
   ]
  },
  {
   "cell_type": "code",
   "execution_count": 32,
   "id": "0478fac2-175f-49c8-9ecb-a86b1c93e1e6",
   "metadata": {},
   "outputs": [
    {
     "name": "stderr",
     "output_type": "stream",
     "text": [
      "c:\\users\\48694\\appdata\\local\\programs\\python\\python39\\lib\\site-packages\\ta\\trend.py:768: RuntimeWarning: invalid value encountered in double_scalars\n",
      "  dip[i] = 100 * (self._dip[i] / self._trs[i])\n",
      "c:\\users\\48694\\appdata\\local\\programs\\python\\python39\\lib\\site-packages\\ta\\trend.py:772: RuntimeWarning: invalid value encountered in double_scalars\n",
      "  din[i] = 100 * (self._din[i] / self._trs[i])\n"
     ]
    }
   ],
   "source": [
    "sx5e_data = sx5e_data.sort_index(axis=0 ,ascending=False)\n",
    "sx5e_data.reset_index(drop=True,inplace=True)\n",
    "sx5e_data.drop(columns=['Date'],inplace=True)\n",
    "\n",
    "# sx5e_data['Return']=ret_fun\n",
    "sx5e_data.dropna(inplace=True)\n",
    "\n",
    "\n",
    "adi=trend.ADXIndicator(close=sx5e_data[' Close'],high=sx5e_data[' High'],low=sx5e_data[' Low'])\n",
    "m_acd=trend.MACD(close=sx5e_data[' Close'])\n",
    "\n",
    "r_si=momentum.RSIIndicator(close=sx5e_data[' Close'])\n",
    "stochastic_oscilator=momentum.StochasticOscillator(close=sx5e_data[' Close'],high=sx5e_data[' High'],low=sx5e_data[' Low'])\n",
    "williamsr=momentum.WilliamsRIndicator(high=sx5e_data[' High'],low=sx5e_data[' Low'],close=sx5e_data[' Close'])\n",
    "\n",
    "bollinger=volatility.BollingerBands(close=sx5e_data[' Close'])\n",
    "atr=volatility.AverageTrueRange(high=sx5e_data[' High'],low=sx5e_data[' Low'],close=sx5e_data[' Close'])\n",
    "\n",
    "exponential_moving_avarge9=trend.EMAIndicator(close=sx5e_data[' Close'],window=9)\n",
    "exponential_moving_avarge18=trend.EMAIndicator(close=sx5e_data[' Close'],window=18)\n",
    "exponential_moving_avarge30=trend.EMAIndicator(close=sx5e_data[' Close'],window=30)\n",
    "\n",
    "sx5e_data['ADX']=adi.adx()\n",
    "sx5e_data['MACD']=m_acd.macd()\n",
    "sx5e_data['RSI']=r_si.rsi()\n",
    "sx5e_data['Stoch Osc']=stochastic_oscilator.stoch()\n",
    "sx5e_data['Williams R']=williamsr.williams_r()\n",
    "sx5e_data['Bollinger High band']=bollinger.bollinger_hband()\n",
    "sx5e_data['Bolinger Low Band']=bollinger.bollinger_lband()\n",
    "sx5e_data['ATR']=atr.average_true_range()\n",
    "sx5e_data['EMA9']=exponential_moving_avarge9.ema_indicator()\n",
    "sx5e_data['EMA18']=exponential_moving_avarge18.ema_indicator()\n",
    "sx5e_data['EMA30']=exponential_moving_avarge30.ema_indicator()\n",
    "sx5e_data.dropna(inplace=True)\n",
    "ret_fun=return_fun(sx5e_data,1)"
   ]
  },
  {
   "cell_type": "code",
   "execution_count": 33,
   "id": "238806aa-86bd-4c97-8bc2-c478e62a1322",
   "metadata": {},
   "outputs": [
    {
     "name": "stdout",
     "output_type": "stream",
     "text": [
      "Index([' Open', ' High', ' Low', ' Close', 'ADX', 'MACD', 'RSI', 'Stoch Osc',\n",
      "       'Williams R', 'Bollinger High band', 'Bolinger Low Band', 'ATR', 'EMA9',\n",
      "       'EMA18', 'EMA30'],\n",
      "      dtype='object')\n"
     ]
    }
   ],
   "source": [
    "print(sx5e_data.columns)"
   ]
  },
  {
   "cell_type": "code",
   "execution_count": 57,
   "id": "acb2cdeb-e8bc-4c88-89cc-aa61827899c5",
   "metadata": {},
   "outputs": [
    {
     "name": "stdout",
     "output_type": "stream",
     "text": [
      "       Open     High      Low    Close        ADX       MACD        RSI  \\\n",
      "29  2715.33  2727.69  2653.84  2680.25  34.469302 -71.770257  33.565359   \n",
      "30  2700.85  2712.62  2657.39  2674.46  34.726002 -71.223066  33.079169   \n",
      "31  2688.23  2705.28  2676.85  2683.83  34.964365 -69.235232  34.726933   \n",
      "32  2702.23  2720.77  2676.49  2720.77  34.709250 -63.942026  40.904662   \n",
      "33  2743.95  2779.29  2736.31  2762.25  32.930601 -55.757298  46.973611   \n",
      "\n",
      "    Stoch Osc  Williams R  Bollinger High band  Bolinger Low Band        ATR  \\\n",
      "29  27.478230  -72.521770          2995.831363        2595.601637  55.491494   \n",
      "30  25.213485  -74.786515          2977.624736        2587.229264  55.472816   \n",
      "31  29.380893  -70.619107          2950.767307        2586.682693  53.711900   \n",
      "32  45.810354  -54.189646          2909.023979        2602.021021  53.038193   \n",
      "33  64.259029  -35.740971          2883.103078        2612.706922  53.429751   \n",
      "\n",
      "           EMA9        EMA18        EMA30  \n",
      "29  2714.461109  2769.853320  2820.010539  \n",
      "30  2706.460888  2759.811918  2810.620182  \n",
      "31  2701.934710  2751.813821  2802.440170  \n",
      "32  2705.701768  2748.546051  2797.171127  \n",
      "33  2717.011414  2749.988572  2794.918151  \n",
      "[-0.21602462456860233, 0.3503510989134214, 1.376391202125323, 1.5245684126184873, 0.581048058647848, 0.5424180254112122, -0.5459355545452268, -1.711589132218901, 0.16040606906249077, -1.8475657690268468]\n"
     ]
    }
   ],
   "source": [
    "print(sx5e_data.head())\n",
    "print(ret_fun[:10])\n"
   ]
  },
  {
   "cell_type": "code",
   "execution_count": 34,
   "id": "2a8c5f6d-7f73-4414-9e09-0c547cf629ac",
   "metadata": {},
   "outputs": [
    {
     "name": "stdout",
     "output_type": "stream",
     "text": [
      "3077\n",
      "3076\n",
      "tensor([-0.2160,  0.3504,  1.3764,  ..., -1.0081, -0.5856, -0.2172])\n"
     ]
    }
   ],
   "source": [
    "type(ret_fun[1])\n",
    "# tensor_return=torch.Tensor(ret_fun)\n",
    "print(len(ret_fun))\n",
    "ret_fun.remove(None)\n",
    "print(len(ret_fun))\n",
    "tensor_ret=torch.tensor(ret_fun,dtype=torch.float32)\n",
    "print(tensor_ret)"
   ]
  },
  {
   "cell_type": "code",
   "execution_count": 28,
   "id": "6a8a11e0-7758-4614-8b3b-08d08a1191f1",
   "metadata": {},
   "outputs": [
    {
     "data": {
      "image/png": "[encoded data removed]",
      "text/plain": [
       "<Figure size 432x288 with 1 Axes>"
      ]
     },
     "metadata": {
      "needs_background": "light"
     },
     "output_type": "display_data"
    }
   ],
   "source": [
    "x=ret_fun\n",
    "plt.hist(x, bins=400)\n",
    "plt.ylim(0,70)\n",
    "plt.xlim(-5,5)\n",
    "plt.show()"
   ]
  },
  {
   "cell_type": "code",
   "execution_count": 35,
   "id": "044086d8-45dd-4f60-bf07-127327b6920d",
   "metadata": {},
   "outputs": [],
   "source": [
    "sx5e_data.drop(sx5e_data.tail(1).index,inplace=True)\n",
    "sx5e_tensor=torch.tensor(sx5e_data.values)"
   ]
  },
  {
   "cell_type": "code",
   "execution_count": 36,
   "id": "0e503cea-5f1f-4971-93a4-d59b544b218c",
   "metadata": {},
   "outputs": [
    {
     "name": "stdout",
     "output_type": "stream",
     "text": [
      "torch.Size([3076, 15])\n",
      "torch.Size([3076])\n"
     ]
    }
   ],
   "source": [
    "print(sx5e_tensor.shape)\n",
    "print(tensor_ret.shape)\n"
   ]
  },
  {
   "cell_type": "code",
   "execution_count": 11,
   "id": "84ecf528-4ad9-4b3e-90be-2cddceaf4ab7",
   "metadata": {},
   "outputs": [
    {
     "name": "stdout",
     "output_type": "stream",
     "text": [
      "         Open     High      Low    Close        ADX       MACD        RSI  \\\n",
      "29    2715.33  2727.69  2653.84  2680.25  34.469302 -71.770257  33.565359   \n",
      "30    2700.85  2712.62  2657.39  2674.46  34.726002 -71.223066  33.079169   \n",
      "31    2688.23  2705.28  2676.85  2683.83  34.964365 -69.235232  34.726933   \n",
      "32    2702.23  2720.77  2676.49  2720.77  34.709250 -63.942026  40.904662   \n",
      "33    2743.95  2779.29  2736.31  2762.25  32.930601 -55.757298  46.973611   \n",
      "...       ...      ...      ...      ...        ...        ...        ...   \n",
      "3101  4095.39  4146.16  4078.64  4137.11  33.184024 -41.135771  42.302775   \n",
      "3102  4157.72  4277.03  4157.72  4276.20  31.300793 -30.299898  54.099957   \n",
      "3103  4273.32  4288.20  4233.09  4233.09  29.383481 -24.903930  50.643629   \n",
      "3104  4242.66  4246.52  4201.85  4208.30  28.028969 -22.370065  48.716216   \n",
      "3105  4198.18  4221.57  4178.66  4199.16  27.075232 -20.859029  47.991005   \n",
      "\n",
      "      Stoch Osc  Williams R  Bollinger High band  Bolinger Low Band  \\\n",
      "29    27.478230  -72.521770          2995.831363        2595.601637   \n",
      "30    25.213485  -74.786515          2977.624736        2587.229264   \n",
      "31    29.380893  -70.619107          2950.767307        2586.682693   \n",
      "32    45.810354  -54.189646          2909.023979        2602.021021   \n",
      "33    64.259029  -35.740971          2883.103078        2612.706922   \n",
      "...         ...         ...                  ...                ...   \n",
      "3101  28.282620  -71.717380          4507.235731        4023.666269   \n",
      "3102  64.149046  -35.850954          4501.157655        4022.901345   \n",
      "3103  54.917354  -45.082646          4492.271221        4020.214779   \n",
      "3104  52.552518  -47.447482          4480.865796        4016.650204   \n",
      "3105  57.043680  -42.956320          4466.290365        4014.108635   \n",
      "\n",
      "            ATR         EMA9        EMA18        EMA30  \n",
      "29    55.491494  2714.461109  2769.853320  2820.010539  \n",
      "30    55.472816  2706.460888  2759.811918  2810.620182  \n",
      "31    53.711900  2701.934710  2751.813821  2802.440170  \n",
      "32    53.038193  2705.701768  2748.546051  2797.171127  \n",
      "33    53.429751  2717.011414  2749.988572  2794.918151  \n",
      "...         ...          ...          ...          ...  \n",
      "3101  63.775856  4157.363443  4205.674181  4221.736038  \n",
      "3102  69.214724  4181.130755  4213.097951  4225.249842  \n",
      "3103  68.207243  4191.522604  4215.202377  4225.755658  \n",
      "3104  66.526012  4194.878083  4214.475811  4224.629487  \n",
      "3105  64.839154  4195.734466  4212.863621  4222.986294  \n",
      "\n",
      "[3077 rows x 15 columns]\n"
     ]
    }
   ],
   "source": [
    "print(sx5e_data)"
   ]
  },
  {
   "cell_type": "code",
   "execution_count": 38,
   "id": "689b5d44-997d-4133-8fd7-c35a4f3640f4",
   "metadata": {},
   "outputs": [],
   "source": [
    "sx5e_data=torch.tensor(sx5e_data.values)"
   ]
  },
  {
   "cell_type": "code",
   "execution_count": 28,
   "id": "2c21079c-bf04-4306-836d-43e75aa3f814",
   "metadata": {},
   "outputs": [
    {
     "name": "stdout",
     "output_type": "stream",
     "text": [
      "tensor([2.0000, 2.3333, 2.6667])\n"
     ]
    }
   ],
   "source": [
    "t=torch.tensor([[1,1,1],[2,3,4],[3,3,3]],dtype=torch.float32)\n",
    "print(t.mean(dim=0))"
   ]
  },
  {
   "cell_type": "code",
   "execution_count": 39,
   "id": "ca165190-7462-4409-89f0-ea0a3e7945f5",
   "metadata": {},
   "outputs": [
    {
     "name": "stdout",
     "output_type": "stream",
     "text": [
      "tensor([[-0.9221, -0.9442, -1.0001,  ..., -0.9280, -0.8126, -0.7074],\n",
      "        [-0.9531, -0.9766, -0.9926,  ..., -0.9452, -0.8345, -0.7281],\n",
      "        [-0.9801, -0.9924, -0.9511,  ..., -0.9550, -0.8519, -0.7462],\n",
      "        ...,\n",
      "        [ 2.1637,  2.3829,  2.2003,  ...,  2.2373,  2.3354,  2.4011],\n",
      "        [ 2.4110,  2.4069,  2.3607,  ...,  2.2597,  2.3400,  2.4022],\n",
      "        [ 2.3454,  2.3174,  2.2942,  ...,  2.2670,  2.3384,  2.3997]],\n",
      "       dtype=torch.float64)\n"
     ]
    }
   ],
   "source": [
    "mean=torch.mean(sx5e_data,dim=0)\n",
    "std=torch.std(sx5e_data,dim=0)\n",
    "transform=Normalize(mean,std)\n",
    "sx5e_norm=(sx5e_data-mean)/std\n",
    "print(sx5e_norm)"
   ]
  },
  {
   "cell_type": "code",
   "execution_count": 64,
   "id": "0b29a1ae-2478-44a4-b22d-a7c85b77a4aa",
   "metadata": {},
   "outputs": [
    {
     "data": {
      "image/png": "[encoded data removed]",
      "text/plain": [
       "<Figure size 432x288 with 1 Axes>"
      ]
     },
     "metadata": {
      "needs_background": "light"
     },
     "output_type": "display_data"
    }
   ],
   "source": [
    "x=sx5e_norm[1:1000,4]\n",
    "plt.hist(x, bins=100)\n",
    "plt.show()"
   ]
  },
  {
   "cell_type": "code",
   "execution_count": 40,
   "id": "b7fdddf3-4324-4cc3-a18e-45a1a892c818",
   "metadata": {},
   "outputs": [
    {
     "name": "stdout",
     "output_type": "stream",
     "text": [
      "torch.Size([2078, 15])\n",
      "torch.Size([499, 15])\n",
      "torch.Size([499, 15])\n",
      "tensor([ 2.3454,  2.3174,  2.2942,  2.2692,  0.7009, -0.6385, -0.3357, -0.1934,\n",
      "        -0.1934,  2.6695,  2.0910,  1.1603,  2.2670,  2.3384,  2.3997],\n",
      "       dtype=torch.float64)\n",
      "tensor([-0.3403, -0.3736, -0.3198, -0.3370,  0.4589, -0.2757, -0.9129, -0.9038,\n",
      "        -0.9038, -0.2972, -0.1332, -0.8135, -0.2844, -0.2490, -0.2514],\n",
      "       dtype=torch.float64)\n",
      "tensor([-0.9221, -0.9442, -1.0001, -0.9960,  1.5074, -1.8764, -1.6671, -0.9934,\n",
      "        -0.9934, -0.5649, -0.9163,  0.5134, -0.9280, -0.8126, -0.7074],\n",
      "       dtype=torch.float64)\n"
     ]
    }
   ],
   "source": [
    "train=sx5e_norm[998:]\n",
    "\n",
    "val=sx5e_norm[499:998]\n",
    "test=sx5e_norm[:499]\n",
    "print(train.shape)\n",
    "print(val.shape)\n",
    "print(test.shape)\n",
    "\n",
    "print(train[2077])\n",
    "print(val[498])\n",
    "print(test[0])"
   ]
  },
  {
   "cell_type": "code",
   "execution_count": 41,
   "id": "cb3e6233-ac28-4cbb-86ed-a6b0428e2e60",
   "metadata": {},
   "outputs": [
    {
     "name": "stdout",
     "output_type": "stream",
     "text": [
      "tensor([-0.1859,  0.2549,  1.0534,  ..., -0.8024, -0.4736, -0.1868])\n"
     ]
    }
   ],
   "source": [
    "mean_ret=torch.mean(tensor_ret)\n",
    "std_ret=torch.std(tensor_ret)\n",
    "ret_norm=(tensor_ret-mean_ret)/std_ret\n",
    "print(ret_norm)"
   ]
  },
  {
   "cell_type": "code",
   "execution_count": 43,
   "id": "201d568f-15c3-4edd-b90e-8d952da29711",
   "metadata": {},
   "outputs": [
    {
     "name": "stdout",
     "output_type": "stream",
     "text": [
      "torch.Size([2078])\n",
      "torch.Size([499])\n",
      "torch.Size([499])\n"
     ]
    }
   ],
   "source": [
    "train_target=ret_norm[998:]\n",
    "val_target=ret_norm[499:998]\n",
    "test_target=ret_norm[:499]\n",
    "\n",
    "print(train_target.shape)\n",
    "print(val_target.shape)\n",
    "print(test_target.shape)"
   ]
  },
  {
   "cell_type": "code",
   "execution_count": 42,
   "id": "59f9086e-4852-48ac-96f9-ff4a64001d94",
   "metadata": {},
   "outputs": [
    {
     "name": "stdout",
     "output_type": "stream",
     "text": [
      "torch.Size([3076, 15])\n",
      "torch.Size([3076])\n"
     ]
    }
   ],
   "source": [
    "print(sx5e_norm.shape)\n",
    "print(tensor_ret.shape)\n"
   ]
  },
  {
   "cell_type": "code",
   "execution_count": 44,
   "id": "598f2f10-7305-4c22-8d2e-53327ff5c48b",
   "metadata": {},
   "outputs": [],
   "source": [
    "X=[]\n",
    "y=[]\n",
    "data=namedtouple('Data',['x','target'])\n",
    "prediction_days=5\n",
    "days_to_predict=1\n",
    "for i in range(len(sx5e_norm)-2):\n",
    "    end = i + prediction_days\n",
    "    out_end = end + days_to_predict\n",
    "\n",
    "    if(out_end>len(sx5e_norm)):\n",
    "        break\n",
    "    \n",
    "    \n",
    "    X.append(sx5e_norm[i:end])\n",
    "    y.append(tensor_ret[end])"
   ]
  },
  {
   "cell_type": "code",
   "execution_count": 62,
   "id": "df8b7cbf-ae1d-4e1a-b646-d677c4930fff",
   "metadata": {},
   "outputs": [
    {
     "data": {
      "image/png": "[encoded data removed]",
      "text/plain": [
       "<Figure size 432x288 with 1 Axes>"
      ]
     },
     "metadata": {
      "needs_background": "light"
     },
     "output_type": "display_data"
    }
   ],
   "source": []
  },
  {
   "cell_type": "code",
   "execution_count": 115,
   "id": "7cb5839b-cf4b-48b4-85bb-b1a2931316e4",
   "metadata": {},
   "outputs": [
    {
     "name": "stdout",
     "output_type": "stream",
     "text": [
      "          Date     Open     High      Low    Close    Return        ADX  \\\n",
      "1019  01/01/18  3503.96  3503.96  3503.96  3503.96 -0.991164  16.489955   \n",
      "\n",
      "           MACD        RSI  Stoch Osc  Williams R  Bollinger High band  \\\n",
      "1019 -16.726538  36.387909   0.688593  -99.311407          3616.012569   \n",
      "\n",
      "      Bolinger Low Band        ATR         EMA9        EMA18       EMA30  \n",
      "1019        3507.529431  26.116463  3535.874964  3551.392396  3561.93798  \n",
      "         Date     Open     High      Low    Close    Return        ADX  \\\n",
      "499  01/02/20  3754.24  3801.13  3754.24  3793.24 -0.231738  20.227914   \n",
      "\n",
      "          MACD        RSI  Stoch Osc  Williams R  Bollinger High band  \\\n",
      "499  27.659024  63.953279  94.427966   -5.572034          3824.978029   \n",
      "\n",
      "     Bolinger Low Band        ATR        EMA9        EMA18        EMA30  \n",
      "499        3622.345971  32.149592  3760.56026  3740.938644  3718.808214  \n"
     ]
    }
   ],
   "source": [
    "print(sx5e_data.loc[sx5e_data['Date']=='01/01/18'])\n",
    "print(sx5e_data.loc[sx5e_data['Date']=='01/02/20'])\n"
   ]
  },
  {
   "cell_type": "code",
   "execution_count": 113,
   "id": "ba886a07-a593-4592-9409-4b50012aa812",
   "metadata": {},
   "outputs": [
    {
     "data": {
      "text/html": [
       "<div>\n",
       "<style scoped>\n",
       "    .dataframe tbody tr th:only-of-type {\n",
       "        vertical-align: middle;\n",
       "    }\n",
       "\n",
       "    .dataframe tbody tr th {\n",
       "        vertical-align: top;\n",
       "    }\n",
       "\n",
       "    .dataframe thead th {\n",
       "        text-align: right;\n",
       "    }\n",
       "</style>\n",
       "<table border=\"1\" class=\"dataframe\">\n",
       "  <thead>\n",
       "    <tr style=\"text-align: right;\">\n",
       "      <th></th>\n",
       "      <th>Date</th>\n",
       "      <th>Open</th>\n",
       "      <th>High</th>\n",
       "      <th>Low</th>\n",
       "      <th>Close</th>\n",
       "      <th>Return</th>\n",
       "      <th>ADX</th>\n",
       "      <th>MACD</th>\n",
       "      <th>RSI</th>\n",
       "      <th>Stoch Osc</th>\n",
       "      <th>Williams R</th>\n",
       "      <th>Bollinger High band</th>\n",
       "      <th>Bolinger Low Band</th>\n",
       "      <th>ATR</th>\n",
       "      <th>EMA9</th>\n",
       "      <th>EMA18</th>\n",
       "      <th>EMA30</th>\n",
       "    </tr>\n",
       "  </thead>\n",
       "  <tbody>\n",
       "    <tr>\n",
       "      <th>1024</th>\n",
       "      <td>12/25/17</td>\n",
       "      <td>3553.39</td>\n",
       "      <td>3553.39</td>\n",
       "      <td>3553.39</td>\n",
       "      <td>3553.39</td>\n",
       "      <td>0.000000</td>\n",
       "      <td>15.699071</td>\n",
       "      <td>-6.619844</td>\n",
       "      <td>45.351782</td>\n",
       "      <td>26.609756</td>\n",
       "      <td>-73.390244</td>\n",
       "      <td>3609.473293</td>\n",
       "      <td>3535.199707</td>\n",
       "      <td>30.820605</td>\n",
       "      <td>3566.609397</td>\n",
       "      <td>3571.795777</td>\n",
       "      <td>3576.465436</td>\n",
       "    </tr>\n",
       "    <tr>\n",
       "      <th>1023</th>\n",
       "      <td>12/26/17</td>\n",
       "      <td>3553.39</td>\n",
       "      <td>3553.39</td>\n",
       "      <td>3553.39</td>\n",
       "      <td>3553.39</td>\n",
       "      <td>-0.336580</td>\n",
       "      <td>15.762280</td>\n",
       "      <td>-7.346775</td>\n",
       "      <td>45.351782</td>\n",
       "      <td>24.158790</td>\n",
       "      <td>-75.841210</td>\n",
       "      <td>3608.474496</td>\n",
       "      <td>3533.188504</td>\n",
       "      <td>28.619133</td>\n",
       "      <td>3563.965518</td>\n",
       "      <td>3569.858327</td>\n",
       "      <td>3574.976698</td>\n",
       "    </tr>\n",
       "    <tr>\n",
       "      <th>1022</th>\n",
       "      <td>12/27/17</td>\n",
       "      <td>3553.16</td>\n",
       "      <td>3568.91</td>\n",
       "      <td>3541.43</td>\n",
       "      <td>3550.17</td>\n",
       "      <td>-0.609358</td>\n",
       "      <td>15.154044</td>\n",
       "      <td>-8.089450</td>\n",
       "      <td>44.703177</td>\n",
       "      <td>20.100819</td>\n",
       "      <td>-79.899181</td>\n",
       "      <td>3606.444821</td>\n",
       "      <td>3531.244179</td>\n",
       "      <td>28.537767</td>\n",
       "      <td>3561.206414</td>\n",
       "      <td>3567.785871</td>\n",
       "      <td>3573.376266</td>\n",
       "    </tr>\n",
       "    <tr>\n",
       "      <th>1021</th>\n",
       "      <td>12/28/17</td>\n",
       "      <td>3549.45</td>\n",
       "      <td>3549.75</td>\n",
       "      <td>3519.85</td>\n",
       "      <td>3524.31</td>\n",
       "      <td>-0.473032</td>\n",
       "      <td>15.298708</td>\n",
       "      <td>-10.642037</td>\n",
       "      <td>39.782392</td>\n",
       "      <td>4.758856</td>\n",
       "      <td>-95.241144</td>\n",
       "      <td>3608.864812</td>\n",
       "      <td>3524.262188</td>\n",
       "      <td>28.665069</td>\n",
       "      <td>3553.827131</td>\n",
       "      <td>3563.209464</td>\n",
       "      <td>3570.210701</td>\n",
       "    </tr>\n",
       "    <tr>\n",
       "      <th>1020</th>\n",
       "      <td>12/29/17</td>\n",
       "      <td>3524.12</td>\n",
       "      <td>3524.24</td>\n",
       "      <td>3503.20</td>\n",
       "      <td>3503.96</td>\n",
       "      <td>0.021694</td>\n",
       "      <td>15.916392</td>\n",
       "      <td>-14.144011</td>\n",
       "      <td>36.387909</td>\n",
       "      <td>0.688593</td>\n",
       "      <td>-99.311407</td>\n",
       "      <td>3612.957786</td>\n",
       "      <td>3517.810214</td>\n",
       "      <td>28.125421</td>\n",
       "      <td>3543.853705</td>\n",
       "      <td>3556.972678</td>\n",
       "      <td>3565.936462</td>\n",
       "    </tr>\n",
       "  </tbody>\n",
       "</table>\n",
       "</div>"
      ],
      "text/plain": [
       "          Date     Open     High      Low    Close    Return        ADX  \\\n",
       "1024  12/25/17  3553.39  3553.39  3553.39  3553.39  0.000000  15.699071   \n",
       "1023  12/26/17  3553.39  3553.39  3553.39  3553.39 -0.336580  15.762280   \n",
       "1022  12/27/17  3553.16  3568.91  3541.43  3550.17 -0.609358  15.154044   \n",
       "1021  12/28/17  3549.45  3549.75  3519.85  3524.31 -0.473032  15.298708   \n",
       "1020  12/29/17  3524.12  3524.24  3503.20  3503.96  0.021694  15.916392   \n",
       "\n",
       "           MACD        RSI  Stoch Osc  Williams R  Bollinger High band  \\\n",
       "1024  -6.619844  45.351782  26.609756  -73.390244          3609.473293   \n",
       "1023  -7.346775  45.351782  24.158790  -75.841210          3608.474496   \n",
       "1022  -8.089450  44.703177  20.100819  -79.899181          3606.444821   \n",
       "1021 -10.642037  39.782392   4.758856  -95.241144          3608.864812   \n",
       "1020 -14.144011  36.387909   0.688593  -99.311407          3612.957786   \n",
       "\n",
       "      Bolinger Low Band        ATR         EMA9        EMA18        EMA30  \n",
       "1024        3535.199707  30.820605  3566.609397  3571.795777  3576.465436  \n",
       "1023        3533.188504  28.619133  3563.965518  3569.858327  3574.976698  \n",
       "1022        3531.244179  28.537767  3561.206414  3567.785871  3573.376266  \n",
       "1021        3524.262188  28.665069  3553.827131  3563.209464  3570.210701  \n",
       "1020        3517.810214  28.125421  3543.853705  3556.972678  3565.936462  "
      ]
     },
     "execution_count": 113,
     "metadata": {},
     "output_type": "execute_result"
    }
   ],
   "source": [
    "sx5e_data_train=sx5e_data[sx5e_data.index>1019]\n",
    "sx5e_data_train.tail()"
   ]
  },
  {
   "cell_type": "code",
   "execution_count": 121,
   "id": "6300c684-cffe-4957-985c-15b8fcce212b",
   "metadata": {},
   "outputs": [
    {
     "data": {
      "text/html": [
       "<div>\n",
       "<style scoped>\n",
       "    .dataframe tbody tr th:only-of-type {\n",
       "        vertical-align: middle;\n",
       "    }\n",
       "\n",
       "    .dataframe tbody tr th {\n",
       "        vertical-align: top;\n",
       "    }\n",
       "\n",
       "    .dataframe thead th {\n",
       "        text-align: right;\n",
       "    }\n",
       "</style>\n",
       "<table border=\"1\" class=\"dataframe\">\n",
       "  <thead>\n",
       "    <tr style=\"text-align: right;\">\n",
       "      <th></th>\n",
       "      <th>Date</th>\n",
       "      <th>Open</th>\n",
       "      <th>High</th>\n",
       "      <th>Low</th>\n",
       "      <th>Close</th>\n",
       "      <th>Return</th>\n",
       "      <th>ADX</th>\n",
       "      <th>MACD</th>\n",
       "      <th>RSI</th>\n",
       "      <th>Stoch Osc</th>\n",
       "      <th>Williams R</th>\n",
       "      <th>Bollinger High band</th>\n",
       "      <th>Bolinger Low Band</th>\n",
       "      <th>ATR</th>\n",
       "      <th>EMA9</th>\n",
       "      <th>EMA18</th>\n",
       "      <th>EMA30</th>\n",
       "    </tr>\n",
       "  </thead>\n",
       "  <tbody>\n",
       "    <tr>\n",
       "      <th>504</th>\n",
       "      <td>12/23/19</td>\n",
       "      <td>3775.07</td>\n",
       "      <td>3778.98</td>\n",
       "      <td>3767.80</td>\n",
       "      <td>3776.66</td>\n",
       "      <td>0.082542</td>\n",
       "      <td>19.785461</td>\n",
       "      <td>27.633958</td>\n",
       "      <td>65.120596</td>\n",
       "      <td>98.611028</td>\n",
       "      <td>-1.388972</td>\n",
       "      <td>3796.232338</td>\n",
       "      <td>3612.051662</td>\n",
       "      <td>34.594785</td>\n",
       "      <td>3742.619700</td>\n",
       "      <td>3720.169215</td>\n",
       "      <td>3699.037259</td>\n",
       "    </tr>\n",
       "    <tr>\n",
       "      <th>503</th>\n",
       "      <td>12/24/19</td>\n",
       "      <td>3774.13</td>\n",
       "      <td>3774.66</td>\n",
       "      <td>3770.91</td>\n",
       "      <td>3774.39</td>\n",
       "      <td>0.115357</td>\n",
       "      <td>20.029551</td>\n",
       "      <td>28.847010</td>\n",
       "      <td>64.509676</td>\n",
       "      <td>97.019093</td>\n",
       "      <td>-2.980907</td>\n",
       "      <td>3804.639658</td>\n",
       "      <td>3610.528342</td>\n",
       "      <td>32.534443</td>\n",
       "      <td>3748.973760</td>\n",
       "      <td>3725.876666</td>\n",
       "      <td>3703.898727</td>\n",
       "    </tr>\n",
       "    <tr>\n",
       "      <th>502</th>\n",
       "      <td>12/27/19</td>\n",
       "      <td>3776.82</td>\n",
       "      <td>3794.93</td>\n",
       "      <td>3775.26</td>\n",
       "      <td>3782.27</td>\n",
       "      <td>-0.709620</td>\n",
       "      <td>20.757123</td>\n",
       "      <td>30.097270</td>\n",
       "      <td>65.712192</td>\n",
       "      <td>92.549873</td>\n",
       "      <td>-7.450127</td>\n",
       "      <td>3813.434993</td>\n",
       "      <td>3608.675007</td>\n",
       "      <td>31.677697</td>\n",
       "      <td>3755.633008</td>\n",
       "      <td>3731.812806</td>\n",
       "      <td>3708.954938</td>\n",
       "    </tr>\n",
       "    <tr>\n",
       "      <th>501</th>\n",
       "      <td>12/30/19</td>\n",
       "      <td>3780.44</td>\n",
       "      <td>3780.44</td>\n",
       "      <td>3748.47</td>\n",
       "      <td>3748.47</td>\n",
       "      <td>-0.267309</td>\n",
       "      <td>20.362886</td>\n",
       "      <td>28.037533</td>\n",
       "      <td>56.819145</td>\n",
       "      <td>72.659330</td>\n",
       "      <td>-27.340670</td>\n",
       "      <td>3816.857792</td>\n",
       "      <td>3609.651208</td>\n",
       "      <td>31.829290</td>\n",
       "      <td>3754.200406</td>\n",
       "      <td>3733.566195</td>\n",
       "      <td>3711.504297</td>\n",
       "    </tr>\n",
       "    <tr>\n",
       "      <th>500</th>\n",
       "      <td>12/31/19</td>\n",
       "      <td>3746.61</td>\n",
       "      <td>3749.10</td>\n",
       "      <td>3738.45</td>\n",
       "      <td>3745.15</td>\n",
       "      <td>0.422368</td>\n",
       "      <td>19.632340</td>\n",
       "      <td>25.839420</td>\n",
       "      <td>56.017223</td>\n",
       "      <td>70.705585</td>\n",
       "      <td>-29.294415</td>\n",
       "      <td>3819.741366</td>\n",
       "      <td>3610.924634</td>\n",
       "      <td>30.316484</td>\n",
       "      <td>3752.390325</td>\n",
       "      <td>3734.785543</td>\n",
       "      <td>3713.674987</td>\n",
       "    </tr>\n",
       "  </tbody>\n",
       "</table>\n",
       "</div>"
      ],
      "text/plain": [
       "         Date     Open     High      Low    Close    Return        ADX  \\\n",
       "504  12/23/19  3775.07  3778.98  3767.80  3776.66  0.082542  19.785461   \n",
       "503  12/24/19  3774.13  3774.66  3770.91  3774.39  0.115357  20.029551   \n",
       "502  12/27/19  3776.82  3794.93  3775.26  3782.27 -0.709620  20.757123   \n",
       "501  12/30/19  3780.44  3780.44  3748.47  3748.47 -0.267309  20.362886   \n",
       "500  12/31/19  3746.61  3749.10  3738.45  3745.15  0.422368  19.632340   \n",
       "\n",
       "          MACD        RSI  Stoch Osc  Williams R  Bollinger High band  \\\n",
       "504  27.633958  65.120596  98.611028   -1.388972          3796.232338   \n",
       "503  28.847010  64.509676  97.019093   -2.980907          3804.639658   \n",
       "502  30.097270  65.712192  92.549873   -7.450127          3813.434993   \n",
       "501  28.037533  56.819145  72.659330  -27.340670          3816.857792   \n",
       "500  25.839420  56.017223  70.705585  -29.294415          3819.741366   \n",
       "\n",
       "     Bolinger Low Band        ATR         EMA9        EMA18        EMA30  \n",
       "504        3612.051662  34.594785  3742.619700  3720.169215  3699.037259  \n",
       "503        3610.528342  32.534443  3748.973760  3725.876666  3703.898727  \n",
       "502        3608.675007  31.677697  3755.633008  3731.812806  3708.954938  \n",
       "501        3609.651208  31.829290  3754.200406  3733.566195  3711.504297  \n",
       "500        3610.924634  30.316484  3752.390325  3734.785543  3713.674987  "
      ]
     },
     "execution_count": 121,
     "metadata": {},
     "output_type": "execute_result"
    }
   ],
   "source": [
    "sx5e_data_val=sx5e_data[(sx5e_data.index > 499) & (sx5e_data.index <= 1019) ]\n",
    "sx5e_data_val.tail()"
   ]
  },
  {
   "cell_type": "code",
   "execution_count": 123,
   "id": "0cb2f150-7999-4516-9377-1960f2df719e",
   "metadata": {},
   "outputs": [
    {
     "data": {
      "text/html": [
       "<div>\n",
       "<style scoped>\n",
       "    .dataframe tbody tr th:only-of-type {\n",
       "        vertical-align: middle;\n",
       "    }\n",
       "\n",
       "    .dataframe tbody tr th {\n",
       "        vertical-align: top;\n",
       "    }\n",
       "\n",
       "    .dataframe thead th {\n",
       "        text-align: right;\n",
       "    }\n",
       "</style>\n",
       "<table border=\"1\" class=\"dataframe\">\n",
       "  <thead>\n",
       "    <tr style=\"text-align: right;\">\n",
       "      <th></th>\n",
       "      <th>Date</th>\n",
       "      <th>Open</th>\n",
       "      <th>High</th>\n",
       "      <th>Low</th>\n",
       "      <th>Close</th>\n",
       "      <th>Return</th>\n",
       "      <th>ADX</th>\n",
       "      <th>MACD</th>\n",
       "      <th>RSI</th>\n",
       "      <th>Stoch Osc</th>\n",
       "      <th>Williams R</th>\n",
       "      <th>Bollinger High band</th>\n",
       "      <th>Bolinger Low Band</th>\n",
       "      <th>ATR</th>\n",
       "      <th>EMA9</th>\n",
       "      <th>EMA18</th>\n",
       "      <th>EMA30</th>\n",
       "    </tr>\n",
       "  </thead>\n",
       "  <tbody>\n",
       "    <tr>\n",
       "      <th>499</th>\n",
       "      <td>01/02/20</td>\n",
       "      <td>3754.24</td>\n",
       "      <td>3801.13</td>\n",
       "      <td>3754.24</td>\n",
       "      <td>3793.24</td>\n",
       "      <td>-0.231738</td>\n",
       "      <td>20.227914</td>\n",
       "      <td>27.659024</td>\n",
       "      <td>63.953279</td>\n",
       "      <td>94.427966</td>\n",
       "      <td>-5.572034</td>\n",
       "      <td>3824.978029</td>\n",
       "      <td>3622.345971</td>\n",
       "      <td>32.149592</td>\n",
       "      <td>3760.560260</td>\n",
       "      <td>3740.938644</td>\n",
       "      <td>3718.808214</td>\n",
       "    </tr>\n",
       "    <tr>\n",
       "      <th>498</th>\n",
       "      <td>01/03/20</td>\n",
       "      <td>3787.57</td>\n",
       "      <td>3787.57</td>\n",
       "      <td>3745.54</td>\n",
       "      <td>3773.37</td>\n",
       "      <td>-0.923765</td>\n",
       "      <td>20.465542</td>\n",
       "      <td>27.184367</td>\n",
       "      <td>59.200220</td>\n",
       "      <td>77.880478</td>\n",
       "      <td>-22.119522</td>\n",
       "      <td>3820.979914</td>\n",
       "      <td>3642.582086</td>\n",
       "      <td>33.260336</td>\n",
       "      <td>3763.122208</td>\n",
       "      <td>3744.352471</td>\n",
       "      <td>3722.328329</td>\n",
       "    </tr>\n",
       "    <tr>\n",
       "      <th>497</th>\n",
       "      <td>01/06/20</td>\n",
       "      <td>3764.34</td>\n",
       "      <td>3764.34</td>\n",
       "      <td>3710.94</td>\n",
       "      <td>3752.52</td>\n",
       "      <td>1.002172</td>\n",
       "      <td>19.549879</td>\n",
       "      <td>24.839443</td>\n",
       "      <td>54.613491</td>\n",
       "      <td>46.102672</td>\n",
       "      <td>-53.897328</td>\n",
       "      <td>3819.634461</td>\n",
       "      <td>3653.177539</td>\n",
       "      <td>35.343883</td>\n",
       "      <td>3761.001766</td>\n",
       "      <td>3745.212211</td>\n",
       "      <td>3724.276179</td>\n",
       "    </tr>\n",
       "    <tr>\n",
       "      <th>496</th>\n",
       "      <td>01/07/20</td>\n",
       "      <td>3760.09</td>\n",
       "      <td>3784.42</td>\n",
       "      <td>3748.13</td>\n",
       "      <td>3759.25</td>\n",
       "      <td>-0.406336</td>\n",
       "      <td>19.190929</td>\n",
       "      <td>23.256047</td>\n",
       "      <td>55.803796</td>\n",
       "      <td>53.564697</td>\n",
       "      <td>-46.435303</td>\n",
       "      <td>3815.101179</td>\n",
       "      <td>3668.822821</td>\n",
       "      <td>35.411463</td>\n",
       "      <td>3760.651413</td>\n",
       "      <td>3746.689873</td>\n",
       "      <td>3726.532554</td>\n",
       "    </tr>\n",
       "    <tr>\n",
       "      <th>495</th>\n",
       "      <td>01/08/20</td>\n",
       "      <td>3752.87</td>\n",
       "      <td>3775.43</td>\n",
       "      <td>3732.90</td>\n",
       "      <td>3772.56</td>\n",
       "      <td>1.335959</td>\n",
       "      <td>18.388512</td>\n",
       "      <td>22.812235</td>\n",
       "      <td>58.141875</td>\n",
       "      <td>68.322430</td>\n",
       "      <td>-31.677570</td>\n",
       "      <td>3816.540457</td>\n",
       "      <td>3675.405543</td>\n",
       "      <td>35.919930</td>\n",
       "      <td>3763.033130</td>\n",
       "      <td>3749.413044</td>\n",
       "      <td>3729.502067</td>\n",
       "    </tr>\n",
       "  </tbody>\n",
       "</table>\n",
       "</div>"
      ],
      "text/plain": [
       "         Date     Open     High      Low    Close    Return        ADX  \\\n",
       "499  01/02/20  3754.24  3801.13  3754.24  3793.24 -0.231738  20.227914   \n",
       "498  01/03/20  3787.57  3787.57  3745.54  3773.37 -0.923765  20.465542   \n",
       "497  01/06/20  3764.34  3764.34  3710.94  3752.52  1.002172  19.549879   \n",
       "496  01/07/20  3760.09  3784.42  3748.13  3759.25 -0.406336  19.190929   \n",
       "495  01/08/20  3752.87  3775.43  3732.90  3772.56  1.335959  18.388512   \n",
       "\n",
       "          MACD        RSI  Stoch Osc  Williams R  Bollinger High band  \\\n",
       "499  27.659024  63.953279  94.427966   -5.572034          3824.978029   \n",
       "498  27.184367  59.200220  77.880478  -22.119522          3820.979914   \n",
       "497  24.839443  54.613491  46.102672  -53.897328          3819.634461   \n",
       "496  23.256047  55.803796  53.564697  -46.435303          3815.101179   \n",
       "495  22.812235  58.141875  68.322430  -31.677570          3816.540457   \n",
       "\n",
       "     Bolinger Low Band        ATR         EMA9        EMA18        EMA30  \n",
       "499        3622.345971  32.149592  3760.560260  3740.938644  3718.808214  \n",
       "498        3642.582086  33.260336  3763.122208  3744.352471  3722.328329  \n",
       "497        3653.177539  35.343883  3761.001766  3745.212211  3724.276179  \n",
       "496        3668.822821  35.411463  3760.651413  3746.689873  3726.532554  \n",
       "495        3675.405543  35.919930  3763.033130  3749.413044  3729.502067  "
      ]
     },
     "execution_count": 123,
     "metadata": {},
     "output_type": "execute_result"
    }
   ],
   "source": [
    "sx5e_data_test=sx5e_data[sx5e_data.index <= 499]\n",
    "sx5e_data_test.head()"
   ]
  },
  {
   "cell_type": "code",
   "execution_count": null,
   "id": "a260336f-da88-4f40-8f88-75b7b02b958c",
   "metadata": {},
   "outputs": [],
   "source": []
  }
 ],
 "metadata": {
  "kernelspec": {
   "display_name": "Python 3",
   "language": "python",
   "name": "python3"
  },
  "language_info": {
   "codemirror_mode": {
    "name": "ipython",
    "version": 3
   },
   "file_extension": ".py",
   "mimetype": "text/x-python",
   "name": "python",
   "nbconvert_exporter": "python",
   "pygments_lexer": "ipython3",
   "version": "3.9.2"
  }
 },
 "nbformat": 4,
 "nbformat_minor": 5
}
